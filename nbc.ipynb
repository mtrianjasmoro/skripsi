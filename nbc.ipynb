{
  "nbformat": 4,
  "nbformat_minor": 0,
  "metadata": {
    "colab": {
      "name": "Untitled2.ipynb",
      "provenance": [],
      "include_colab_link": true
    },
    "kernelspec": {
      "name": "python3",
      "display_name": "Python 3"
    }
  },
  "cells": [
    {
      "cell_type": "markdown",
      "metadata": {
        "id": "view-in-github",
        "colab_type": "text"
      },
      "source": [
        "<a href=\"https://colab.research.google.com/github/mtrianjasmoro/skripsi/blob/master/nbc.ipynb\" target=\"_parent\"><img src=\"https://colab.research.google.com/assets/colab-badge.svg\" alt=\"Open In Colab\"/></a>"
      ]
    },
    {
      "cell_type": "code",
      "metadata": {
        "id": "wMVM6yGRtuZi",
        "colab_type": "code",
        "colab": {}
      },
      "source": [
        "import vega_datasets\n",
        "import matplotlib.pyplot as plt\n",
        "import numpy as np\n",
        "from sklearn.naive_bayes import GaussianNB\n",
        "from sklearn.model_selection import train_test_split\n",
        "from sklearn.metrics import r2_score"
      ],
      "execution_count": 0,
      "outputs": []
    },
    {
      "cell_type": "code",
      "metadata": {
        "id": "xm0ZFjfcui0-",
        "colab_type": "code",
        "colab": {}
      },
      "source": [
        "iris = vega_datasets.data.iris()\n",
        "spc = {'setosa':1,'versicolor':2, 'virginica':3}\n",
        "iris['spc'] = [spc[r] for r in iris['species']]"
      ],
      "execution_count": 0,
      "outputs": []
    },
    {
      "cell_type": "code",
      "metadata": {
        "id": "aZqrjCQlvGx7",
        "colab_type": "code",
        "colab": {}
      },
      "source": [
        "x = iris[['sepalWidth','sepalLength','petalWidth','petalLength']]\n",
        "y = iris['spc']"
      ],
      "execution_count": 0,
      "outputs": []
    },
    {
      "cell_type": "code",
      "metadata": {
        "id": "PQjhzUnYvjNj",
        "colab_type": "code",
        "colab": {}
      },
      "source": [
        "x_train, x_test, y_train,y_test = train_test_split(x,y, test_size = 0.2, random_state=42)"
      ],
      "execution_count": 0,
      "outputs": []
    },
    {
      "cell_type": "code",
      "metadata": {
        "id": "XQE5oOMmwR9L",
        "colab_type": "code",
        "colab": {
          "base_uri": "https://localhost:8080/",
          "height": 35
        },
        "outputId": "dc886e8e-a99a-4459-8708-e72b380af834"
      },
      "source": [
        "clf = GaussianNB()\n",
        "clf.fit(x_train, y_train)"
      ],
      "execution_count": 15,
      "outputs": [
        {
          "output_type": "execute_result",
          "data": {
            "text/plain": [
              "GaussianNB(priors=None, var_smoothing=1e-09)"
            ]
          },
          "metadata": {
            "tags": []
          },
          "execution_count": 15
        }
      ]
    },
    {
      "cell_type": "code",
      "metadata": {
        "id": "geWFJxAfwkrM",
        "colab_type": "code",
        "colab": {}
      },
      "source": [
        "y_pred = clf.predict(x_test)\n"
      ],
      "execution_count": 0,
      "outputs": []
    },
    {
      "cell_type": "code",
      "metadata": {
        "id": "-teNdO3fwvBk",
        "colab_type": "code",
        "colab": {
          "base_uri": "https://localhost:8080/",
          "height": 571
        },
        "outputId": "295b53f0-19cb-4e94-965a-3b36a4a0395d"
      },
      "source": [
        "y_pred == y_test"
      ],
      "execution_count": 18,
      "outputs": [
        {
          "output_type": "execute_result",
          "data": {
            "text/plain": [
              "73     True\n",
              "18     True\n",
              "118    True\n",
              "78     True\n",
              "76     True\n",
              "31     True\n",
              "64     True\n",
              "141    True\n",
              "68     True\n",
              "82     True\n",
              "110    True\n",
              "12     True\n",
              "36     True\n",
              "9      True\n",
              "19     True\n",
              "56     True\n",
              "104    True\n",
              "69     True\n",
              "55     True\n",
              "132    True\n",
              "29     True\n",
              "127    True\n",
              "26     True\n",
              "128    True\n",
              "131    True\n",
              "145    True\n",
              "108    True\n",
              "143    True\n",
              "45     True\n",
              "30     True\n",
              "Name: spc, dtype: bool"
            ]
          },
          "metadata": {
            "tags": []
          },
          "execution_count": 18
        }
      ]
    },
    {
      "cell_type": "code",
      "metadata": {
        "id": "BsOIhsnYw5uS",
        "colab_type": "code",
        "colab": {
          "base_uri": "https://localhost:8080/",
          "height": 35
        },
        "outputId": "9e86cb32-1929-41b7-9341-6c457f17483f"
      },
      "source": [
        "r2_score(y_test,y_pred)"
      ],
      "execution_count": 19,
      "outputs": [
        {
          "output_type": "execute_result",
          "data": {
            "text/plain": [
              "1.0"
            ]
          },
          "metadata": {
            "tags": []
          },
          "execution_count": 19
        }
      ]
    }
  ]
}