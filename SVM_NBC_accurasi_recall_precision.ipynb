{
 "cells": [
  {
   "cell_type": "code",
   "execution_count": 62,
   "metadata": {
    "scrolled": true
   },
   "outputs": [
    {
     "name": "stderr",
     "output_type": "stream",
     "text": [
      "[nltk_data] Downloading package stopwords to\n",
      "[nltk_data]     C:\\Users\\anjas\\AppData\\Roaming\\nltk_data...\n",
      "[nltk_data]   Package stopwords is already up-to-date!\n"
     ]
    }
   ],
   "source": [
    "# Mengimpor library\n",
    "import numpy as np\n",
    "import matplotlib.pyplot as plt\n",
    "import pandas as pd\n",
    "import re\n",
    "import nltk\n",
    "\n",
    "# Mendownload daftar kata yang ada (vocabulary)\n",
    "nltk.download('stopwords')\n",
    "from sklearn.model_selection import train_test_split\n",
    "from sklearn.feature_extraction.text import TfidfVectorizer\n",
    "from nltk.corpus import stopwords\n",
    "from Sastrawi.Stemmer.StemmerFactory import StemmerFactory\n",
    "indo = stopwords.words('indonesian')\n",
    "\n",
    "# Mengimpor dataset\n",
    "dataset = pd.read_csv('training_gojek.csv')\n"
   ]
  },
  {
   "cell_type": "code",
   "execution_count": 63,
   "metadata": {
    "scrolled": true
   },
   "outputs": [
    {
     "name": "stdout",
     "output_type": "stream",
     "text": [
      "0 ['kesal', 'driver', 'yg', 'pas', 'hujan', 'gak', 'ambil', 'order', 'udah', 'harga', 'syukur', 'yg', 'order', 'mah', 'diliatin', 'doang', 'gak', 'ambil', 'duduk', 'belah', 'ngeliatin', 'order', 'trus', 'pilih', 'yg', 'doang']\n",
      "1 ['tolong', 'donk', 'daftar', 'akun', 'gojek', 'pakai', 'ktp', 'nomor', 'kk', 'sembarang', 'akun', 'gojek', 'anak', 'sekolah', 'pakai', 'nomor', 'induk', 'siswa', 'mikir', 'order', 'fiktif', 'sinkron', 'nomor', 'hp', 'mudah', 'mudah', 'order', 'fiktif', 'percaya']\n",
      "2 ['hai', 'gojek', 'map', 'go', 'ride', 'rute', 'jalan', 'muter', 'tolong', 'baik', 'tindak', 'nya', 'ya', 'rugi']\n",
      "3 ['layan', 'gosend', 'shopie', 'busuk', 'layan', 'bandara', 'soetta', 'parah', 'bawa', 'kode', 'pesan', 'langsung', 'tanganin', 'tugas', 'gocar', 'bilang', 'urut', 'nama', 'gk', 'catat', 'gk', 'tuju', 'belaga', 'sibuk', 'tlp', 'tlpn', 'menit', 'nama', 'gk', 'bilang', 'catat', 'du', 'ulas', 'lengkaplayanan', 'gosend', 'shopie', 'busuk', 'layan', 'bandara', 'soetta', 'parah', 'bawa', 'kode', 'pesan', 'langsung', 'tanganin', 'tugas', 'gocar', 'bilang', 'urut', 'nama', 'gk', 'catat', 'gk', 'tuju', 'belaga', 'sibuk', 'tlp', 'tlpn', 'menit', 'nama', 'gk', 'bilang', 'catat', 'urut', 'nya', 'nya']\n",
      "4 ['order', 'gofood', 'driver', 'dekat', 'pakai', 'tuyul', 'member', 'mod', 'gacor', 'kasihan', 'main', 'murni', 'jujur', 'gojek', 'waras', 'aja', 'pakai', 'tuyul', 'minggu', 'driver', 'dekat', 'gak', 'driver', 'prioritas', 'ya', 'langsung', 'suruh', 'seba', 'ulas', 'lengkaporderan', 'gofood', 'driver', 'dekat', 'pakai', 'tuyul', 'member', 'mod', 'gacor', 'kasihan', 'main', 'murni', 'jujur', 'gojek', 'waras', 'aja', 'pakai', 'tuyul', 'minggu', 'driver', 'dekat', 'gak', 'driver', 'prioritas', 'ya', 'langsung', 'suruh', 'driver', 'masuk', 'member', 'tolol']\n",
      "5 ['isi', 'gopay', 'beli', 'pulsa', 'gopulsa', 'blokir', 'hubung', 'cs', 'buat', 'buat', 'beli', 'pulsa', 'tp', 'blokir', 'layan', 'sungguh', 'buruk', 'andal', 'kecewa', 'ulas', 'lengkapsaya', 'isi', 'gopay', 'beli', 'pulsa', 'gopulsa', 'blokir', 'hubung', 'cs', 'buat', 'buat', 'beli', 'pulsa', 'tp', 'blokir', 'layan', 'sungguh', 'buruk', 'andal', 'kecewa', 'nomor', 'tiket', 'keluh', 'cs', 'yg', 'layan', 'erinda', 'agustin', 'tolong', 'perhati', 'biar', 'costumer', 'yg', 'rugi', 'rugi', 'materi']\n",
      "6 ['bulan', 'x', 'diupgrade', 'aplikasi', 'ga', 'minggu', 'voucher', 'minggu', 'ga', 'pesan', 'gojek', 'bayar', 'cash', 'poin', 'kali', 'ga', 'mau', 'diupgrade', 'aplikasi', 'rugi', 'customer', 'komplain', 'ga', 'tanggap']\n",
      "7 ['hapal', 'masalah', 'tdk', 'update', 'gojek', 'sdh', 'update', 'tdk', 'mes', 'gojek', 'gosend', 'apa', 'klik', 'sub', 'menu', 'muncul', 'posisi', 'tdk', 'dgn', 'alas', 'gojek', 'is', 'having', 'a', 'trouble', 'with', 'google', 'p', 'ulas', 'lengkapbagaimana', 'hapal', 'masalah', 'tdk', 'update', 'gojek', 'sdh', 'update', 'tdk', 'mes', 'gojek', 'gosend', 'apa', 'klik', 'sub', 'menu', 'muncul', 'posisi', 'tdk', 'dgn', 'alas', 'gojek', 'is', 'having', 'a', 'trouble', 'with', 'google', 'play', 'service', 'please', 'try', 'again', 'pdhl', 'sblm', 'update', 'sdh', 'trip', 'sblmnya', 'tolong', 'direspon']\n",
      "8 ['gopay', 'raib', 'ambil', 'no', 'yg', 'menelfon', 'mengatasnamakan', 'gojek', 'menelfon', 'katay', 'dpt', 'hadiah', 'sekian', 'juta', 'tp', 'atm', 'tp', 'karna', 'gak', 'atm', 'stelah', 'gopay', 'hilang', 'saldo', 'dg']\n",
      "9 ['signal', 'bagus', 'tpi', 'tulis', 'akses', 'tolak', 'lihat', 'voucher', 'cek', 'out', 'makan', 'gofood', 'lokasi', 'setting', 'pilih', 'lokasi', 'gofood', 'sungguh', 'nyaman', 'aplikasi', 'gojek', 'skrang']\n",
      "10 ['baik', 'masak', 'set', 'lokasi', 'tuju', 'nya', 'nggak', 'temu', 'yg', 'tuju', 'real', 'pas', 'order', 'go', 'ride', 'nyari', 'tuju', 'nggak']\n",
      "11 ['aplikasi', 'knp', 'ya', 'skrg', 'susah', 'bgt', 'suruh', 'pake', 'pin', 'amanin', 'akun', 'gk', 'sms', 'verifikasi', 'jaring', 'penuh', 'tlpn', 'suruh', 'restart', 'aja', 'emg', 'udh', 'gk', 'pake']\n",
      "12 ['woii', 'gojek', 'knpa', 'gw', 'gk', 'pakai', 'gopay', 'gw', 'server', 'sibu', 'gara', 'gw', 'gk', 'pakai', 'gopay', 'gw', 'bikin', 'rugi', 'gw', 'aja', 'lu', 'tau', 'kyk', 'gni', 'mending', 'gk', 'ush', 'adakan', 'gopay', 'mending', 'bayar', 'cash', 'aja', 'gak']\n",
      "13 ['assalamualaikum', 'minnn', 'kode', 'voucher', 'yg', 'k', 'voucher', 'pilih', 'k', 'minimal', 'beli', 'k', 'udah', 'saran', 'cepat', 'turunin', 'min', 'minimal', 'beli', 'min', 'k', 'udh', 'enak', 'min', 'k', 'terimakasih']\n",
      "14 ['ayo', 'update', 'aplikasi', 'bagus', 'rusak', 'ken', 'pesan', 'gofood', 'mentok', 'mancari', 'driver', 'coba', 'bagai', 'jaring', 'server', 'gopay', 'betulin']\n",
      "15 ['sumpah', 'jelek', 'banget', 'aplikasi', 'gua', 'paham', 'hasil', 'karya', 'anak', 'negeri', 'tp', 'driver', 'gojek', 'gua', 'temuin', 'darah', 'ngomongnya', 'ngegas', 'ga', 'tau', 'sopan', 'santun', 'mohon', 'kasih', 'tau', 'drivernya']\n",
      "16 ['langgan', 'udh', 'ga', 'dipake', 'ga', 'cari', 'alamat', 'ga', 'go', 'pulsa', 'prmbayaran', 'gagal', 'muat', 'saldo', 'gopay', 'pajang', 'doang', 'ampe', 'udh', 'bulan', 'ga', 'biza', 'dipake', 'uninstal', 'aja']\n",
      "17 ['driver', 'gojek', 'yg', 'sok', 'sombong', 'anarkis', 'gak', 'sopan', 'kasihan', 'driver', 'yg', 'jatuh', 'jelek', 'an', 'driver', 'yg', 'driver', 'yg', 'kasihan', 'tolong', 'bijak', 'woooyyy']\n",
      "18 ['ga', 'order', 'minta', 'tolak', 'order', 'gofood', 'ga', 'minta', 'tolak', 'truss', 'aplikasi', 'udah', 'ga', 'cocok', 'pindah', 'k', 'grab', 'aja']\n",
      "19 ['kecewa', 'gojek', 'kemarin', 'promo', 'payday', 'promonya', 'akun', 'gojek', 'masalah', 'ganti', 'pin', 'update', 'aplikasi', 'nya', 'log', 'out', 'login', 'kecewa', 'layan']\n",
      "20 ['apps', 'dukarenakan', 'butuh', 'kendala', 'aplikasi', 'terkadang', 'gps', 'realtime', 'accuracy', 'kadang', 'driver', 'jemput', 'hindar', 'titik', 'jemput', 'tunggu', 'pasti', 'modu', 'ulas', 'lengkapsaya', 'apps', 'dukarenakan', 'butuh', 'kendala', 'aplikasi', 'terkadang', 'gps', 'realtime', 'accuracy', 'kadang', 'driver', 'jemput', 'hindar', 'titik', 'jemput', 'tunggu', 'pasti', 'modus', 'driver', 'meng', 'cancel', 'performa', 'nya', 'turun', 'jemput', 'hindar', 'kesal', 'order', 'cancel', 'tnpa', 'hrus', 'yg', 'mlakukan']\n",
      "21 ['kssi', 'bintang', 'ya', 'sii', 'aplikasi', 'susah', 'kali', 'd', 'pakai', 'd', 'blg', 'offline', 'pdhl', 'kalo', 'grab', 'bsa', 'mah', 'pake', 'telkomsel', 'update', 'brpa', 'x', 'kalo', 'krn', 'pay', 'later', 'yg', 'puluh', 'ribu', 'uninstall', 'aplikasi', 'tlong', 'knp', 'tdk', 'ma', 'ulas', 'lengkapsaya', 'kssi', 'bintang', 'ya', 'sii', 'aplikasi', 'susah', 'kali', 'd', 'pakai', 'd', 'blg', 'offline', 'pdhl', 'kalo', 'grab', 'bsa', 'mah', 'pake', 'telkomsel', 'update', 'brpa', 'x', 'kalo', 'krn', 'pay', 'later', 'yg', 'puluh', 'ribu', 'uninstall', 'aplikasi', 'tlong', 'knp', 'tdk', 'kena', 'denda', 'orgnya', 'kooperatif', 'terimakasih']\n",
      "22 ['nilai', 'bintang', 'malam', 'pesan', 'ojol', 'tunggu', 'menit', 'lbih', 'nya', 'alas', 'sang', 'ojol', 'pakai', 'jaket', 'emang', 'nya', 'pakai', 'jaket', 'kah', 'ohhh', 'nooo', 'sang', 'ojol', 'mulut', 'nya', 'bau', 'miras', 'harus', 'ojol', 'kayak', 'gitu', 'biar', 'saj', 'ulas', 'lengkapkenapa', 'nilai', 'bintang', 'malam', 'pesan', 'ojol', 'tunggu', 'menit', 'lbih', 'nya', 'alas', 'sang', 'ojol', 'pakai', 'jaket', 'emang', 'nya', 'pakai', 'jaket', 'kah', 'ohhh', 'nooo', 'sang', 'ojol', 'mulut', 'nya', 'bau', 'miras', 'harus', 'ojol', 'kayak', 'gitu', 'biar', 'jalan', 'gimana', 'kendara', 'kendraan', 'motor', 'kondisi', 'pengaruh', 'alcohol', 'tolong', 'atur', 'kali', 'nya', 'lo']\n",
      "23 ['login', 'nomer', 'dimasukin', 'login', 'katakata', 'ups', 'salah', 'hubung', 'via', 'sosmed', 'respon']\n",
      "24 ['oknum', 'tanggung', 'alas', 'had', 'gopay', 'nila', 'jt', 'situs', 'gojek', 'inti', 'aman', 'pihan', 'aplikasi', 'aman', 'bocor', 'bahaya', 'rugi', 'orang', 'uninstal']\n",
      "25 ['gojek', 'kalo', 'beli', 'barang', 'top', 'up', 'gk', 'bayar', 'pake', 'gojek', 'bangsat', 'pasword', 'nya', 'kalo', 'bener', 'tulis', 'kaya', 'ulang', 'kali', 'kirim', 'kode', 'salah', 'coba', 'mulu']\n",
      "26 ['cepat', 'drivernya', 'kalah', 'aplikasi', 'belah', 'aplikasi', 'mahal', 'layan', 'drivernya', 'cepat', 'iya', 'murah', 'sih', 'nunggunya', 'menit', 'driver', 'pilih', 'pilih', 'order', 'coba', 'tingkat', 'layan', 'harga', 'murah', 'jamin', 'orang', 'l', 'ulas', 'lengkapkecepatan', 'drivernya', 'kalah', 'aplikasi', 'belah', 'aplikasi', 'mahal', 'layan', 'drivernya', 'cepat', 'iya', 'murah', 'sih', 'nunggunya', 'menit', 'driver', 'pilih', 'pilih', 'order', 'coba', 'tingkat', 'layan', 'harga', 'murah', 'jamin', 'orang', 'gojek']\n",
      "27 ['kali', 'top', 'up', 'go', 'pay', 'atm', 'bni', 'saldo', 'aplikasi', 'masuk', 'saldo', 'rekening', 'kurang', 'konfirmasi', 'bni', 'lapor', 'go', 'jek', 'transfer', 'go', 'pay', 'masuk', 'saldo', 'go', 'pay', 'rugi', 'ribu', 'uang', 'sa', 'ulas', 'lengkapsaya', 'kali', 'top', 'up', 'go', 'pay', 'atm', 'bni', 'saldo', 'aplikasi', 'masuk', 'saldo', 'rekening', 'kurang', 'konfirmasi', 'bni', 'lapor', 'go', 'jek', 'transfer', 'go', 'pay', 'masuk', 'saldo', 'go', 'pay', 'rugi', 'ribu', 'uang', 'hilang', 'go', 'jek']\n"
     ]
    },
    {
     "name": "stdout",
     "output_type": "stream",
     "text": [
      "28 ['belum', 'mohon', 'maaf', 'singgung', 'pimpin', 'sangat', 'kecewa', 'lapor', 'isi', 'gopay', 'yg', 'blum', 'masuk', 'trima', 'tampa', 'respon', 'tanggal', 'desember', 'mohon', 'respon', 'resi', 'kirim', 'email', 'mohon', 'b', 'ulas', 'lengkapse', 'belum', 'mohon', 'maaf', 'singgung', 'pimpin', 'sangat', 'kecewa', 'lapor', 'isi', 'gopay', 'yg', 'blum', 'masuk', 'trima', 'tampa', 'respon', 'tanggal', 'desember', 'mohon', 'respon', 'resi', 'kirim', 'email', 'mohon', 'urus', 'pt', 'gojek', 'tindak', 'lanjut', 'terima', 'kasih']\n",
      "29 ['super', 'gob', 'gk', 'masak', 'ganti', 'menu', 'drivernya', 'gimana', 'sistem', 'cancel', 'call', 'center', 'yg', 'cancel', 'driverr', 'pa', 'customer', 'restonya', 'enak', 'ganti', 'menu', 'free']\n",
      "30 ['tolong', 'butuh', 'org', 'yg', 'nama', 'fotman', 'driver', 'gojek', 'batam', 'tolong', 'jumpa', 'udah', 'gk', 'sopan', 'mabuk', 'maki', 'maki', 'costemer', 'tolong', 'respon', 'pandang', 'jelek', 'gojek', 'karna', 'kmi', 'rame', 'info', 'kabarin']\n",
      "31 ['kendala', 'solusi', 'ga', 'tindak', 'kes', 'sepele', 'customer', 'suruh', 'ngejar', 'misi', 'promo', 'tp', 'ga', 'sdh', 'tuntas', 'zonk', 'jelas', 'cs', 'nya', 'kes', 'bod', 'h', 'malas', 'baca', 'tentu', 'yg']\n",
      "32 ['tanggap', 'hadap', 'keluh', 'email', 'nggak', 'balas', 'adu', 'keluh', 'panggil', 'lengkap', 'data', 'email', 'guwe', 'bales', 'email', 'nya', 'nggak', 'respon']\n",
      "33 ['gopay', 'rb', 'aplikasi', 'perintah', 'masuk', 'lg', 'akun', 'gopay', 'ilang', 'mohon', 'bijak', 'jadi', 'rugi']\n",
      "34 ['oiii', 'kembang', 'aplikasi', 'hapus', 'fitur', 'cancel', 'pesan', 'dongg', 'kasi', 'ojol', 'udah', 'beli', 'sen', 'sampe', 'juta', 'juta', 'ehhh', 'dicancel', 'fitur', 'cancel', 'marak', 'prank', 'ojol', 'ojol', 'terima', 'diprank', 'otak', 'ambil', 'sempat']\n",
      "35 ['butuh', 'ratus', 'baik', 'servernya', 'aplikasi', 'gojek', 'update', 'ulang', 'kali', 'server', 'sibuk', 'baik', 'capek']\n",
      "36 ['bagus', 'sy', 'gabisa', 'order', 'apa', 'aplikasi', 'kalo', 'hp', 'sy', 'sy', 'pindah', 'app', 'hp', 'teman', 'saudara', 'tari', 'gopay', 'pesan', 'lainlain', 'order', 'muncul', 'minta', 'tolak', 'tolong', 'cek', 'sy', 'kirim', 'keluh', 'sy', 'email', 'ulas', 'lengkapsebenarnya', 'bagus', 'sy', 'gabisa', 'order', 'apa', 'aplikasi', 'kalo', 'hp', 'sy', 'sy', 'pindah', 'app', 'hp', 'teman', 'saudara', 'tari', 'gopay', 'pesan', 'lainlain', 'order', 'muncul', 'minta', 'tolak', 'tolong', 'cek', 'sy', 'kirim', 'keluh', 'sy', 'email', 'respon']\n",
      "37 ['login', 'error', 'melulu', 'ngga', 'jelas', 'error', 'gimana', 'upgrade', 'gopay', 'kamera', 'mental', 'mulu', 'suruh', 'pindah', 'device', 'oke', 'coba', 'hp', 'pas', 'narik', 'bank', 'saldo', 'rp', 'respon', 'cs', 'solutif']\n",
      "38 ['akun', 'beku', 'krn', 'cancel', 'pdhl', 'driver', 'yg', 'tdk', 'bawa', 'uang', 'yg', 'utk', 'order', 'hokben', 'yg', 'rp', 'utk', 'beli', 'paket', 'hokben', 'x', 'driver', 'yg', 'batal', 'krn', 'uang', 'sedihhhh', 'dehhhh']\n",
      "39 ['kapok', 'deh', 'pake', 'gojek', 'sumpah', 'suruh', 'ganti', 'hp', 'biar', 'gunain', 'gojek', 'heloww', 'nemen', 'amaat', 'ya', 'guna', 'loh', 'mending', 'pake', 'grab', 'deh', 'gojek', 'ribet', 'guys']\n",
      "40 ['males', 'ni', 'pakai', 'gojek', 'mending', 'pakai', 'grab', 'driver', 'suka', 'driver', 'yg', 'yg', 'masuk', 'driver', 'yg', 'nunggu', 'nya', 'gw', 'salahin', 'driver', 'yg', 'driver', 'yg', 'yg', 'order', 'jdi', 'gw', 'nungguin', 'mending', 'gw', 'pakai', 'grab', 'ulas', 'lengkapmakin', 'males', 'ni', 'pakai', 'gojek', 'mending', 'pakai', 'grab', 'driver', 'suka', 'driver', 'yg', 'yg', 'masuk', 'driver', 'yg', 'nunggu', 'nya', 'gw', 'salahin', 'driver', 'yg', 'driver', 'yg', 'yg', 'order', 'jdi', 'gw', 'nungguin', 'mending', 'gw', 'pakai', 'grab', 'deh']\n",
      "41 ['guna', 'gojek', 'kali', 'trouble', 'mission', 'gofood', 'yg', 'tiga', 'aplikasi', 'error', 'kantung', 'pdhal', 'driver', 'sdh', 'dpt', 'oderan', 'mission', 'selesai', 'kantung', 'email', 'no', 'respon']\n",
      "42 ['kecewa', 'aplikasi', 'gojek', 'ulang', 'ulang', 'kali', 'upgred', 'tarik', 'saldo', 'ehh', 'tolok', 'ktp', 'pas', 'bilang', 'id', 'ktp', 'sya', 'upgred', 'gara', 'upgred', 'tarik', 'saldo', 'rp', 'tarik', 's', 'ulas', 'lengkapsaya', 'kecewa', 'aplikasi', 'gojek', 'ulang', 'ulang', 'kali', 'upgred', 'tarik', 'saldo', 'ehh', 'tolok', 'ktp', 'pas', 'bilang', 'id', 'ktp', 'sya', 'upgred', 'gara', 'upgred', 'tarik', 'saldo', 'rp', 'tarik', 'mengunakan', 'aplikasi', 'gojek', 'sya', 'promosi', 'saudara', 'teman', 'sya']\n",
      "43 ['saat', 'driver', 'order', 'go', 'food', 'balas', 'chat', 'driver', 'karna', 'aplikasi', 'tulis', 'akun', 'blokir', 'driver', 'tunggu', 'balas', 'chat', 'driver', 'meng', 'cancel', 'order', 'jalan', 'kaki', 'malam', 'beli', 'makan', 'sendal', 'putus', 'sendal', 'ri', 'ulas', 'lengkapdisaat', 'driver', 'order', 'go', 'food', 'balas', 'chat', 'driver', 'karna', 'aplikasi', 'tulis', 'akun', 'blokir', 'driver', 'tunggu', 'balas', 'chat', 'driver', 'meng', 'cancel', 'order', 'jalan', 'kaki', 'malam', 'beli', 'makan', 'sendal', 'putus', 'sendal', 'ribu', 'ongkir', 'ribu']\n",
      "44 ['ganti', 'no', 'tlp', 'aja', 'susah', 'udah', 'tau', 'no', 'tlp', 'akun', 'gue', 'pakai', 'no', 'tlp', 'hangus', 'blokir', 'go', 'pay', 'gue', 'isi', 'lumanyan', 'beli', 'aja', 'pakai', 'go', 'life', 'kode', 'verifikasi', 'gimana', 'coba', 'go', 'jek', 'sdm', 'bagus', 'solusi', 'cepat', 'doang']\n",
      "45 ['skrg', 'akses', 'gojek', 'gimana', 'kecewa', 'minta', 'tolak', 'gitu', 'trs', 'muncul', 'nya', 'tolong', 'benerin', 'akun']\n",
      "46 ['ojol', 'gojek', 'harap', 'pepet', 'ga', 'sen', 'online', 'hp', 'low', 'bat', 'pesan', 'nya', 'off', 'line', 'dinaikin', 'harga', 'gw', 'kasih', 'ga', 'gitu', 'orang', 'susah', 'cari', 'sempat']\n",
      "47 ['ok', 'uninstall', 'kasih', 'bintang', 'pakai', 'fitur', 'gojek', 'forbiden', 'request', 'coba', 'youtube', 'google', 'hasil', 'contact', 'cs', 'hasil', 'dengar', 'teman', 'guna', 'gojek', 'ganti', 'device', 'p', 'ulas', 'lengkapok', 'uninstall', 'kasih', 'bintang', 'pakai', 'fitur', 'gojek', 'forbiden', 'request', 'coba', 'youtube', 'google', 'hasil', 'contact', 'cs', 'hasil', 'dengar', 'teman', 'guna', 'gojek', 'ganti', 'device', 'putus', 'pindah', 'vendor', 'belah', 'grab']\n",
      "48 ['woyyy', 'napa', 'akun', 'gojek', 'upsss', 'yg', 'salah', 'trs', 'coba', 'login', 'd', 'hp', 'lu', 'mabok', 'gimana', 'hp', 'gw', 'error', 'voucher', 'langgan', 'gw', 'cuk']\n",
      "49 ['order', 'tp', 'driver', 'byk', 'alas', 'dibatalin', 'dah', 'batalin', 'akun', 'ndk', 'tolonglh', 'kasi', 'ingat', 'tuk', 'drivenya', 'konsumen', 'butuh', 'cepat', 'kecewa']\n",
      "50 ['rute', 'gojek', 'sesuai', 'jalan', 'aspal', 'cepat', 'jarak', 'tempuh', 'jalan', 'tanah', 'jarak', 'tempuh', 'muter', 'lewat', 'rumah', 'liar', 'kandang', 'kambing', 'jln', 'becek', 'bebatuan', 'kecewa', 'tambah', 'biaya', 'transportasi', 'nya']\n",
      "51 ['gojek', 'kontol', 'promo', 'promo', 'anak', 'doank', 'promo', 'cuman', 'php', 'in', 'aja', 'apk', 'karya', 'anak', 'bangsa', 'cuman', 'hoax', 'bikin', 'orang', 'negri', 'susah', 'rakyat', 'indonesia']\n",
      "52 ['harus', 'nya', 'selaras', 'tarif', 'ubah', 'tuju', 'posisi', 'driver', 'antar', 'rubah', 'harga', 'mending', 'belah', 'dah', 'tolong', 'ya', 'kalo', 'kaya', 'bgini', 'bikin', 'konsumen', 'rugi', 'kecewa']\n",
      "53 ['aplikasi', 'penipuu', 'cashback', 'cashback', 'tai', 'pass', 'gw', 'beli', 'gak', 'cashback', 'nya', 'rugi', 'gw', 'uninstall', 'aja', 'njirr', 'ahh', 'gak', 'niat', 'top', 'up', 'game', 'murah', 'rugi', 'gara', 'gra', 'apk', 'kalo', 'baik', 'gw', 'rugi', 'mending', 'pake', 'grabb', 'app', 'anak', 'bangsat']\n",
      "54 ['gimana', 'kak', 'withdraw', 'akun', 'gojek', 'driver', 'akun', 'gopay', 'kostumer', 'milik', 'tambah', 'saldo', 'nomer', 'hpny', 'udah', 'sudan', 'x', 'nya', 'ttep', 'saldo', 'gopay', 'mohon', 'tindak', 'lanjut', 'rating', 'bintang', 'wlpun', 'nominal', 'gak', 'hak', 'to', 'ulas', 'lengkapgimana', 'kak', 'withdraw', 'akun', 'gojek', 'driver', 'akun', 'gopay', 'kostumer', 'milik', 'tambah', 'saldo', 'nomer', 'hpny', 'udah', 'sudan', 'x', 'nya', 'ttep', 'saldo', 'gopay', 'mohon', 'tindak', 'lanjut', 'rating', 'bintang', 'wlpun', 'nominal', 'gak', 'hak', 'tolong', 'kerja', 'sama', 'd', 'urus']\n",
      "55 ['gopay', 'mas', 'saldonx', 'tp', 'd', 'tolong', 'd', 'baik', 'lg', 'akunx', 'jng', 'bikin', 'kecewa', 'langgan', 'cz', 'sy', 'uda', 'pakai', 'gojek', 'knapa', 'kendala', 'mengunakan', 'gopay']\n"
     ]
    },
    {
     "name": "stdout",
     "output_type": "stream",
     "text": [
      "56 ['argo', 'lonjak', 'utk', 'driver', 'kala', 'hujan', 'aplikasi', 'customer', 'argo', 'nya', 'tp', 'aplikasi', 'driver', 'argonya', 'gak', 'argo', 'lonjak', 'nya', 'telen', 'aplikator', 'driver', 'yg', 'basah', 'an', 'resiko', 'tp', 'gak', 'harga']\n",
      "57 ['update', 'parah', 'pesan', 'goride', 'gofood', 'hp', 'update', 'update', 'normal', 'aja', 'pas', 'logout', 'login', 'hape', 'hp', 'gak', 'iya', 'sen', 'pinjem', 'hp', 'orang', 'ulas', 'lengkapupdate', 'parah', 'pesan', 'goride', 'gofood', 'hp', 'update', 'update', 'normal', 'aja', 'pas', 'logout', 'login', 'hape', 'hp', 'gak', 'iya', 'sen', 'pinjem', 'hp', 'orang', 'aneh']\n",
      "58 ['cs', 'nya', 'senang', 'kali', 'telepon', 'kali', 'sibuk', 'twitter', 'dm', 'direspon', 'mention', 'respons', 'cust', 'direspon', 'mon', 'map', 'nggak', 'resprct']\n",
      "59 ['guna', 'perhati', 'kabar', 'guna', 'pakai', 'gopay', 'mission', 'kali', 'kali', 'status', 'selesai', 'gopay', 'nya', 'suka', 'ganti', 'tunai', 'isi', 'gopay', 'promo', 'laku', 'guna', 'pengg', 'ulas', 'lengkapkenapa', 'guna', 'perhati', 'kabar', 'guna', 'pakai', 'gopay', 'mission', 'kali', 'kali', 'status', 'selesai', 'gopay', 'nya', 'suka', 'ganti', 'tunai', 'isi', 'gopay', 'promo', 'laku', 'guna', 'guna', 'anak', 'tiri', 'tolong', 'baik', 'layan']\n",
      "60 ['padang', 'page', 'gofood', 'jual', 'via', 'online', 'kecewa', 'krn', 'hujan', 'antri', 'orang', 'drivernya', 'sabar', 'mbatalkan', 'order', 'trs', 'guna', 'aplikasi', 'kalo', 'antri', 'tdk', 'hujan', 'orang', 'kalo', 'sukses', 'hrs', 'susah', 'payah', 'tol', 'ulas', 'lengkapsaya', 'padang', 'page', 'gofood', 'jual', 'via', 'online', 'kecewa', 'krn', 'hujan', 'antri', 'orang', 'drivernya', 'sabar', 'mbatalkan', 'order', 'trs', 'guna', 'aplikasi', 'kalo', 'antri', 'tdk', 'hujan', 'orang', 'kalo', 'sukses', 'hrs', 'susah', 'payah', 'tolong', 'tingkat', 'lg', 'layan']\n",
      "61 ['kecewa', 'gojek', 'ongkos', 'goride', 'mahal', 'daerah', 'lampung', 'tawar', 'harga', 'tumpang', 'turun', 'tarik', 'pdhl', 'layan', 'driver', 'kpd', 'tumpang', 'bagus', 'muas', 'mohon', 'evaluasi', 'cepat', 'kritik', 'konstruktif']\n",
      "62 ['aplikasi', 'ga', 'pakai', 'paylater', 'ak', 'tagih', 'paylater', 'tagih', 'tambah', 'tdk', 'bayar', 'dasar', 'aplikasi', 'makan', 'riba', 'ak', 'ga', 'pakai', 'paylater', 'tlp', 'pay', 'later', 'bayar', 'tagih', 'mending', 'uninstal', 'aplikasi', 'jebak', 'costum', 'ulas', 'lengkapaplikasi', 'ga', 'pakai', 'paylater', 'ak', 'tagih', 'paylater', 'tagih', 'tambah', 'tdk', 'bayar', 'dasar', 'aplikasi', 'makan', 'riba', 'ak', 'ga', 'pakai', 'paylater', 'tlp', 'pay', 'later', 'bayar', 'tagih', 'mending', 'uninstal', 'aplikasi', 'jebak', 'costumer']\n",
      "63 ['aplikasi', 'gojek', 'hp', 'eror', 'eror', 'suspend', 'gak', 'tau', 'sebab', 'maaf', 'pindah', 'aplikasi', 'kecewa', 'cinta', 'buat', 'anak', 'bangsa', 'negeri', 'cinta', 'aplikasi', 'bantu', 'mudah', 'erti', 'umur', 'ulas', 'lengkapaplikasi', 'gojek', 'hp', 'eror', 'eror', 'suspend', 'gak', 'tau', 'sebab', 'maaf', 'pindah', 'aplikasi', 'kecewa', 'cinta', 'buat', 'anak', 'bangsa', 'negeri', 'cinta', 'aplikasi', 'bantu', 'mudah', 'erti', 'umur', 'terimakasih', 'kerja', 'nya', 'minggu', 'jasa', 'aplikasi', 'yg', 'percaya', 'terimakasih']\n",
      "64 ['akun', 'customer', 'buka', 'tagih', 'findaya', 'masuk', 'akun', 'customer', 'tolong', 'bales']\n",
      "65 ['kecewa', 'paylater', 'aplikasi', 'enak', 'enak', 'nagih', 'telpon', 'tagih', 'bayar', 'pakai', 'bilang', 'orang', 'tiga', 'tolong', 'aplikasi', 'siksa', 'rakyat', 'sok', 'tuju', 'mudah', 'menyiksaa', 'paylater', 'ohh', 'beku', 'aplikasi', 'tdk', 'dpt', 'berta', 'ulas', 'lengkapkecewa', 'paylater', 'aplikasi', 'enak', 'enak', 'nagih', 'telpon', 'tagih', 'bayar', 'pakai', 'bilang', 'orang', 'tiga', 'tolong', 'aplikasi', 'siksa', 'rakyat', 'sok', 'tuju', 'mudah', 'menyiksaa', 'paylater', 'ohh', 'beku', 'aplikasi', 'tdk', 'dpt', 'tanggung', 'jwab']\n",
      "66 ['top', 'up', 'gopay', 'gerai', 'alfamart', 'toko', 'nya', 'sukses', 'saldo', 'nya', 'gak', 'masuk', 'masuk', 'komplain', 'email', 'respon', 'saldo', 'masuk']\n",
      "67 ['gmn', 'sih', 'ko', 'keluar', 'gojek', 'masuk', 'jga', 'udh', 'masukin', 'no', 'telp', 'trus', 'suruh', 'ngisi', 'kode', 'verifikasi', 'kirim', 'sms', 'ko', 'tunggu', 'blom', 'jga', 'sms', 'nya', 'gmn', 'sih', 'kesel']\n",
      "68 ['filter', 'resto', 'coba', 'kl', 'tmpt', 'mkn', 'favorit', 'aja', 'ga', 'bs', 'sen', 'alas', 'nya', 'tkut', 'dingin', 'makan', 'minimal', 'kasih', 'radius', 'km', 'gila', 'aja', 'kmrn', 'bs', 'sen', 'tp', 'semenjak', 'fitur', 'ga', 'bs', 'sen', 'sen', 'tmpt', 'ogah', 'tau']\n",
      "69 ['tolong', 'sanksi', 'gojek', 'plat', 'nomer', 'l', 'jt', 'nama', 'andriono', 'pangestu', 'pesan', 'makan', 'cek', 'toko', 'konfirmasi', 'telpon', 'angkat', 'wa', 'tunggu', 'pesan', 'konfirmasi', 'go', 'ulas', 'lengkaptolong', 'sanksi', 'gojek', 'plat', 'nomer', 'l', 'jt', 'nama', 'andriono', 'pangestu', 'pesan', 'makan', 'cek', 'toko', 'konfirmasi', 'telpon', 'angkat', 'wa', 'tunggu', 'pesan', 'konfirmasi', 'gojek']\n",
      "70 ['aplikasi', 'gojek', 'telpon', 'customer', 'service', 'email', 'jawab', 'belit', 'suruh', 'login', 'perangkat', 'login', 'perangkat', 'order', 'disuspend', 't', 'ulas', 'lengkapaplikasi', 'gojek', 'telpon', 'customer', 'service', 'email', 'jawab', 'belit', 'suruh', 'login', 'perangkat', 'login', 'perangkat', 'order', 'disuspend', 'jelas', 'suspend']\n",
      "71 ['kecewa', 'aplikasi', 'tolong', 'tingkat', 'layan', 'langgan', 'alami', 'mesan', 'go', 'food', 'pesan', 'sesuai', 'terima', 'struk', 'belanja', 'terima', 'kirim', 'email', 'customer', 'support', 'h', 'ulas', 'lengkapsaya', 'kecewa', 'aplikasi', 'tolong', 'tingkat', 'layan', 'langgan', 'alami', 'mesan', 'go', 'food', 'pesan', 'sesuai', 'terima', 'struk', 'belanja', 'terima', 'kirim', 'email', 'customer', 'support', 'terima', 'bukti', 'foto', 'struk', 'pesan', 'salah', 'terima', 'customer', 'support', 'tindak', 'lanjut', 'adu']\n",
      "72 ['n', 'lancar', 'aja', 'layan', 'nya', 'gopay', 'admin', 'nya', 'klo', 'top', 'up', 'tarik', 'dana', 'biaya', 'kecewa', 'inti', 'nya', 'dikit', 'duit', 'ovo', 'top', 'up', 'bebas', 'admin']\n",
      "73 ['mes', 'gofood', 'ecek', 'order', 'menu', 'mesan', 'langsung', 'henti', 'aplikasi', 'order', 'fiktif', 'kait', 'aplikasi', 'yg', 'henti', 'balas', 'driver', 'antar', 'makan', 'ul', 'ulas', 'lengkapsetelah', 'mes', 'gofood', 'ecek', 'order', 'menu', 'mesan', 'langsung', 'henti', 'aplikasi', 'order', 'fiktif', 'kait', 'aplikasi', 'yg', 'henti', 'balas', 'driver', 'antar', 'makan', 'ulas', 'tulis', 'alami', 'jadi', 'langsung', 'kirim', 'ulas']\n",
      "74 ['uang', 'atm', 'istri', 'habis', 'kode', 'verifikasi', 'asal', 'pakai', 'gopay', 'ntah', 'knp', 'bgni', 'ga', 'paham', 'aplikasi', 'gojek', 'tolong', 'bantu', 'gojek', 'uang', 'lumayan', 'yg', 'hilang']\n",
      "75 ['kecewa', 'november', 'tagih', 'pay', 'later', 'nominal', 'ga', 'rusak', 'citra', 'gojek', 'reputasi', 'kurang', 'sy', 'inboks', 'tagih', 'bayar', 'kena', 'denda', 'hari', 'yg', 'lucu', 'koq', 'pemberitahuan', 'diinb', 'ulas', 'lengkapsaya', 'kecewa', 'november', 'tagih', 'pay', 'later', 'nominal', 'ga', 'rusak', 'citra', 'gojek', 'reputasi', 'kurang', 'sy', 'inboks', 'tagih', 'bayar', 'kena', 'denda', 'hari', 'yg', 'lucu', 'koq', 'pemberitahuan', 'diinbox', 'hilang', 'sy', 'desak', 'pakai', 'pay', 'later', 'oktober', 'bayar', 'tagih', 'ribu', 'ga', 'yg', 'november', 'kemarin']\n",
      "76 ['tolong', 'bantu', 'isi', 'gopay', 'masuk', 'nominal', 'layan', 'lapar', 'tolong', 'layan', 'warga']\n",
      "77 ['minggu', 'aplikasi', 'gojek', 'cari', 'lokasi', 'tuju', 'order', 'gofood', 'minta', 'tolak']\n",
      "78 ['harga', 'driver', 'kasih', 'order', 'driver', 'app', 'customer', 'beli', 'pulsa', 'makan', 'paylater', 'dll', 'skrg', 'dapat', 'app', 'akun', 'driver', 'normal']\n",
      "79 ['go', 'pulsa', 'blokir', 'lapor', 'transaksi', 'lepas', 'blokir', 'alas', 'pakai', 'wajar']\n",
      "80 ['aplikasi', 'narik', 'saldo', 'gopay', 'pake', 'foto', 'ktp', 'karna', 'ktp', 'rusak', 'registrasi', 'gagal', 'karna', 'ktp', 'rusak', 'sulit', 'konsumen', 'aplikasi', 'nama', 'akun', 'roji', 'pandiangan', 'silah', 'apa', 'silah']\n",
      "81 ['paylater', 'pake', 'k', 'say', 'bayar', 'apk', 'eror', 'gk', 'bis', 'bayar', 'padhl', 'saldo', 'koneksi', 'bagus', 'apk', 'versi', 'baru', 'coba', 'instal', 'ulang', 'hapus', 'dta', 'paksa', 'henti', 'apk', 'eror', 'pas', 'bayar', 'sya', 'cob', 'pake', 'hp', 'yg', 'ternytaa', 'tetep', 'eror', 'yg', 'h', 'ulas', 'lengkappaylater', 'pake', 'k', 'say', 'bayar', 'apk', 'eror', 'gk', 'bis', 'bayar', 'padhl', 'saldo', 'koneksi', 'bagus', 'apk', 'versi', 'baru', 'coba', 'instal', 'ulang', 'hapus', 'dta', 'paksa', 'henti', 'apk', 'eror', 'pas', 'bayar', 'sya', 'cob', 'pake', 'hp', 'yg', 'ternytaa', 'tetep', 'eror', 'yg', 'bayar', 'k', 'apk', 'eror', 'gak', 'bayar', 'waaw', 'yah', 'gojek', 'karya', 'anak', 'bangsa']\n"
     ]
    },
    {
     "name": "stdout",
     "output_type": "stream",
     "text": [
      "82 ['aplikasi', 'anjing', 'ngorder', 'tulis', 'server', 'sibuk', 'server', 'sibuk', 'babi', 'udah', 'uninstall', 'aja', 'ni', 'app', 'niat', 'order', 'go', 'food', 'ga', 'keburu', 'mati', 'lapar', 'gua', 'nya', 'anjing', 'kalo', 'gua', 'nyinggung', 'salah', 'lu', 'orang', 'laper', 'error', 'kesel', 'gua', 'kalo', 'kesel', 'toxic', 'ulas', 'lengkapaplikasi', 'anjing', 'ngorder', 'tulis', 'server', 'sibuk', 'server', 'sibuk', 'babi', 'udah', 'uninstall', 'aja', 'ni', 'app', 'niat', 'order', 'go', 'food', 'ga', 'keburu', 'mati', 'lapar', 'gua', 'nya', 'anjing', 'kalo', 'gua', 'nyinggung', 'salah', 'lu', 'orang', 'laper', 'error', 'kesel', 'gua', 'kalo', 'kesel', 'toxic', 'ga', 'tahan', 'sip', 'uninstall', 'ni', 'aplikasi', 'tolol', 'mari', 'pindah', 'grab', 'biaya', 'ongkir', 'nya', 'murah']\n",
      "83 ['habis', 'kuota', 'gopay', 'yg', 'lanjur', 'beli', 'akn', 'lgsg', 'uninstall', 'aplikasi', 'setia', 'grab', 'komunikasi', 'keluh', 'tanggap', 'serius', 'saatt', 'jg', 'mundur', 'thanks']\n",
      "84 ['go', 'life', 'susah', 'pesan', 'terap', 'krn', 'foto', 'id', 'yg', 'gak', 'pas', 'kotak', 'gak', 'vc', 'aja', 'aplikasi', 'sulit', 'muat', 'foto', 'spt', 'yg', 'harap', 'manajemen', 'sulit', 'pesan', 'go', 'massage']\n",
      "85 ['busuk', 'urgent', 'isi', 'gopay', 'riwayat', 'jg', 'udah', 'masuk', 'saldo', 'kosong', 'udah', 'gitu', 'gak', 'nomor', 'cs', 'yg', 'hubung', 'gak', 'dihub', 'kirim', 'pesan', 'email', 'lot', 'responya', 'payah']\n",
      "86 ['kecewa', 'mesanin', 'gojek', 'anak', 'ku', 'berangkat', 'sekolah', 'pagi', 'beli', 'go', 'pay', 'uang', 'nya', 'udah', 'kasih', 'go', 'pay', 'nya', 'kirim', 'kirim', 'tanggap', 'gojek', 'nya', 'gk', 'direspon', 'kecewa', 'sumpah']\n",
      "87 ['gojek', 'konsisten', 'driver', 'nya', 'maaf', 'ucap', 'karna', 'suami', 'driver', 'gocar', 'bayar', 'bulan', 'mobil', 'susah', 'karna', 'akun', 'suami', 'gagu', 'alias', 'kasih', 'order']\n",
      "88 ['driver', 'yg', 'ga', 'sesuai', 'sma', 'aplikasi', 'gojek', 'driverx', 'knapa', 'usaha', 'gojek', 'sistem', 'verifikasi', 'wajah', 'aplikator', 'belah', 'akun', 'jual', 'belikan', 'pasar', 'tolong', 'sistem', 'aman', 'gojek', 'ketat', 'biar', 'ga', 'slah']\n",
      "89 ['tolong', 'baik', 'order', 'tdi', 'pas', 'jadi', 'pesan', 'go', 'jek', 'curiga', 'karna', 'drivernya', 'order', 'batal', 'drivernya', 'dekat', 'prasangka', 'buruk', 'situ', 'akun', 'yg', 'meng', 'order', 'tp', 'cermat', 'tolong', 'ulas', 'lengkaptolong', 'baik', 'order', 'tdi', 'pas', 'jadi', 'pesan', 'go', 'jek', 'curiga', 'karna', 'drivernya', 'order', 'batal', 'drivernya', 'dekat', 'prasangka', 'buruk', 'situ', 'akun', 'yg', 'meng', 'order', 'tp', 'cermat', 'tolong', 'sopan', 'drivernya', 'karna', 'langgan', 'nyaman']\n",
      "90 ['sebagia', 'brpa', 'driper', 'gojek', 'ajar', 'y', 'nanyak', 'nama', 'tumpang', 'nya', 'y', 'kemarin', 'sya', 'mesan', 'eka', 'surya', 'sidodadi', 'johor', 'driper', 'gojek', 'nanyak', 'tumpang', 'nya', 'lari', 'tuju', 'bilang', 'ko', 'beda', 'arah', 'nya', 'e', 'rpanya', 'driper', 'nya', 'salah', 'tumpang', 'gitu', 'driper', 'nya', 'nyala', 'ulas', 'lengkapsebagia', 'brpa', 'driper', 'gojek', 'ajar', 'y', 'nanyak', 'nama', 'tumpang', 'nya', 'y', 'kemarin', 'sya', 'mesan', 'eka', 'surya', 'sidodadi', 'johor', 'driper', 'gojek', 'nanyak', 'tumpang', 'nya', 'lari', 'tuju', 'bilang', 'ko', 'beda', 'arah', 'nya', 'e', 'rpanya', 'driper', 'nya', 'salah', 'tumpang', 'gitu', 'driper', 'nya', 'nyalah', 'driper', 'ajar', 'gk', 'otak', 'nya', 'e', 'yg', 'gojek', 'pesan', 'kensel', 'nya', 'kemna', 'jemput', 'nya']\n",
      "91 ['tolong', 'buat', 'akun', 'customer', 'ketat', 'foto', 'selfi', 'ktp', 'biar', 'lacak', 'tindak', 'gantin', 'nomor', 'telpon', 'email', 'akun', 'lalu', 'order', 'palsu', 'rugi', 'driver']\n",
      "92 ['layan', 'komplain', 'buruk', 'kali', 'kali', 'telfon', 'cs', 'kali', 'responnya', 'senang', 'via', 'email', 'kasi', 'tetep', 'aja', 'balesannya', 'terima', 'file', 'butuh', 'sistem', 'salah', 'tolong', 'baik', 'hilang', 'pelangga', 'ulas', 'lengkappelayanan', 'komplain', 'buruk', 'kali', 'kali', 'telfon', 'cs', 'kali', 'responnya', 'senang', 'via', 'email', 'kasi', 'tetep', 'aja', 'balesannya', 'terima', 'file', 'butuh', 'sistem', 'salah', 'tolong', 'baik', 'hilang', 'langgan', 'setia']\n",
      "93 ['gopay', 'ku', 'ngga', 'transfer', 'komplain', 'akun', 'ku', 'transaksi', 'wajar', 'coba', 'maksud', 'nya', 'transaksi', 'maksud', 'transfer', 'gopay', 'atm', 'salah', 'mana', 'mohon', 'bijak', 'resah', 'pakai', 'gop', 'ulas', 'lengkapkenapa', 'gopay', 'ku', 'ngga', 'transfer', 'komplain', 'akun', 'ku', 'transaksi', 'wajar', 'coba', 'maksud', 'nya', 'transaksi', 'maksud', 'transfer', 'gopay', 'atm', 'salah', 'mana', 'mohon', 'bijak', 'resah', 'pakai', 'gopay', 'blokir', 'harap', 'akun', 'ku', 'kembali']\n",
      "94 ['login', 'aja', 'susah', 'banget', 'bikin', 'kesel', 'banget', 'udah', 'masukin', 'email', 'pake', 'no', 'ah', 'pokok', 'gak', 'pake', 'cepet', 'aja', 'aq', 'uninstal', 'bye']\n",
      "95 ['bismillah', 'maaf', 'ya', 'aplikasi', 'go', 'jeg', 'nya', 'diskon', 'driver', 'nya', 'harga', 'normal', 'sya', 'udah', 'gk', 'sesuai', 'mohon', 'himbauanny', 'lancar', 'nya']\n",
      "96 ['isi', 'saldo', 'atm', 'mandiri', 'saldo', 'nya', 'gak', 'masuk', 'kali', 'kirim', 'email', 'gojek', 'respon', 'sepele', 'ribetnya', 'ampun', 'masalah', 'isi', 'aja', 'udah', 'selesai', 'nunggu', 'usaha', 'karyawan', 'ulas', 'lengkapsaya', 'isi', 'saldo', 'atm', 'mandiri', 'saldo', 'nya', 'gak', 'masuk', 'kali', 'kirim', 'email', 'gojek', 'respon', 'sepele', 'ribetnya', 'ampun', 'masalah', 'isi', 'aja', 'udah', 'selesai', 'nunggu', 'usaha', 'karyawan', 'kecil', 'selesai']\n",
      "97 ['layan', 'gojek', 'muas', 'refund', 'saldo', 'gopay', 'yg', 'd', 'no', 'hp', 'd', 'curi', 'org', 'tpi', 'bgt', 'syarat', 'syarat', 'yg', 'd', 'nya', 'd', 'hp', 'yg', 'kena', 'curi', 'cs', 'nya', 'klo', 'hp', 'd', 'curi', 'tpi', 'cs', 'nya', 'gk', 'ngerti', 'jalan', 'logo', 'n', 'ulas', 'lengkappelayanan', 'gojek', 'muas', 'refund', 'saldo', 'gopay', 'yg', 'd', 'no', 'hp', 'd', 'curi', 'org', 'tpi', 'bgt', 'syarat', 'syarat', 'yg', 'd', 'nya', 'd', 'hp', 'yg', 'kena', 'curi', 'cs', 'nya', 'klo', 'hp', 'd', 'curi', 'tpi', 'cs', 'nya', 'gk', 'ngerti', 'jalan', 'logo', 'nya', 'omong', 'kosong', 'bnyak', 'deh', 'isi', 'gopay', 'susah', 'nge', 'refund', 'nya']\n",
      "98 ['jarang', 'kasi', 'voucher', 'kasi', 'voucher', 'beli', 'aja', 'bohong', 'sabtu', 'minggu', 'libur', 'kerja', 'langgan', 'rugi', 'kalo', 'rutin', 'top', 'up', 'kalo', 'ga', 'minat', 'pake', 'goride', 'gocar']\n",
      "99 ['alam', 'buruk', 'terima', 'aplikasi', 'gojek', 'fasilitas', 'gopay', 'nya', 'kali', 'pakai', 'udah', 'rugi', 'kapok', 'ogah', 'pakai', 'fasilitas']\n",
      "100 ['aplikasi', 'kirim', 'kode', 'sign', 'up', 'aplikasi', 'blank', 'putih', 'tampil', 'label', 'lanjut', 'bagi', 'merespon', 'sign', 'up', 'ulang', 'ulang', 'kirim', 'kode', 'nomor', 'alam', 'daftar', 'akun', 'sang', 'ulas', 'lengkapaplikasi', 'kirim', 'kode', 'sign', 'up', 'aplikasi', 'blank', 'putih', 'tampil', 'label', 'lanjut', 'bagi', 'merespon', 'sign', 'up', 'ulang', 'ulang', 'kirim', 'kode', 'nomor', 'alam', 'daftar', 'akun', 'buruk', 'butuh']\n",
      "101 ['gojek', 'gk', 'ya', 'pas', 'buka', 'aplikasi', 'nya', 'tulis', 'masuk', 'pin', 'pin', 'apa', 'ihh', 'kesel', 'gojek', 'make', 'nomor', 'hp', 'yg', 'bener', 'gk', 'gunain', 'nih', 'aneh', 'kayak', 'gin', 'gk', 'bagus', 'banget', 'deh', 'ah', 'yg', 'nya', 'd', 'ulas', 'lengkapini', 'gojek', 'gk', 'ya', 'pas', 'buka', 'aplikasi', 'nya', 'tulis', 'masuk', 'pin', 'pin', 'apa', 'ihh', 'kesel', 'gojek', 'make', 'nomor', 'hp', 'yg', 'bener', 'gk', 'gunain', 'nih', 'aneh', 'kayak', 'gin', 'gk', 'bagus', 'banget', 'deh', 'ah', 'yg', 'nya', 'gk', 'garagara', 'pin']\n",
      "102 ['aplikasi', 'y', 'gin', 'lot', 'banget', 'ngga', 'pesan', 'gojek', 'go', 'food', 'server', 'kadang', 'baru', 'pin', 'ngga', 'baru', 'saldo', 'susah', 'update', 'tolong', 'solusi', 'biar', 'kaya', 'akun']\n",
      "103 ['maaf', 'bintang', 'tarik', 'tunai', 'gopay', 'udah', 'duit', 'gak', 'nyampe', 'rekening', 'udah', 'lapor', 'cs', 'by', 'email', 'ama', 'by', 'phone', 'bilang', 'proses', 'kalo', 'emang', 'bom', 'becus', 'bikin', 'fitur', 'withdraw', 'mending', 'gak', 'bikin', 'sungguh', 'kecewa', 'gak', 'tau', 'uang', 'nyangkut', 'mana', 'pohon', 'k', 'ulas', 'lengkapmaaf', 'bintang', 'tarik', 'tunai', 'gopay', 'udah', 'duit', 'gak', 'nyampe', 'rekening', 'udah', 'lapor', 'cs', 'by', 'email', 'ama', 'by', 'phone', 'bilang', 'proses', 'kalo', 'emang', 'bom', 'becus', 'bikin', 'fitur', 'withdraw', 'mending', 'gak', 'bikin', 'sungguh', 'kecewa', 'gak', 'tau', 'uang', 'nyangkut', 'mana', 'pohon', 'klapa', 'kali']\n"
     ]
    },
    {
     "name": "stdout",
     "output_type": "stream",
     "text": [
      "104 ['kasih', 'bintang', 'karna', 'pesan', 'go', 'jek', 'proses', 'cari', 'gojek', 'temu', 'gojek', 'pas', 'selesai', 'cari', 'eh', 'temu', 'pesan', 'karna', 'batal', 'ulang', 'kali', 'eh', 'beku']\n",
      "105 ['app', 'versi', 'gak', 'guna', 'gak', 'blank', 'putih', 'uda', 'uninstall', 'install', 'playstore', 'gak', 'login', 'bufer', 'gak', 'notifikasi', 'sms', 'parah', 'banget', 'uninstall', 'cari', 'versi', 'nya', 'uda', 'install', 'login', 'notifikasi', 'sms', 'bgt', 'ulas', 'lengkapapp', 'versi', 'gak', 'guna', 'gak', 'blank', 'putih', 'uda', 'uninstall', 'install', 'playstore', 'gak', 'login', 'bufer', 'gak', 'notifikasi', 'sms', 'parah', 'banget', 'uninstall', 'cari', 'versi', 'nya', 'uda', 'install', 'login', 'notifikasi', 'sms', 'bgt', 'update', 'versi', 'playstore', 'aja', 'gak', 'blank', 'putih', 'revisi', 'versi', 'baru']\n",
      "106 ['udh', 'ga', 'pakai', 'aplikasi', 'pesan', 'go', 'car', 'pakai', 'promo', 'dri', 'k', 'k', 'tolak', 'mentah', 'dri', 'drivernya', 'aplikasi', 'error', 'tpi', 'lihat', 'aplikasi', 'nggak', 'error', 'drivernya', 'nggak', 'rugi']\n",
      "107 ['x', 'alami', 'gopay', 'gopay', 'rp', 'malam', 'bawa', 'dompet', 'kemarin', 'topup', 'via', 'atm', 'mandiri', 'transaksi', 'hasil', 'saldo', 'tambah', 'cs', 'nya', 'slow', 'respon']\n",
      "108 ['kena', 'tagih', 'laku', 'tambah', 'denda', 'lihat', 'tagih', 'go', 'food', 'oadahal', 'daerah', 'gojek', 'gapay', 'kena', 'tagih', 'gofood', 'pay', 'later', 'konfirmasi', 'pikoknya', 'kecewa', 'banget']\n",
      "109 ['heran', 'pake', 'gojek', 'dh', 'gofood', 'topup', 'gopay', 'ga', 'kasih', 'paylatter', 'gilir', 'temen', 'download', 'trus', 'upgrade', 'pake', 'layan', 'x', 'langsung', 'kasih', 'paylatter', 'ga', 'ngerti', 'sistem', 'gmn']\n",
      "110 ['kasih', 'bintang', 'gagal', 'apgrade', 'larang', 'top', 'up', 'saldo', 'aplikasi', 'gojek', 'apgrade', 'nyesel', 'kecewa', 'alam', 'x', 'apgrade', 'gagal', 'searching', 'google', 'atas', 'sya', 'laku', 'slalu', 'gagal', 'kirim', 'email', 'ulas', 'lengkapsaya', 'kasih', 'bintang', 'gagal', 'apgrade', 'larang', 'top', 'up', 'saldo', 'aplikasi', 'gojek', 'apgrade', 'nyesel', 'kecewa', 'alam', 'x', 'apgrade', 'gagal', 'searching', 'google', 'atas', 'sya', 'laku', 'slalu', 'gagal', 'kirim', 'email', 'jawab', 'autoreplay', 'maksud', 'jawab', 'aja', 'saldo', 'aplikasi', 'uang', 'buang', 'sia', 'gojek', 'mohon', 'solusi']\n",
      "111 ['males', 'mudah', 'bikin', 'susah', 'cari', 'driver', 'driver', 'gilir', 'udah', 'bawa', 'driver', 'jarang', 'bawa', 'kembali', 'niat', 'bayar', 'gitu', 'kesan', 'kayak', 'dimodusin', 'driver', 'gocar', 'sombong', 'mentang', 'yg', 'mobil', 'gak', 'latih', 'ulas', 'lengkapmales', 'mudah', 'bikin', 'susah', 'cari', 'driver', 'driver', 'gilir', 'udah', 'bawa', 'driver', 'jarang', 'bawa', 'kembali', 'niat', 'bayar', 'gitu', 'kesan', 'kayak', 'dimodusin', 'driver', 'gocar', 'sombong', 'mentang', 'yg', 'mobil', 'gak', 'latih', 'layan', 'costumer', 'gimana', 'fixlah', 'uninstal']\n",
      "112 ['tolong', 'akses', 'aplikasi', 'gojek', 'karna', 'kali', 'masuk', 'atur', 'pin', 'kali', 'kali', 'laku', 'kode', 'otp', 'masuk', 'kirim', 'nomor', 'hp', 'daftar', 'mohon', 'solusi', 'kalo', 'ga', 'u', 'ulas', 'lengkaptolong', 'akses', 'aplikasi', 'gojek', 'karna', 'kali', 'masuk', 'atur', 'pin', 'kali', 'kali', 'laku', 'kode', 'otp', 'masuk', 'kirim', 'nomor', 'hp', 'daftar', 'mohon', 'solusi', 'kalo', 'ga', 'uninstall', 'aja', 'aplikasi', 'karna', 'sungguh', 'kecewa', 'kali', 'pesan', 'gofood', 'makan', 'terima', 'sesuai', 'order', 'ulang', 'kali']\n",
      "113 ['kecewa', 'laku', 'gojek', 'top', 'up', 'gopay', 'masuk', 'masuk', 'gmail', 'gojek', 'kali', 'balesan', 'kecewa', 'banget', 'nelfon', 'callcenter', 'nya', 'ga', 'yg', 'percaya', 'bukti', 'top', 'up', 'bukti', 'kirim', 'masuk', 'gopay', 'nya', 'kecewa', 'banget', 'ulas', 'lengkapsaya', 'kecewa', 'laku', 'gojek', 'top', 'up', 'gopay', 'masuk', 'masuk', 'gmail', 'gojek', 'kali', 'balesan', 'kecewa', 'banget', 'nelfon', 'callcenter', 'nya', 'ga', 'yg', 'percaya', 'bukti', 'top', 'up', 'bukti', 'kirim', 'masuk', 'gopay', 'nya', 'kecewa', 'banget', 'aplikasi', 'gojek', 'ga', 'yg', 'bantuin', 'ngembaliin', 'uang', 'makan', 'bro', 'sombong', 'dasar', 'gojek', 'tipu', 'korupsi']\n",
      "114 ['alam', 'gw', 'order', 'go', 'food', 'sabtu', 'desember', 'pesan', 'paket', 'nasi', 'ayam', 'dada', 'rb', 'nasi', 'rb', 'kol', 'goreng', 'rb', 'sambel', 'rb', 'ongkos', 'nya', 'rb', 'total', 'rb', 'sampe', 'pas', 'buka', 'makan', 'tempe', 'biji', 'rb', 'lele', 'biji', 'rb', 'nasi', 'rb', 'ongkos', 'rb', 'total', 'rb', 'ti', 'ulas', 'lengkappengalaman', 'gw', 'order', 'go', 'food', 'sabtu', 'desember', 'pesan', 'paket', 'nasi', 'ayam', 'dada', 'rb', 'nasi', 'rb', 'kol', 'goreng', 'rb', 'sambel', 'rb', 'ongkos', 'nya', 'rb', 'total', 'rb', 'sampe', 'pas', 'buka', 'makan', 'tempe', 'biji', 'rb', 'lele', 'biji', 'rb', 'nasi', 'rb', 'ongkos', 'rb', 'total', 'rb', 'sesuai', 'pesan', 'aplikasi', 'bebagi', 'alam', 'kawan', 'kawan', 'nasi', 'rb']\n",
      "115 ['penyababnya', 'rating', 'bintang', 'kemudi', 'sya', 'goshop', 'barang', 'tp', 'sy', 'tdk', 'lht', 'riwayat', 'history', 'order', 'tdk', 'rating', 'sayang', 'antar', 'murah', 'tp', 'ga', 'bs', 'ksh', 'rating']\n",
      "116 ['aplikasi', 'gojek', 'custome', 'update', 'baru', 'gofood', 'erorr', 'alias', 'ngawur', 'resto', 'tutup', 'tampil', 'otomatis', 'customer', 'bingung', 'urut', 'resto', 'yg', 'dekat', 'acak', 'urut', 'dekat', 'mohon', 'baik']\n",
      "117 ['gojek', 'curang', 'gak', 'transaksi', 'apa', 'saldo', 'potong', 'tahu', 'pesan', 'masuk', 'nya', 'terang', 'nya', 'bayar', 'google', 'gak', 'transaksi', 'apa', 'masak', 'langgan', 'setia', 'aplikasi', 'curang', 'saldo', 'potong', 'mend', 'ulas', 'lengkapgojek', 'curang', 'gak', 'transaksi', 'apa', 'saldo', 'potong', 'tahu', 'pesan', 'masuk', 'nya', 'terang', 'nya', 'bayar', 'google', 'gak', 'transaksi', 'apa', 'masak', 'langgan', 'setia', 'aplikasi', 'curang', 'saldo', 'potong', 'mending', 'uninstal', 'aja', 'ni', 'aplikasi', 'buat', 'anak', 'bangsa']\n",
      "118 ['ngasih', 'promo', 'akun', 'kasih', 'promo', 'akun', 'bnyak', 'yg', 'pake', 'no', 'negri', 'memanfaatin', 'promo', 'guna', 'gak', 'paham', 'gue', 'gojek', 'karya', 'anak', 'bangsa', 'akun', 'ratingnya', 'udah', 'bagus', 'gak', 'sedikit', 'kasih', 'promo', 'guna', 'k', 'ulas', 'lengkapkalau', 'ngasih', 'promo', 'akun', 'kasih', 'promo', 'akun', 'bnyak', 'yg', 'pake', 'no', 'negri', 'memanfaatin', 'promo', 'guna', 'gak', 'paham', 'gue', 'gojek', 'karya', 'anak', 'bangsa', 'akun', 'ratingnya', 'udah', 'bagus', 'gak', 'sedikit', 'kasih', 'promo', 'guna', 'kasih', 'mnurut', 'gue', 'bego', 'beda', 'akun', 'grab', 'order', 'promo', 'auto', 'uninstal']\n",
      "119 ['mohon', 'gps', 'akurasi', 'tingkat', 'karna', 'order', 'go', 'food', 'biaya', 'kirim', 'rp', 'yg', 'mana', 'route', 'kirim', 'putar', 'langsung', 'belok', 'taruh', 'titik', 'rb', 'biaya', 'kirim', 'lewat', 'titik', 'kirim', 'putar', 'km', 'kemb', 'ulas', 'lengkapmohon', 'gps', 'akurasi', 'tingkat', 'karna', 'order', 'go', 'food', 'biaya', 'kirim', 'rp', 'yg', 'mana', 'route', 'kirim', 'putar', 'langsung', 'belok', 'taruh', 'titik', 'rb', 'biaya', 'kirim', 'lewat', 'titik', 'kirim', 'putar', 'km', 'titik', 'yg', 'lewat', 'ongkos', 'nambah']\n",
      "120 ['upgrade', 'aja', 'sulit', 'foto', 'ktp', 'rusak', 'gak', 'rusak', 'gambar', 'blur', 'gak', 'blur', 'inti', 'e', 'wae', 'lanjur', 'isi', 'saldo', 'laen', 'isi', 'saldo', 'kalo', 'upgrade']\n",
      "121 ['dapat', 'restoran', 'yg', 'tutup', 'sdh', 'tutup', 'tp', 'aplikasi', 'terang', 'tutup', 'susah', 'ojol', 'gofood', 'pd', 'mlm', 'kota', 'manado', 'dpt', 'ojol', 'yg', 'posisi', 'dr', 'tmpt', 'makan', 'yg', 'order', 'titip', 'pd', 'aplikasi', 'gojek', 'salah', 'salah', 't', 'ulas', 'lengkapsering', 'dapat', 'restoran', 'yg', 'tutup', 'sdh', 'tutup', 'tp', 'aplikasi', 'terang', 'tutup', 'susah', 'ojol', 'gofood', 'pd', 'mlm', 'kota', 'manado', 'dpt', 'ojol', 'yg', 'posisi', 'dr', 'tmpt', 'makan', 'yg', 'order', 'titip', 'pd', 'aplikasi', 'gojek', 'salah', 'salah', 'titik', 'nya', 'salah', 'titik', 'pdhal', 'tulis', 'alamat', 'lengkap', 'putar', 'arah', 'jln', 'nya', 'swngaja', 'biar', 'ongkos', 'jd', 'lewat', 'ni', 'aplikasi', 'gojek']\n",
      "122 ['kadang', 'promo', 'promo', 'gojek', 'ga', 'contoh', 'point', 'tuker', 'voucher', 'go', 'ride', 'ga', 'nya', 'tukar', 'suruh', 'masuk', 'kode', 'voucher', 'untuk', 'pas', 'udah', 'masukin', 'kode', 'nya', 'kadaluwarsa', 'pokok', 'nya', 'nyg', 'ga', 'niat', 'kasih', 'promo', 'yg', 'donk']\n"
     ]
    },
    {
     "name": "stdout",
     "output_type": "stream",
     "text": [
      "123 ['aplikasi', 'go', 'blok', 'udah', 'isi', 'gopay', 'ratus', 'ribu', 'nggak', 'dipake', 'huasyu', 'gagal', 'muat', 'aplikasi', 'nyusahin', 'orang', 'udah', 'lelet', 'banget', 'aplikasi', 'nya', 'gopay', 'nggak', 'dipake', 'balikin', 'duit', 'gw', 'parah', 'go', 'blog']\n",
      "124 ['tolong', 'customer', 'fasilitas', 'utk', 'nilai', 'komentar', 'resto', 'resto', 'go', 'food', 'karna', 'kabanyakan', 'resto', 'yg', 'gk', 'sesuai', 'jabar', 'tampil', 'menu', 'yg', 'tampil', 'aplikasi', 'tambah', 'harga', 'yg', 'mahal', 'porsi', 'yg']\n",
      "125 ['buka', 'internet', 'data', 'hidup', 'paket', 'data', 'ig', 'youtobe', 'lancar', 'masak', 'pakai', 'gojek', 'reinstall', 'payahh']\n",
      "126 ['please', 'driver', 'gk', 'top', 'up', 'gopay', 'top', 'up', 'gopay', 'driver', 'mudah', 'mudah', 'nemu', 'driver', 'nerima', 'pesan', 'plus', 'top', 'up', 'gopay', 'kecewa', 'nya', 'mudah', 'akh', 'ulas', 'lengkapplease', 'driver', 'gk', 'top', 'up', 'gopay', 'top', 'up', 'gopay', 'driver', 'mudah', 'mudah', 'nemu', 'driver', 'nerima', 'pesan', 'plus', 'top', 'up', 'gopay', 'kecewa', 'nya', 'mudah']\n",
      "127 ['driver', 'ngutruk', 'ngomong', 'marah', 'karna', 'pakai', 'voucher', 'go', 'drive', 'saya', 'guna', 'gojek', 'dapet', 'voucher', 'eh', 'kena', 'marah', 'yaudah', 'deh', 'grab', 'murah', 'anakpelajar']\n",
      "128 ['order', 'kayak', 'batas', 'yah', 'jek', 'mitra', 'kecewa', 'kenal', 'promo', 'kompetitor', 'belah', 'langgan', 'pakai', 'gojek', 'kayak', 'order', 'hitung', 'yah', 'narik', 'pagi', 'siang', 'sore', 'malam', 'hahaha', 'kesel']\n",
      "129 ['guna', 'layan', 'driver', 'buruk', 'kesal', 'order', 'tolak', 'alas', 'yg', 'gk', 'kalo', 'gk', 'ngojek', 'bubar', 'bubar']\n",
      "130 ['gmn', 'sih', 'set', 'lokasi', 'tuju', 'tulisannyq', 'lokasi', 'ketemu', 'mulu', 'udah', 'cari', 'peta', 'udh', 'pas', 'lokasi', 'tetep', 'aja', 'tulis', 'lokasi', 'ketemu', 'pake', 'aplikasi', 'belah']\n",
      "131 ['ilangkan', 'vocer', 'ilang', 'langgan', 'mbah', 'gojek', 'kasi', 'ma', 'anak', 'kos']\n",
      "132 ['buruk', 'masak', 'iya', 'akun', 'gk', 'pakek', 'order', 'aplikasi', 'gak', 'gunain', 'gopulsa', 'udah', 'ngelapor', 'layan', 'pelang', 'tindak', 'lanjutin', 'd', 'as', 'masala', 'kasih', 'pemberitauan', 'la', 'gin', 'gk', 'solusi']\n",
      "133 ['gak', 'pake', 'pay', 'later', 'notifikasi', 'tagih', 'bunga', 'ribu', 'anehhh', 'bayar', 'yg', 'gak', 'pinjam']\n",
      "134 ['isi', 'paket', 'data', 'pulsa', 'isi', 'isi', 'blm', 'udh', 'hari', 'dn', 'bayar', 'saldo', 'paylater', 'ambil', 'tolong', 'baik', 'ragu', 'mo', 'beli', 'pulsa', 'paket', 'data', 'karna', 'isi', 'saldo', 'paylater', 'ambil', 'rugi']\n",
      "135 ['tgl', 'sy', 'pesan', 'pisang', 'goreng', 'jln', 'driver', 'batalin', 'pesan', 'sy', 'dana', 'sy', 'sdh', 'debet', 'tdk', 'kembali', 'sy', 'sdh', 'kirim', 'gmail', 'ngak', 'selesaika', 'sy', 'kecewa', 'go', 'jek', 'yg', 'tdk', 'tanggung']\n",
      "136 ['layan', 'bandara', 'nggak', 'suruh', 'ngasih', 'kode', 'driver', 'tp', 'drivernya', 'mana', 'area', 'jemput', 'go', 'car', 'tugas', 'nggak', 'nomor', 'kontak', 'driver', 'nggak', 'yg', 'hubung', 'aneh']\n",
      "137 ['kesal', 'jg', 'pakek', 'aplikasi', 'pas', 'pesan', 'makan', 'trus', 'gk', 'jd', 'gk', 'lg', 'keluar', 'yg', 'siap', 'pesan', 'food', 'ak', 'pesan', 'resto', 'tp', 'gk', 'lg', 'krn', 'wjib', 'pesan', 'kl', 'sempt', 'ku', 'pesan', 'sma', 'driver', 'ku', 'chennsel', 'jd', 'kesal', 'drivernya', 'mohon', 'perbaikin', 'food', 'ulas', 'lengkapkesal', 'jg', 'pakek', 'aplikasi', 'pas', 'pesan', 'makan', 'trus', 'gk', 'jd', 'gk', 'lg', 'keluar', 'yg', 'siap', 'pesan', 'food', 'ak', 'pesan', 'resto', 'tp', 'gk', 'lg', 'krn', 'wjib', 'pesan', 'kl', 'sempt', 'ku', 'pesan', 'sma', 'driver', 'ku', 'chennsel', 'jd', 'kesal', 'drivernya', 'mohon', 'perbaikin', 'food', 'yg', 'ad', 'apliksi', 'gojek', 'kesal', 'drever', 'yg']\n",
      "138 ['applikasi', 'yg', 'secure', 'hp', 'hilang', 'curi', 'app', 'gopay', 'pin', 'bisa', 'buka', 'apa', 'guna', 'pin', 'gopay', 'org', 'login', 'akun', 'nomor', 'gopay', 'otp', 'pin', 'jamin', 'orang', 'gak', 'login']\n",
      "139 ['isi', 'saldo', 'rekening', 'potong', 'masuk', 'gopay', 'akses', 'mudah', 'transport', 'mana', 'mau', 'aplikasi', 'ya', 'kadang', 'sahabat', 'slow', 'respon']\n",
      "140 ['akun', 'pesan', 'apa', 'minta', 'tolak', 'daftar', 'harga', 'ga', 'muncul', 'alamat', 'temu', 'muat', 'harga', 'gilir', 'isi', 'gopay', 'gopay', 'nya', 'masuk', 'gabisa', 'gunaky', 'transaksi']\n",
      "141 ['parah', 'gojek', 'upgrade', 'gopay', 'dompet', 'kunci', 'kirim', 'email', 'gojek', 'akun', 'silah', 'akun', 'dompet', 'kunci', 'gabisa', 'balikin', 'upgrade', 'gopay', 'premium', 'gabisa', 'pas', 'akun', 'ulas', 'lengkapparah', 'gojek', 'upgrade', 'gopay', 'dompet', 'kunci', 'kirim', 'email', 'gojek', 'akun', 'silah', 'akun', 'dompet', 'kunci', 'gabisa', 'balikin', 'upgrade', 'gopay', 'premium', 'gabisa', 'pas', 'akun', 'upgrade', 'gopay', 'tolak', 'data', 'daftar', 'akun', 'gimana', 'terus', 'tolong', 'baik', 'gojek', 'upgrade', 'gopay', 'pakai', 'data', 'orang', 'penyalahgunaan']\n",
      "142 ['kemarin', 'sy', 'makan', 'md', 'donald', 'iklan', 'bayar', 'pakai', 'gopay', 'minimal', 'transaksi', 'cashback', 'persen', 'cashback', 'masuk', 'x', 'jam', 'ngk', 'masuk', 'masuk', 'cashback', 'kecewa', 'banget', 'sih', 'iklan', 'ngk']\n",
      "143 ['kecewa', 'fitur', 'paylater', 'gojek', 'deskripsi', 'awa', 'informasi', 'denda', 'lambar', 'sih', 'gk', 'knapa', 'denda', 'notif', 'pembayarn', 'secwpatnya', 'gk', 'trus', 'aja', 'tlp', 'gojek', 'blng', 'suruh', 'bayar', 'denda', 'trakhir']\n",
      "144 ['jelek', 'banget', 'masuk', 'ngga', 'gilir', 'daftar', 'no', 'udah', 'daftar', 'pas', 'masuk', 'ngga', 'no', 'nya', 'aktif', 'uninstall', 'dehh', 'mending', 'pake', 'grab', 'diskon']\n",
      "145 ['sih', 'suka', 'aplikasi', 'gojek', 'aplikasi', 'tdk', 'sinkron', 'dgn', 'aplikasi', 'driver', 'aplikasi', 'gojek', 'cust', 'update', 'driver', 'jg', 'd', 'update', 'chat', 'driver', 'gampang', 'tulis', 'chat', 'tdk', 'gara', 'pesan', 'kacau', 'mohon', 'baik', 'trima', 'kasih']\n",
      "146 ['gojek', 'pikir', 'income', 'banding', 'dgn', 'layan', 'yg', 'muas', 'gps', 'tdk', 'akurat', 'dlm', 'tentu', 'titik', 'lokasi', 'pilih', 'rute', 'baik', 'cepat', 'gila', 'jalan', 'gw', 'yg', 'km', 'smpe', 'x', 'lipat', 'dgn', 'pilih', 'rute', 'jalan', 'yg', 'putar', 'imbas', 'tarif', 'kema', 'ulas', 'lengkapgojek', 'pikir', 'income', 'banding', 'dgn', 'layan', 'yg', 'muas', 'gps', 'tdk', 'akurat', 'dlm', 'tentu', 'titik', 'lokasi', 'pilih', 'rute', 'baik', 'cepat', 'gila', 'jalan', 'gw', 'yg', 'km', 'smpe', 'x', 'lipat', 'dgn', 'pilih', 'rute', 'jalan', 'yg', 'putar', 'imbas', 'tarif', 'mahal', 'ras', 'konsumen', 'kayak', 'gin', 'anjing']\n",
      "147 ['gofood', 'pakai', 'ya', 'udh', 'instal', 'uninstal', 'aplikasi', 'udh', 'kali', 'minta', 'tolak', 'ya', 'mas', 'tolong', 'baru']\n",
      "148 ['kecewa', 'gojek', 'akun', 'beku', 'bayar', 'tagih', 'paylater', 'akun', 'beku', 'jatuh', 'tempo', 'nama', 'nya', 'peras', 'denda', 'nya', 'lapor', 'nama', 'peras']\n",
      "149 ['kecewa', 'go', 'pay', 'dah', 'isi', 'saldo', 'dah', 'masuk', 'riwayat', 'gk', 'tambah', 'saldo', 'mohon', 'baik', 'aplikasi', 'nya', 'saran', 'rugi', 'langgan', 'go', 'pay']\n",
      "150 ['layan', 'buruk', 'medsos', 'yg', 'merespon', 'email', 'balas', 'cashback', 'persen', 'masuk', 's', 'k', 'nya', 'kecewa']\n",
      "151 ['ken', 'nanya', 'saldo', 'gopay', 'potong', 'ulang', 'ulang', 'kali', 'sdgkan', 'tdk', 'transaksi', 'apa', 'klo', 'biaya', 'admin', 'wkt', 'ngisi', 'gopay', 'mobilr', 'banking', 'udah', 'kena', 'potong', 'knp', 'gojek', 'motong', 'saldo', 'orang', 'suka', 'hati', 'mohon', 'jlskan']\n",
      "152 ['jual', 'aplikasi', 'x', 'order', 'gak', 'layanin', 'x', 'dounlod', 'malas', 'buang', 'buang', 'kuota', 'mending', 'hapus', 'aplikasi', 'selamat', 'jalan', 'gojek', 'nyesel', 'dounlod', 'buang', 'buang', 'kuota']\n",
      "153 ['gofoodnya', 'nyaman', 'udah', 'driver', 'tunggu', 'eeee', 'ga', 'terima', 'pesan', 'drivernya', 'bagusin', 'donk', 'ni', 'fitur', 'go', 'foodnya']\n",
      "154 ['bintang', 'karna', 'gojek', 'jelek', 'ya', 'karna', 'akun', 'yg', 'udah', 'pakai', 'restart', 'gak', 'buka', 'lgi', 'email', 'password', 'sdh', 'kecewa', 'karna', 'mainweb', 'ku', 'yg', 'ku', 'pake', 'bintang', 'dtambah', 'klo', 'sdh', 'benerin', 'hati', 'lgi', 'kecewa', 'emos', 'ulas', 'lengkapbintang', 'karna', 'gojek', 'jelek', 'ya', 'karna', 'akun', 'yg', 'udah', 'pakai', 'restart', 'gak', 'buka', 'lgi', 'email', 'password', 'sdh', 'kecewa', 'karna', 'mainweb', 'ku', 'yg', 'ku', 'pake', 'bintang', 'dtambah', 'klo', 'sdh', 'benerin', 'hati', 'lgi', 'kecewa', 'emosi', 'maaf', 'duluu', 'huuufffffhhhh']\n"
     ]
    },
    {
     "name": "stdout",
     "output_type": "stream",
     "text": [
      "155 ['akun', 'beku', 'dgn', 'alas', 'batal', 'pesan', 'driver', 'gojek', 'yg', 'batal', 'krn', 'tdk', 'antri', 'jual', 'makan', 'check', 'dl', 'driver', 'beku', 'akun', 'langgan']\n",
      "156 ['tagih', 'paylater', 'gojek', 'ramah', 'sopan', 'santunya', 'males', 'pakai', 'paylater', 'yg', 'tdk', 'tu', 'saldo', 'paylater', 'ribu', 'ya', 'metode', 'bayar', 'ngasih', 'minggu', 'kemuadian', 'tagih', 'bunga', 'hari', 'ulas', 'lengkappenagihan', 'paylater', 'gojek', 'ramah', 'sopan', 'santunya', 'males', 'pakai', 'paylater', 'yg', 'tdk', 'tu', 'saldo', 'paylater', 'ribu', 'ya', 'metode', 'bayar', 'ngasih', 'minggu', 'kemuadian', 'tagih', 'bunga', 'hari', 'males', 'bayar', 'bunga', 'tpi', 'niat', 'bayar', 'yg', 'rebu', 'email', 'tpi', 'responya', 'nagih', 'uda', 'bln', 'gada', 'atitudenya', 'tu', 'cewek', 'yg', 'nagih', 'uda', 'bayar', 'ya', 'bye']\n",
      "157 ['gojek', 'mahal', 'tolong', 'developer', 'perhati', 'segmen', 'ojek', 'online', 'rugi', 'pilih', 'rute', 'pengaruh', 'ongkos', 'rute', 'cepat', 'tambah', 'promo', 'goride', 'seka', 'ulas', 'lengkapgojek', 'mahal', 'tolong', 'developer', 'perhati', 'segmen', 'ojek', 'online', 'rugi', 'pilih', 'rute', 'pengaruh', 'ongkos', 'rute', 'cepat', 'tambah', 'promo', 'goride', 'sekaranag', 'gojek', 'andal', 'mesan', 'makan', 'customer', 'puas', 'layan', 'kecewa', 'mohon', 'baik']\n",
      "158 ['dear', 'gojek', 'serius', 'sen', 'goofod', 'tunggu', 'konfirmasi', 'resto', 'nya', 'mending', 'online', 'tolong', 'hapus', 'fitur', 'otomatis', 'driver', 'driver', 'sadar', 'orderam', 'masuk', 'fungsi', 'bantu', 'driver', 'ser', 'ulas', 'lengkapdear', 'gojek', 'serius', 'sen', 'goofod', 'tunggu', 'konfirmasi', 'resto', 'nya', 'mending', 'online', 'tolong', 'hapus', 'fitur', 'otomatis', 'driver', 'driver', 'sadar', 'orderam', 'masuk', 'fungsi', 'bantu', 'driver', 'costumer', 'tunggu', 'tdk', 'respond', 'hilang', 'langgan', 'gojek', 'apk', 'launching', 'tdk', 'puas', 'dgn', 'layan', 'gojek']\n",
      "159 ['login', 'pake', 'akun', 'yg', 'daftar', 'nomor', 'nggak', 'bisabisa', 'sampe', 'uninstall', 'install', 'ulang', 'g', 'login', 'terang', 'ups', 'salah', 'mata', 'emosiiii']\n",
      "160 ['tahun', 'pakai', 'gojek', 'kali', 'kecewa', 'bayar', 'tagih', 'paylatter', 'yg', 'perna', 'pesan', 'kirim', 'email', 'minggu', 'respon', 'bayar', 'tagihanya']\n",
      "161 ['selesai', 'lambat', 'balas', 'apa', 'tanggap', 'selesai', 'profesional', 'gojek', 'kecewa', 'pesan', 'f']\n",
      "162 ['say', 'rangin', 'deh', 'bintang', 'nya', 'aja', 'kesini', 'gx', 'harga', 'go', 'ride', 'voucher', 'gx', 'go', 'food', 'mahal', 'skrg', 'gx', 'voucher', 'tambah', 'yg', 'sebal', 'udah', 'ongkir', 'mahal', 'biaya', 'mesan', 'yg', 'bener', 'aja', 'gofood', 'makan', 'harga', 'rb', 'ongkir', 'biaya', 'ulas', 'lengkapsay', 'rangin', 'deh', 'bintang', 'nya', 'aja', 'kesini', 'gx', 'harga', 'go', 'ride', 'voucher', 'gx', 'go', 'food', 'mahal', 'skrg', 'gx', 'voucher', 'tambah', 'yg', 'sebal', 'udah', 'ongkir', 'mahal', 'biaya', 'mesan', 'yg', 'bener', 'aja', 'gofood', 'makan', 'harga', 'rb', 'ongkir', 'biaya', 'mesan', 'rb', 'mahal', 'ongkir', 'harga', 'makan', 'males', 'pakai', 'gojek', 'langgan', 'setia', 'kecewa', 'gojek']\n",
      "163 ['dear', 'gojek', 'sadar', 'paylater', 'tlp', 'cc', 'gojek', 'tagih', 'paylater', 'gimana', 'cerita', 'tolong', 'tindak', 'lanjut', 'rugi', 'ganggu', 'ulas', 'lengkapdear', 'gojek', 'sadar', 'paylater', 'tlp', 'cc', 'gojek', 'tagih', 'paylater', 'gimana', 'cerita', 'tolong', 'tindak', 'lanjut', 'rugi', 'ganggu', 'guna', 'applikasi', 'terimakasih']\n",
      "164 ['komplain', 'nilai', 'resto', 'sedia', 'makan', 'resto', 'yg', 'amburadul', 'saji', 'mana', 'pesan', 'tdk', 'sesuai', 'dgn', 'aplikasi', 'kurang', 'bahan', 'bahan', 'makan', 'untung', 'jgn', 'jual', 'yg', 'curang']\n",
      "165 ['susah', 'driver', 'gocar', 'goride', 'gofood', 'tambah', 'biaya', 'mesan', 'pesan', 'app', 'gojek', 'pakai', 'kuota', 'gojek', 'tdk', 'nunjukin', 'aja', 'format', 'order', 'tmpt', 'yg', 'pes', 'tp', 'biaya', 'lelet', 'org', 'pesan', 'tp', 'gojek', 'order', 'yg', 'blm', 'clear', 'gimana', 'sih']\n",
      "166 ['gorontalo', 'bnyak', 'kemudi', 'batal', 'tunggu', 'ujung', 'nya', 'batal', 'tolong', 'kelola', 'gojek', 'kemudi', 'yg', 'kayak', 'gitu', 'langsung', 'hapus', 'aja', 'akun']\n",
      "167 ['akun', 'gojek', 'verifikasi', 'dg', 'email', 'akun', 'org', 'ntah', 'org', 'nya', 'gak', 'ganti', 'dg', 'akun', 'email', 'gimana', 'sih', 'aplikasi', 'nya', 'no', 'nya', 'pake', 'nomor']\n",
      "168 ['please', 'sedia', 'lokasi', 'paksa', 'mode', 'hemat', 'mode', 'akurat', 'klw', 'user', 'pilih', 'mode', 'device', 'only', 'gps', 'lokasi', 'tingkat', 'akurasi', 'm', 'mode', 'gps', 'only', 'lambat', 'dapet', 'lokasi', 'lokasi', 'tingkat', 'akurasi', 'penggu', 'ulas', 'lengkapplease', 'sedia', 'lokasi', 'paksa', 'mode', 'hemat', 'mode', 'akurat', 'klw', 'user', 'pilih', 'mode', 'device', 'only', 'gps', 'lokasi', 'tingkat', 'akurasi', 'm', 'mode', 'gps', 'only', 'lambat', 'dapet', 'lokasi', 'lokasi', 'tingkat', 'akurasi', 'guna', 'ponsel', 'yg', 'pilih', 'node', 'lokasi', 'device', 'only', 'konsekuensi', 'pesan', 'go', 'food']\n",
      "169 ['gila', 'aja', 'top', 'up', 'gopay', 'gk', 'prnh', 'masuk', 'trs', 'an', 'tlp', 'cs', 'hadeuhhhh', 'tunggu', 'jam', 'gila', 'aja', 'buruukk', 'mles', 'pke', 'gojek', 'sorry', 'coy']\n",
      "170 ['driver', 'marah', 'marah', 'kasih', 'bintang', 'nuduh', 'nuduh', 'gausa', 'pake', 'ojol', 'kalo', 'bikin', 'orang', 'susah', 'ya', 'tau', 'senin', 'temen', 'mentang', 'mentang', 'driver', 'langsung', 'wa', 'yg', 'ngibul', 'udah', 'tau', 'ganti', 'nomer', 'gojek', 'biar', 'ntr', 'telepon', 'driver', 'heran', 'marah', 'marah', 'rejeki', 'ya', 'ka', 'ulas', 'lengkapdriver', 'marah', 'marah', 'kasih', 'bintang', 'nuduh', 'nuduh', 'gausa', 'pake', 'ojol', 'kalo', 'bikin', 'orang', 'susah', 'ya', 'tau', 'senin', 'temen', 'mentang', 'mentang', 'driver', 'langsung', 'wa', 'yg', 'ngibul', 'udah', 'tau', 'ganti', 'nomer', 'gojek', 'biar', 'ntr', 'telepon', 'driver', 'heran', 'marah', 'marah', 'rejeki', 'ya', 'kalo', 'sepi', 'salahin', 'tumpang', 'udah', 'kasih', 'bintang', 'full', 'nuduh', 'kasih', 'bintang', 'pindah', 'gojek', 'apk', 'tetangga', 'sopan']\n",
      "171 ['gofood', 'pakai', 'kode', 'promo', 'pesan', 'potong', 'tp', 'driver', 'antar', 'maaf', 'ko', 'eh', 'harga', 'nya', 'promo', 'sial', 'gw', 'uninstall', 'nih', 'app', 'tipu']\n",
      "172 ['login', 'udah', 'nulis', 'nomer', 'telfon', 'pas', 'login', 'notice', 'ups', 'salah', 'coba', 'responnya', 'pesan', 'makan', 'gofood', 'ga']\n",
      "173 ['mohon', 'yg', 'aplikasi', 'pikir', 'mangkal', 'yg', 'sesuai', 'abang', 'ojolnya', 'parkir', 'enak', 'jidat', 'mna', 'bikin', 'macet', 'jgn', 'untung', 'nya', 'aja', 'lu', 'rugi', 'masyarakat', 'perintah', 'yg', 'nanggung']\n",
      "174 ['error', 'temu', 'lokasi', 'pesan', 'apa', 'dapet', 'voucher', 'tolong', 'baik', 'cepat']\n",
      "175 ['gojek', 'tollol', 'gw', 'guna', 'aktif', 'main', 'bekuin', 'aja', 'suruh', 'ganti', 'hp', 'lo', 'ganti', 'hp', 'kaya', 'ganti', 'kartu', 'perdana', 'ayo', 'rame', 'rame', 'uninstall', 'go', 'jek', 'pindah', 'grab', 'biar', 'go', 'jek', 'mikir', 'kalu', 'tinggal', 'customer', 'bangkrut', 'lo', 'sial']\n",
      "176 ['aplikasi', 'gojek', 'payah', 'biaya', 'go', 'ride', 'x', 'lipat', 'seringkali', 'ngasih', 'misi', 'ga', 'udah', 'buang', 'uang', 'ikut', 'misi', 'ga', 'promo', 'dlu', 'gojek', 'potong', 'ongkir', 'mmberi', 'promo', 'gratis', 'go', 'ride', 'maaf', 'ya', 'kasih', 'bintang', 'unt', 'ulas', 'lengkapaplikasi', 'gojek', 'payah', 'biaya', 'go', 'ride', 'x', 'lipat', 'seringkali', 'ngasih', 'misi', 'ga', 'udah', 'buang', 'uang', 'ikut', 'misi', 'ga', 'promo', 'dlu', 'gojek', 'potong', 'ongkir', 'mmberi', 'promo', 'gratis', 'go', 'ride', 'maaf', 'ya', 'kasih', 'bintang', 'aplikasi', 'nya']\n",
      "177 ['tolong', 'ya', 'seleksi', 'pilih', 'driver', 'pilih', 'baca', 'maps', 'etika', 'kali', 'laku', 'ramah', 'driver', 'bentak', 'telfon', 'driver', 'paham', 'titik', 'yg', 'unjuk', 'parah', 'mencancel', 'men', 'ulas', 'lengkaptolong', 'ya', 'seleksi', 'pilih', 'driver', 'pilih', 'baca', 'maps', 'etika', 'kali', 'laku', 'ramah', 'driver', 'bentak', 'telfon', 'driver', 'paham', 'titik', 'yg', 'unjuk', 'parah', 'mencancel', 'tunggu', 'menit', 'alamat', 'titik', 'ulang', 'driver', 'yg', 'paham', 'maksud', 'tp', 'cancel', 'in', 'tolong', 'seleksi', 'ya', 'gojek']\n",
      "178 ['aplikasi', 'cepat', 'kaya', 'pesan', 'gofood', 'udah', 'biaya', 'ongkir', 'mahal', 'biaya', 'mesan', 'biaya', 'mesan', 'sih', 'ga', 'biaya', 'mesan', 'kategori', 'kategori', 'cepat', 'kaya', 'gimana']\n"
     ]
    },
    {
     "name": "stdout",
     "output_type": "stream",
     "text": [
      "179 ['pas', 'bayar', 'paylater', 'gak', 'kena', 'denda', 'salah', 'yg', 'denda', 'emang', 'aja', 'tetep', 'aja', 'gak', 'asyik', 'dahan']\n",
      "180 ['tolong', 'mesan', 'gofoodnya', 'baik', 'total', 'mesan', 'biaya', 'ongkir', 'kasih', 'diskon', 'tambah', 'biaya', 'onkir', 'mesan', 'gofood', 'kali', 'bayar', 'ongkir', 'fatal', 'banget', 'mnrutku', 'tolong', 'baik']\n",
      "181 ['voucher', 'goride', 'potong', 'maks', 'k', 'ga', 'pakai', 'udah', 'klik', 'pakai', 'pembayan', 'tunai', 'gopay', 'l', 'gopaylater', 'ga', 'yg', 'potong', 'ampun', 'knp', 'gw', 'update', 'jd', 'gw', 'update', 'ga', 'tau', 'aja', 'knp']\n",
      "182 ['kasih', 'ya', 'upgrade', 'gopay', 'susah', 'banget', 'kirim', 'ktp', 'kali', 'foto', 'selfi', 'ktp', 'tolak', 'uang', 'tahan', 'gopay', 'tarik', 'alas', 'id', 'dipoto', 'langsung', 'kamera', 'poto', 'langsung', 'kamera', 'ga', 'pilih', 'ambil', 'pot', 'ulas', 'lengkapsaya', 'kasih', 'ya', 'upgrade', 'gopay', 'susah', 'banget', 'kirim', 'ktp', 'kali', 'foto', 'selfi', 'ktp', 'tolak', 'uang', 'tahan', 'gopay', 'tarik', 'alas', 'id', 'dipoto', 'langsung', 'kamera', 'poto', 'langsung', 'kamera', 'ga', 'pilih', 'ambil', 'poto', 'galeri', 'alas', 'poto', 'terang', 'anehhhhhhh', 'tolong', 'tingkat', 'servicenya']\n",
      "183 ['heran', 'ko', 'skrg', 'sen', 'goride', 'susah', 'ya', 'perlu', 'tolong', 'baik', 'jgn', 'kaya', 'gin', 'sulit', 'gojek', 'tinggal', 'kota', 'ko', 'ngga', 'yg', 'nerima', 'pesan', 'zzzz', 'baik']\n",
      "184 ['sayang', 'skali', 'promo', 'gofood', 'nya', 'kalah', 'aplikasi', 'belah', 'mahal', 'tpi', 'promonya', 'sistem', 'aman', 'jg', 'lemah', 'yg', 'rubah', 'kecewa', 'gojek', 'uninstall', 'alih', 'aplikasi', 'belah']\n",
      "185 ['voucher', 'laku', 'order', 'makan', 'voucher', 'tp', 'makan', 'vouchernya', 'hilang', 'diresto', 'ubah', 'harga', 'makan', 'bayar', 'makan', 'penuh', 'potong', 'voucher', 'gojek', 'emg', 'gak', 'konsisten', 'dlm', 'promo', 'beda', 'grab', 'yg', 'b', 'ulas', 'lengkapvoucher', 'laku', 'order', 'makan', 'voucher', 'tp', 'makan', 'vouchernya', 'hilang', 'diresto', 'ubah', 'harga', 'makan', 'bayar', 'makan', 'penuh', 'potong', 'voucher', 'gojek', 'emg', 'gak', 'konsisten', 'dlm', 'promo', 'beda', 'grab', 'yg', 'blm', 'kecewa']\n",
      "186 ['driver', 'nya', 'ga', 'ramah', 'ramah', 'si', 'drivernya', 'tau', 'titik', 'sibdrivernya', 'yg', 'marah', 'dateng', 'bawa', 'orang', 'pakai', 'jaket', 'grab', 'kaya', 'ngajakin', 'antem', 'paraaahhhh', 'niat', 'kasih', 'tips', 'jd', 'males', 'drivernya', 'doang', 'aplikasi', 'gojek', 'ga', 'sele', 'ulas', 'lengkapdriver', 'nya', 'ga', 'ramah', 'ramah', 'si', 'drivernya', 'tau', 'titik', 'sibdrivernya', 'yg', 'marah', 'dateng', 'bawa', 'orang', 'pakai', 'jaket', 'grab', 'kaya', 'ngajakin', 'antem', 'paraaahhhh', 'niat', 'kasih', 'tips', 'jd', 'males', 'drivernya', 'doang', 'aplikasi', 'gojek', 'ga', 'seleksi', 'yg', 'jd', 'driver']\n",
      "187 ['upgrade', 'gak', 'tolong', 'benerin', 'sebel', 'deh', 'aneh', 'mulu', 'mulu', 'gak', 'puluh', 'puluh', 'kali', 'benerin', 'donggg', 'ganti', 'bintang']\n",
      "188 ['saldo', 'gopay', 'masuk', 'history', 'mobile', 'bangking', 'ulang', 'kali', 'kerja', 'gojek', 'buruk', 'rugi', 'konsumen', 'parah']\n",
      "189 ['go', 'jek', 'wajib', 'bayar', 'tagih', 'yg', 'transaksi', 'apa', 'paylater', 'klh', 'tagih', 'rp', 'maaf', 'ganggu', 'mohon', 'tinjau']\n",
      "190 ['kesel', 'klo', 'driver', 'nya', 'yg', 'ga', 'tau', 'jalan', 'nyolot', 'ga', 'usaha', 'nyari', 'kadang', 'yg', 'nelpon', 'ulang', 'kali', 'kadang', 'driver', 'nya', 'suka', 'main', 'oper', 'temen', 'nya', 'yg', 'pemberitahuan', 'ok', 'gitu', 'aja', 'makasih']\n",
      "191 ['gojek', 'nomor', 'hp', 'daftar', 'akun', 'gojek', 'tangan', 'tipu', 'yg', 'aku', 'gojek', 'tipu', 'niat', 'ambil', 'alih', 'dana', 'salah', 'rekening', 'bank', 'milik', 'coba', 'aktif', 'rekening', 'phonecell', 'hp', 'tipu', 'gojek', 'pikir', 'ulas', 'lengkapada', 'gojek', 'nomor', 'hp', 'daftar', 'akun', 'gojek', 'tangan', 'tipu', 'yg', 'aku', 'gojek', 'tipu', 'niat', 'ambil', 'alih', 'dana', 'salah', 'rekening', 'bank', 'milik', 'coba', 'aktif', 'rekening', 'phonecell', 'hp', 'tipu', 'gojek', 'pikir', 'baik']\n",
      "192 ['alamat', 'klik', 'muncul', 'masuk', 'alamat', 'tulis', 'ulang', 'server', 'padat', 'rayap', 'hp', 'teman', 'normal', 'aja']\n",
      "193 ['tanggal', 'desember', 'yg', 'telp', 'hp', 'blg', 'klo', 'hadiah', 'undi', 'pt', 'gojek', 'nila', 'juta', 'tau', 'klo', 'tipu', 'cuman', 'yg', 'heran', 'orgnya', 'tau', 'akun', 'gojek', 'data', 'pribadi', 'akun', 'gojek', 'gak', 'privasi', 'ya']\n",
      "194 ['akun', 'dibekukann', 'gara', 'cancel', 'cancel', 'gara', 'drivernya', 'gabisaaa', 'drivernyaa', 'gaada', 'uang', 'beli', 'makan', 'sampe', 'x', 'sen', 'gaada', 'yg', 'bisaa', 'teruss', 'akun', 'dibekukannnnnn']\n",
      "195 ['gojek', 'bantu', 'buntu', 'paksa', 'orang', 'beli', 'makan', 'mahal', 'diskon', 'diskon', 'udah', 'ratting', 'turun', 'gak', 'takut', 'kalah', 'saing', 'ojol', 'belah', 'udah', 'hebat', 'rip', 'gojek', 'hilang']\n",
      "196 ['gojek', 'tipu', 'iya', 'dgn', 'iming', 'ngasih', 'hadian', 'jt', 'tp', 'isi', 'salodo', 'gopay', 'eh', 'akun', 'gojek', 'yg', 'hak', 'si', 'tipu', 'uang', 'gopay', 'yg', 'isi', 'ribu', 'hilang', 'gtu', 'aja', 'uang', 'rb', 'ngaktifin', 'biar', 'bi', 'ulas', 'lengkapkok', 'gojek', 'tipu', 'iya', 'dgn', 'iming', 'ngasih', 'hadian', 'jt', 'tp', 'isi', 'salodo', 'gopay', 'eh', 'akun', 'gojek', 'yg', 'hak', 'si', 'tipu', 'uang', 'gopay', 'yg', 'isi', 'ribu', 'hilang', 'gtu', 'aja', 'uang', 'rb', 'ngaktifin', 'biar', 'uang', 'nya', 'ambil', 'tagih', 'nya', 'tp', 'd', 'suruh', 'bayar', 'enak', 'bgt', 'iya', 'udh', 'nipu', 'bayar', 'emang', 'bangsat', 'tuh', 'tipu', 'unistal', 'gojek']\n",
      "197 ['aktif', 'gofood', 'plus', 'tpi', 'mes', 'gofood', 'potong', 'diskon', 'tolong', 'gojek', 'baik', 'uang', 'sdh', 'potong', 'aktif', 'gofood', 'plus', 'tpi', 'diskon', 'rugi']\n",
      "198 ['first', 'time', 'ngasih', 'nilai', 'aplikasi', 'aplikasi', 'buruk', 'terima', 'kasih', 'gojek', 'berkat', 'pindah', 'grab', 'moga', 'guna', 'gojek', 'yg', 'pindah', 'grab', 'gojek', 'saldo', 'gopay', 'hilang', 'gak', 'si', 'kadang', 'k', 'k', 'sa', 'ulas', 'lengkapfirst', 'time', 'ngasih', 'nilai', 'aplikasi', 'aplikasi', 'buruk', 'terima', 'kasih', 'gojek', 'berkat', 'pindah', 'grab', 'moga', 'guna', 'gojek', 'yg', 'pindah', 'grab', 'gojek', 'saldo', 'gopay', 'hilang', 'gak', 'si', 'kadang', 'k', 'k', 'saldo', 'sisa', 'hilang', 'upgrade', 'jg', 'adaaa', 'ajaaa', 'alas', 'nya', 'sampe', 'udah', 'foto', 'x', 'tetep', 'gak', 'ktp', 'gak', 'foto', 'gak', 'pake', 'kamera', 'maksud', 'mu']\n",
      "199 ['tolong', 'respon', 'cepat', 'beli', 'paket', 'data', 'bimatri', 'pake', 'gopay', 'paket', 'data', 'masuk', 'gopay', 'potong', 'coba', 'email', 'respon', 'gimana', 'nih']\n",
      "200 ['bagus', 'aplikasi', 'suka', 'vocer', 'diskon', 'nya', 'bantu', 'moga', 'sukses']\n",
      "201 ['sen', 'goride', 'pake', 'voucher', 'cancel', 'sampe', 'kali', 'pas', 'pke', 'voucher', 'yg', 'ambil', 'dn', 'driver', 'yg', 'ambil', 'yg', 'cancel', 'order', 'pas', 'pake', 'voucher', 'sebener', 'nya', 'tuh', 'kalo', 'pke', 'voucher', 'dampak', 'negativ', 'sih', 'driver', 'nya']\n",
      "202 ['gojek', 'butuh', 'transportasi', 'dadak', 'gojek', 'bantu', 'terimakasih']\n",
      "203 ['driver', 'gojek', 'ramah', 'bintang', 'sesuai', 'kpd', 'terimakasih', 'gojek', 'peluang', 'kerja', 'calon', 'suami', 'yg', 'usaha', 'halau', 'hehe', 'aamiin']\n",
      "204 ['i', 'love', 'produk', 'indonesia', 'kalo', 'baik', 'data', 'base', 'cari', 'data', 'base', 'lokasi', 'gps', 'msh']\n",
      "205 ['tolong', 'nilai', 'resto', 'nya', 'biar', 'pake', 'gambar', 'foto', 'kesel', 'kali', 'kali', 'gk', 'lauk', 'adts', 'yg', 'lupa']\n",
      "206 ['mantap', 'tp', 'mantap', 'go', 'market', 'ibuk', 'yg', 'pasar', 'supermarket', 'belanja', 'gojek', 'sukses']\n",
      "207 ['mudah', 'butuh', 'rumah', 'tangga', 'transfortasi', 'dll', 'gojek', 'mantap']\n",
      "208 ['aplikasi', 'nya', 'bagus', 'pesan', 'goride', 'langsung', 'driver', 'cepat', 'rumah', 'tolong', 'banyakin', 'promo', 'promo', 'tarik']\n",
      "209 ['mantap', 'aplikasi', 'bantu', 'transaksi', 'kurang', 'top', 'up', 'saldo', 'khusus', 'customer', 'saran', 'tentu', 'nominal', 'top', 'upnya', 'ilah', 'bebas', 'customer', 'top', 'up']\n",
      "210 ['maaf', 'komentar', 'karena', 'aplikasi', 'batal', 'pesan', 'gojek', 'gocar', 'langsung', 'krn', 'conteng', 'alas', 'apa', 'yg', 'pilih', 'marah', 'gocar', 'gojek', 'sangkut', 'k', 'ulas', 'lengkapmaaf', 'komentar', 'karena', 'aplikasi', 'batal', 'pesan', 'gojek', 'gocar', 'langsung', 'krn', 'conteng', 'alas', 'apa', 'yg', 'pilih', 'marah', 'gocar', 'gojek', 'sangkut', 'kasar', 'yg', 'terima', 'salah', 'batal', 'pesan', 'dkarenakan', 'dadak', 'sakit', 'dadak', 'batal', 'rute', 'jalan', 'tidak', 'tau', 'tunggu']\n"
     ]
    },
    {
     "name": "stdout",
     "output_type": "stream",
     "text": [
      "211 ['aplikasi', 'mudah', 'guna', 'praktis', 'ayo', 'teman', 'download', 'aplikasi', 'gojek', 'keuntunganya', 'guna']\n",
      "212 ['bantu', 'anak', 'kosan', 'yg', 'laper', 'malem', 'trus', 'mager', 'kuar', 'thankyou', 'so', 'much', 'otw', 'krja', 'udah', 'mepet', 'gada', 'kendara', 'yaa', 'pake', 'go', 'ride', 'promo']\n",
      "213 ['terimakasih', 'admin', 'aplikasi', 'gojek', 'lambat', 'seko', 'kalo', 'nyari', 'ojek', 'pangkal', 'mah', 'lambat', 'banget', 'pas', 'gak', 'gak', 'pergi', 'sekolah']\n",
      "214 ['penuh', 'butuh', 'transportasi', 'kirim', 'doc', 'barang', 'makan', 'tinggal', 'klik', 'penuh', 'acara', 'ribet', 'lelet']\n",
      "215 ['gopay', 'paylater', 'driver', 'temen', 'driver', 'yg', 'driver', 'paylater']\n",
      "216 ['untung', 'masyarakat', 'kurang', 'macet', 'mana', 'kendraan', 'suka', 'kendraan']\n",
      "217 ['mantap', 'mamang', 'apk', 'mudah', 'urus', 'lapar', 'habis', 'pulsa', 'kuota', 'vocer', 'game', 'transportasi', 'sih', 'udah', 'bantu', 'nya', 'cepat', 'akun', 'hilang', 'jam', 'yg', 'bantu', 'cs', 'akun', 'nya', 'ama', 'ulas', 'lengkapmantap', 'mamang', 'apk', 'mudah', 'urus', 'lapar', 'habis', 'pulsa', 'kuota', 'vocer', 'game', 'transportasi', 'sih', 'udah', 'bantu', 'nya', 'cepat', 'akun', 'hilang', 'jam', 'yg', 'bantu', 'cs', 'akun', 'nya', 'aman', 'tangan', 'thanks', 'go', 'jek']\n",
      "218 ['bagus', 'muas', 'langgan', 'go', 'pay', 'top', 'up', 'game', 'mohon', 'game', 'via', 'top', 'up', 'go', 'pay', 'game', 'dragon', 'nest', 'm', 'tunggu', 'update', 'nya', 'min', 'pelase', 'tunggu']\n",
      "219 ['aplikasi', 'bantu', 'promonya', 'drivernya', 'jga', 'ramah', 'yg', 'ngerokok', 'gk', 'enak', 'klo', 'dimatiin', 'tolong', 'perhati']\n",
      "220 ['aplikasi', 'promo', 'murah', 'saldo', 'go', 'paynya', 'gampang', 'isi', 'saldo', 'senang', 'usaha', 'rancang', 'generasi', 'bangsa', 'dampak', 'positif', 'rakyat', 'indonesia', 'salah', 'satu', 'inspirasi', 'anak', 'muda', 'karya', 'maju', 'bangsa', 'indonesia', 'leb', 'ulas', 'lengkapaplikasinya', 'promo', 'murah', 'saldo', 'go', 'paynya', 'gampang', 'isi', 'saldo', 'senang', 'usaha', 'rancang', 'generasi', 'bangsa', 'dampak', 'positif', 'rakyat', 'indonesia', 'salah', 'satu', 'inspirasi', 'anak', 'muda', 'karya', 'maju', 'bangsa', 'indonesia', 'moga', 'gojek', 'usaha', 'raksasa', 'skala', 'indonesia', 'internasional', 'aamiin']\n",
      "221 ['bantu', 'customer', 'guna', 'gojek', 'akun', 'beku', 'karna', 'salah', 'karna', 'driverpun', 'reting', 'penilayan', 'custemer', 'judes', 'pelit', 'rese', 'suka', 'mampir', 'tp', 'ga', 'ngasih', 'tip', 'suka', 'ngatur', 'jalan', 'driver', 'nga', 'ulas', 'lengkapsangat', 'bantu', 'customer', 'guna', 'gojek', 'akun', 'beku', 'karna', 'salah', 'karna', 'driverpun', 'reting', 'penilayan', 'custemer', 'judes', 'pelit', 'rese', 'suka', 'mampir', 'tp', 'ga', 'ngasih', 'tip', 'suka', 'ngatur', 'jalan', 'driver', 'ngasih', 'bintang', 'd', 'beku', 'akun', 'mangkanya', 'kasih', 'reting', 'smua', 'sma', 'butuh', 'jgn', 'menang']\n",
      "222 ['asyiikk', 'byr', 'pakai', 'gopay', 'praktis', 'bnyak', 'vouchernya', 'aplg', 'voucher', 'blj', 'd', 'alfamart', 'dpt', 'hrga', 'diskon', 'krn', 'ad', 'gopay', 'hajat', 'dgn', 'gopay', 'bs', 'sen', 'go', 'food', 'favorit', 'q', 'duh', 'senengane', 'trmksh', 'gopay', 'love', 'you']\n",
      "223 ['oke', 'tinggal', 'kembang', 'promo', 'tanggung', 'kasih', 'baik', 'promo', 'go', 'food', 'go', 'ride', 'selamat', 'tugas']\n",
      "224 ['mohon', 'sanksi', 'driver', 'milih', 'jarak', 'tumpang', 'ga', 'narik', 'cancel', 'aja', 'tunggu', 'nunggu', 'tumpang', 'cancel']\n",
      "225 ['alam', 'pakai', 'app', 'gojek', 'bantu', 'moga', 'gojek', 'kota', 'manis', 'pangkal', 'bun', 'kalimantan', 'masyarakat', 'layan', 'transportasi', 'delivery', 'aman', 'jangkau', 'tunggu', 'datang', 'gojek']\n",
      "226 ['siippp', 'apl', 'belah', 'apl', 'belah', 'update', 'gede', 'bikin', 'lot', 'driver', 'nya', 'ramah', 'belah', 'pdhl', 'harga', 'murah', 'tp', 'belah', 'driver', 'nya', 'ajar', 'nb', 'harga', 'nya', 'murah', 'kasi', 'drivernya', 'kalo', 'na', 'ulas', 'lengkapmakin', 'siippp', 'apl', 'belah', 'apl', 'belah', 'update', 'gede', 'bikin', 'lot', 'driver', 'nya', 'ramah', 'belah', 'pdhl', 'harga', 'murah', 'tp', 'belah', 'driver', 'nya', 'ajar', 'nb', 'harga', 'nya', 'murah', 'kasi', 'drivernya', 'kalo', 'naik', 'dikit', 'no', 'problem', 'tumpang', 'thanx']\n",
      "227 ['gojek', 'hidup', 'mudah', 'indah', 'barokah', 'sedekah', 'tel', 'ludah', 'hadiah', 'nafkah', 'mudah', 'butuh', 'sedia', 'indah', 'hemat', 'tenaga', 'biaya', 'barokah', 'misi', 'sosial', 'butuh', 'sedekah', 'ulas', 'lengkapbersama', 'gojek', 'hidup', 'mudah', 'indah', 'barokah', 'sedekah', 'tel', 'ludah', 'hadiah', 'nafkah', 'mudah', 'butuh', 'sedia', 'indah', 'hemat', 'tenaga', 'biaya', 'barokah', 'misi', 'sosial', 'butuh', 'sedekah', 'niat', 'tip', 'bantu', 'tel', 'ludah', 'menu', 'lezat', 'nafkah', 'cari', 'nafkah', 'bantu', 'keren']\n",
      "228 ['kisah', 'kisah', 'pilu', 'aq', 'tgl', 'tua', 'dadak', 'ga', 'kendara', 'rumah', 'pergi', 'urus', 'bingung', 'alhamdulillah', 'dgn', 'nya', 'gojek', 'mudah', 'sy', 'pergi', 'mana', 'az', 'dgn', 'kantong', 'yg', 'ngepas', 'an', 'dpt', 'promo', 'ttp', 'az', 'ga', 'tega', 'ngasih', 'jasa', 'trip', 'nya', 'driver', 'sy', 'tambahin', 'tp', 'ulas', 'lengkapkisah', 'kisah', 'pilu', 'aq', 'tgl', 'tua', 'dadak', 'ga', 'kendara', 'rumah', 'pergi', 'urus', 'bingung', 'alhamdulillah', 'dgn', 'nya', 'gojek', 'mudah', 'sy', 'pergi', 'mana', 'az', 'dgn', 'kantong', 'yg', 'ngepas', 'an', 'dpt', 'promo', 'ttp', 'az', 'ga', 'tega', 'ngasih', 'jasa', 'trip', 'nya', 'driver', 'sy', 'tambahin', 'tp', 'bantu', 'sy', 'yg', 'tanggung', 'sukses', 'go', 'jek', 'moga', 'drivernya', 'jujur', 'amanah']\n",
      "229 ['terima', 'kasih', 'gojek', 'paylater', 'pas', 'malem', 'malem', 'jam', 'laper', 'pesan', 'gofood', 'eeh', 'saldo', 'gopay', 'tiris', 'lupa', 'ambil', 'uang', 'atm', 'tolong', 'paylater', 'deh', 'neng', 'thanks', 'gojek']\n",
      "230 ['gojek', 'tolong', 'nyaring', 'lg', 'guna', 'nomer', 'yg', 'daftar', 'aplikasi', 'tumpang', 'nomer', 'negri', 'acc', 'rugi', 'driver', 'aplikator', 'thanks', 'moga', 'ulas']\n",
      "231 ['tempat', 'tuju', 'mudah', 'cepat', 'pokok', 'layan', 'nya', 'bagus', 'dech', 'keren', 'tingkat']\n",
      "232 ['tolong', 'aplikasi', 'gojek', 'kagak', 'digunain', 'udah', 'diperbaruin', 'mesen', 'gofood', 'ngak', 'info', 'minta', 'tolak', 'tolong', 'yah', 'udah', 'ngak', 'digunain']\n",
      "233 ['tolong', 'gojek', 'foto', 'miskomunikasi', 'alamat', 'kalo', 'foto', 'enak', 'foto', 'terimakasih']\n",
      "234 ['nih', 'sen', 'makan', 'dpet', 'driver', 'deket', 'gitu', 'dri', 'tuju', 'tpi', 'gk', 'selang', 'driver', 'nya', 'ganti', 'trus', 'dpat', 'driver', 'eh', 'driver', 'nya', 'bal', 'lokasi', 'surabaya', 'aneh', 'gitu', 'ya', 'resah', 'pes', 'ulas', 'lengkapsaya', 'nih', 'sen', 'makan', 'dpet', 'driver', 'deket', 'gitu', 'dri', 'tuju', 'tpi', 'gk', 'selang', 'driver', 'nya', 'ganti', 'trus', 'dpat', 'driver', 'eh', 'driver', 'nya', 'bal', 'lokasi', 'surabaya', 'aneh', 'gitu', 'ya', 'resah', 'sen', 'mohon', 'baik', 'nya']\n",
      "235 ['ckup', 'muas', 'suka', 'promonya', 'yg', 'khusus', 'gk', 'pake', 'rebut', 'kadang', 'suka', 'kesel', 'driver', 'go', 'food', 'yg', 'klu', 'gk', 'ambil', 'sen', 'gk', 'info', 'customer', 'diemiiiinn', 'ajh', 'dh', 'dapet', 'yg', 'kyk', 'gtu']\n",
      "236 ['min', 'tolong', 'tambahin', 'fitur', 'donasi', 'gaza', 'hasil', 'saudara', 'sana']\n",
      "237 ['cerdikiawan', 'me', 'rekomendasi', 'aplikasi', 'perlu', 'aplikasi', 'erti', 'kalah', 'doi', 'ngambek', 'mulu', 'kerja', 'nya']\n",
      "238 ['bantu', 'aktivitas', 'hari', 'kerja', 'kota', 'antat', 'jemput', 'anak', 'sekolah', 'jemput', 'istri', 'layan', 'go', 'food', 'kota', 'kali', 'jadi', 'yg', 'senang', 'driver', 'yg', 'batal', 'dg', 'alas', 'priba', 'ulas', 'lengkapsangat', 'bantu', 'aktivitas', 'hari', 'kerja', 'kota', 'antat', 'jemput', 'anak', 'sekolah', 'jemput', 'istri', 'layan', 'go', 'food', 'kota', 'kali', 'jadi', 'yg', 'senang', 'driver', 'yg', 'batal', 'dg', 'alas', 'pribadi', 'paham', 'terkadang', 'jarak', 'tempuh', 'nilai', 'sesuai', 'dg', 'ongkos', 'yg', 'terima', 'managemen', 'sistem', 'hasil', 'yg', 'adil', 'bijak']\n",
      "239 ['sy', 'tdk', 'promo', 'b', 'bird', 'sopir', 'pilih', 'bs', 'sy', 'ganti', 'bs', 'x', 'krna', 'batal', 'sopir', 'sulit', 'utk', 'daerah', 'jati', 'kramat', 'sx', 'nya', 'dpt', 'narik', 'kt', 'nya', 'dpt', 'diskon', 'rb', 'hrus', 'byr', 'rb', 'motg', 'saldo', 'gopay', 'sy', 'rb', 'pdhal', 'sy', 'tdk', 'batal', 'bb', 'tsb', 'pokok', 'sy', 'tdk', 'ulas', 'lengkapsy', 'tdk', 'promo', 'b', 'bird', 'sopir', 'pilih', 'bs', 'sy', 'ganti', 'bs', 'x', 'krna', 'batal', 'sopir', 'sulit', 'utk', 'daerah', 'jati', 'kramat', 'sx', 'nya', 'dpt', 'narik', 'kt', 'nya', 'dpt', 'diskon', 'rb', 'hrus', 'byr', 'rb', 'motg', 'saldo', 'gopay', 'sy', 'rb', 'pdhal', 'sy', 'tdk', 'batal', 'bb', 'tsb', 'pokok', 'sy', 'tdk', 'promo', 'bb', 'ok']\n"
     ]
    },
    {
     "name": "stdout",
     "output_type": "stream",
     "text": [
      "240 ['tolong', 'ya', 'grab', 'gojek', 'tombol', 'cancel', 'hapus', 'kasi', 'kalo', 'cancel', 'udh', 'susah', 'anterin', 'eh', 'pas', 'sampe', 'tuju', 'cancel', 'kasi', 'yg', 'main', 'kalo', 'pesan', 'makan', 'tolong', 'respon', 'gojek', 'grab']\n",
      "241 ['aplikasi', 'bantu', 'kadang', 'malas', 'jalan', 'kaki', 'malaz', 'malaz', 'kena', 'panas', 'malaz', 'kena', 'hujan', 'tinggal', 'klik', 'tinggal', 'tekan', 'gojek', 'makan', 'minum', 'pulsa', 'ato', 'listrik', 'game', 'keren', 'skrng', 'paylater', 'nya', 'muda', 'ulas', 'lengkapaplikasi', 'bantu', 'kadang', 'malas', 'jalan', 'kaki', 'malaz', 'malaz', 'kena', 'panas', 'malaz', 'kena', 'hujan', 'tinggal', 'klik', 'tinggal', 'tekan', 'gojek', 'makan', 'minum', 'pulsa', 'ato', 'listrik', 'game', 'keren', 'skrng', 'paylater', 'nya', 'mudah', 'klu', 'bawa', 'uang']\n",
      "242 ['terimakasih', 'gojek', 'sukses', 'ganjal', 'ken', 'nyoba', 'fitur', 'paylater', 'kasih', 'moga', 'aja', 'depa', 'kasih', 'sukses', 'gjek']\n",
      "243 ['terap', 'jual', 'voucher', 'discount', 'rasa', 'konsisten', 'krn', 'aplikasi', 'aplikasi', 'yg', 'rasa', 'guna', 'manfaat', 'maslahat', 'ummat', 'pelosok', 'tanah', 'air', 'cinta', 'bayar', 'jasa', 'gojek', 'amal', 'voucher', 'discount', 'terima', 'kasih', 'harga', 'ceo', 'gojek', 'b', 'ulas', 'lengkappenerapan', 'jual', 'voucher', 'discount', 'rasa', 'konsisten', 'krn', 'aplikasi', 'aplikasi', 'yg', 'rasa', 'guna', 'manfaat', 'maslahat', 'ummat', 'pelosok', 'tanah', 'air', 'cinta', 'bayar', 'jasa', 'gojek', 'amal', 'voucher', 'discount', 'terima', 'kasih', 'harga', 'ceo', 'gojek', 'nadiem', 'anwar', 'makarim', 'b', 'a', 'm', 'b', 'a', 'ide', 'baik', 'bangun', 'aplikasi', 'sukses', 'semangat', 'jalan', 'tugas', 'moga', 'amanah', 'bangun', 'bangsa', 'bidang', 'didik', 'depan']\n",
      "244 ['aplikasi', 'go', 'jek', 'nya', 'sih', 'bagus', 'yaa', 'kasih', 'promo', 'resto', 'nya', 'licik', 'yaa', 'harga', 'naik', 'biar', 'kesan', 'kasih', 'diskon', 'sampe', 'harga', 'harga', 'resto', 'hotel', 'bintang', 'kaki', 'sih', 'resto', 'ngejar', 'untung', 'gak', 'pikir', 'adab', 'jual', 'beli', 'jujur', 'dlm', 'b', 'ulas', 'lengkapaplikasi', 'go', 'jek', 'nya', 'sih', 'bagus', 'yaa', 'kasih', 'promo', 'resto', 'nya', 'licik', 'yaa', 'harga', 'naik', 'biar', 'kesan', 'kasih', 'diskon', 'sampe', 'harga', 'harga', 'resto', 'hotel', 'bintang', 'kaki', 'sih', 'resto', 'ngejar', 'untung', 'gak', 'pikir', 'adab', 'jual', 'beli', 'jujur', 'dlm', 'niaga', 'kemarin', 'order', 'go', 'food', 'desc', 'aplikasi', 'dgn', 'yg', 'gak', 'sesuai', 'ekspektasi', 'yg', 'promokan', 'aplikasi', 'kecewa']\n",
      "245 ['kutu', 'bug', 'tampil', 'qr', 'barcode', 'gopay', 'mana', 'tampil', 'tenggat', 'qr', 'bocor']\n",
      "246 ['gojek', 'bagus', 'bantu', 'sayang', 'driver', 'respon', 'antar', 'makan', 'gofood', 'kasi', 'bintang', 'dri', 'bnyk', 'driver', 'yg', 'g', 'trima', 'balas', 'via', 'wa', 'kpd', 'costumer', 'berat', 'yg', 'marah', 'mohon', 'perhati', 'klo', 'bagus', 'm', 'ulas', 'lengkapgojek', 'bagus', 'bantu', 'sayang', 'driver', 'respon', 'antar', 'makan', 'gofood', 'kasi', 'bintang', 'dri', 'bnyk', 'driver', 'yg', 'g', 'trima', 'balas', 'via', 'wa', 'kpd', 'costumer', 'berat', 'yg', 'marah', 'mohon', 'perhati', 'klo', 'bagus', 'komentar', 'bagus', 'layan', 'muas', 'harap', 'sadar', 'terima']\n",
      "247 ['layan', 'bagus', 'tp', 'tlg', 'kasi', 'note', 'utk', 'bbrp', 'driver', 'kdg', 'helm', 'bau', 'badan', 'jaket', 'perhati', 'bersih', 'utk', 'nyaman', 'tumpang', 'maaf', 'ya']\n",
      "248 ['bantu', 'gofood', 'pd', 'gak', 'bayang', 'kl', 'hrs', 'd', 'g', 'kendara', 'u', 'gojek', 'bantu', 'bangeeet', 'mancet', 'anak', 'les', 'plg', 'sekolah', 'kl', 'kendara', 'hrs', 'nunggu', 'blm', 'ngetemi', 'nya', 'wooouu', 'jogek', 'u', 'tbest']\n",
      "249 ['top', 'markotop', 'dah', 'gojek', 'gua', 'bantu', 'banget', 'aplikasi', 'gojek', 'pergi', 'gak', 'kendara', 'makan', 'badai', 'hujan', 'wokwok', 'drivernya', 'banyak', 'ramah', 'top', 'dah', 'poko', 'aplikasi', 'gojek']\n",
      "250 ['sih', 'nyaman', 'aja', 'layan', 'nya', 'makan', 'nya', 'prihatin', 'aja', 'haha', 'hubung', 'driver', 'nya', 'iklan', 'jual', 'nya', 'aja', 'lebay', 'cantik', 'cuman', 'design', 'wkwkw', 'thanks', 'layan', 'nya', 'maju', 'moga', 'murah', 'rezeki', 'aamiin']\n",
      "251 ['sgt', 'manfaat', 'contoh', 'bajar', 'aplikasi', 'gojek', 'manfaat', 'beda', 'suku', 'lai', 'klu', 'bs', 'karya', 'knapa', 'tdk', 'buru', 'dechhh']\n",
      "252 ['aman', 'sy', 'keluarga', 'lg', 'sy', 'pakai', 'anak', 'sekolah', 'tingkat', 'trs', 'ya', 'kualitas', 'nya']\n",
      "253 ['coba', 'pakek', 'gojek', 'sih', 'ga', 'pakek', 'maklum', 'beli', 'kalo', 'makan', 'kalo', 'motor', 'tpi', 'temen', 'bagus', 'aja', 'trus', 'coba', 'sen', 'gojek', 'berangkat', 'sekolah', 'cepet', 'banget', 'drivernya', 'udah', 'mepet', 'sekolah', 'menit', 'gerbang', 'ditut', 'ulas', 'lengkapbaru', 'coba', 'pakek', 'gojek', 'sih', 'ga', 'pakek', 'maklum', 'beli', 'kalo', 'makan', 'kalo', 'motor', 'tpi', 'temen', 'bagus', 'aja', 'trus', 'coba', 'sen', 'gojek', 'berangkat', 'sekolah', 'cepet', 'banget', 'drivernya', 'udah', 'mepet', 'sekolah', 'menit', 'gerbang', 'tutup', 'seko', 'goride', 'menit', 'pokok', 'good']\n",
      "254 ['bagus', 'gojek', 'titik', 'map', 'akurat', 'driver', 'bagus', 'sikap', 'bagus', 'kendara', 'jemput']\n",
      "255 ['bantu', 'nya', 'aplikasi', 'ok', 'lahhh', 'dar', 'masuk', 'kalo', 'tiket', 'tanding', 'sepak', 'bola', 'banyak', 'tiket', 'timnas', 'indonesia', 'jarang', 'banget', 'tiket', 'nya', 'aplikasi', 'terima', 'kasihhh']\n",
      "256 ['gojek', 'oke', 'buka', 'daftar', 'gobox', 'bandung', 'mitra', 'kalo', 'tutup', 'susah', 'driver', 'kun', 'jual', 'beli', 'sayang', 'gobox', 'akun', 'nya', 'jarang', 'pribadi', 'beda', 'orang', 'jual', 'belikan', 'tolong', 'atas', 'terse', 'ulas', 'lengkapgojek', 'oke', 'buka', 'daftar', 'gobox', 'bandung', 'mitra', 'kalo', 'tutup', 'susah', 'driver', 'kun', 'jual', 'beli', 'sayang', 'gobox', 'akun', 'nya', 'jarang', 'pribadi', 'beda', 'orang', 'jual', 'belikan', 'tolong', 'atas', 'update', 'driver', 'mitra', 'nya', 'jual', 'belikan', 'akun', 'nya']\n",
      "257 ['karya', 'anak', 'bangsa', 'bantu', 'kantong', 'sahabat', 'gojek', 'solusi', 'nya', 'vocher', 'vocher', 'bagi', 'terima', 'kasih', 'gojek', 'andal', 'karya', 'anak', 'bangsa', 'top', 'bgt']\n",
      "258 ['kasih', 'bintang', 'kasih', 'dg', 'yg', 'utama', 'nya', 'gak', 'ribet', 'gak', 'sulit', 'tahan', 'ya', 'gojek', 'gopaynya', 'updete', 'rumit', 'org', 'pandai', 'dlm', 'gadget']\n",
      "259 ['beli', 'kode', 'google', 'play', 'gak', 'redeem', 'setting', 'negara', 'lokasi', 'indonesia', 'solusi']\n",
      "260 ['saran', 'fasilitas', 'gosend', 'tambah', 'cod', 'untuk', 'dagang', 'online', 'jual', 'baju', 'dagang', 'makan', 'yg', 'pesan', 'terimakasih']\n",
      "261 ['bisnis', 'jual', 'pakai', 'gojek', 'tpi', 'tolong', 'pandu', 'driver', 'nya', 'donk', 'masak', 'driver', 'tunggu', 'dibatalin', 'dicancel', 'gtu', 'aja', 'besok', 'nya', 'akun', 'yg', 'blokir', 'nama', 'putus', 'rezeki', 'org', 'allah', 'tdk', 'prnh', 'tipu', 'tolong', 'driver', 'nya', 'kasih', 'a', 'ulas', 'lengkapsaya', 'bisnis', 'jual', 'pakai', 'gojek', 'tpi', 'tolong', 'pandu', 'driver', 'nya', 'donk', 'masak', 'driver', 'tunggu', 'dibatalin', 'dicancel', 'gtu', 'aja', 'besok', 'nya', 'akun', 'yg', 'blokir', 'nama', 'putus', 'rezeki', 'org', 'allah', 'tdk', 'prnh', 'tipu', 'tolong', 'driver', 'nya', 'kasih', 'arah']\n",
      "262 ['gojek', 'roda', 'ride', 'car', 'alhamdulillah', 'nyaman', 'sopir', 'tipe', 'layan', 'ok', 'sukses', 'gojek', 'tingkat', 'layan', 'aman', 'nyaman', 'langgan']\n",
      "263 ['aplikasi', 'bagus', 'bantu', 'jalan', 'kenyang', 'perut', 'lapar', 'terima', 'kasih', 'gojeg', 'sukses']\n",
      "264 ['makasih', 'aplikasi', 'gojek', 'udh', 'ngasih', 'harga', 'yg', 'murah', 'banget', 'knp', 'murah', 'pake', 'gopay', 'jd', 'bayar', 'hemat', 'banget', 'aplikasi', 'cocok', 'banget', 'ajar', 'kaya', 'makasih', 'udh', 'ngasih', 'voucher', 'potong', 'harga', 'jd', 'nya', 'ongkos', 'hemat', 'kl', 'sekolah', 'makasih', 'ban', 'ulas', 'lengkapmakasih', 'aplikasi', 'gojek', 'udh', 'ngasih', 'harga', 'yg', 'murah', 'banget', 'knp', 'murah', 'pake', 'gopay', 'jd', 'bayar', 'hemat', 'banget', 'aplikasi', 'cocok', 'banget', 'ajar', 'kaya', 'makasih', 'udh', 'ngasih', 'voucher', 'potong', 'harga', 'jd', 'nya', 'ongkos', 'hemat', 'kl', 'sekolah', 'makasih', 'aplikasi', 'gojek', 'udh', 'ngebantu', 'lupa', 'iya', 'kasih', 'voucher', 'lg']\n"
     ]
    },
    {
     "name": "stdout",
     "output_type": "stream",
     "text": [
      "265 ['app', 'guna', 'mudah', 'gofood', 'istri', 'pakai', 'gofood', 'apalgi', 'pas', 'vocher', 'hari', 'biaa', 'x', 'pesan', 'gofood']\n",
      "266 ['drivernya', 'sopan', 'ramah', 'hp', 'lowbat', 'posisi', 'butuh', 'banget', 'abang', 'tawar', 'pinjam', 'power', 'bank', 'nganter', 'go', 'food', 'cepat', 'acak', 'acak', 'tinggal', 'rombong', 'mesan', 'go', 'jek', 'jam', 'malam', 'gojek', 'percaya', 'ulas', 'lengkapdrivernya', 'sopan', 'ramah', 'hp', 'lowbat', 'posisi', 'butuh', 'banget', 'abang', 'tawar', 'pinjam', 'power', 'bank', 'nganter', 'go', 'food', 'cepat', 'acak', 'acak', 'tinggal', 'rombong', 'mesan', 'go', 'jek', 'jam', 'malam', 'gojek', 'percaya', 'tempat', 'lumayan', 'rawan', 'yaa', 'inti', 'gojek', 'percaya', 'layan', 'bintang', 'banget', 'trimakasih', 'gojek']\n",
      "267 ['aplikasi', 'gojek', 'darurat', 'antar', 'mana', 'pergi', 'terimakasih', 'gojek', 'driver', 'gojek']\n",
      "268 ['bantu', 'pas', 'kerja', 'qta', 'tinggal', 'pesan', 'gak', 'pkai', 'ribet', 'sikap', 'driver', 'nya', 'sll', 'ramah', 'harga', 'jg', 'jangkau', 'pas', 'banget', 'pokok', 'trima', 'kasih', 'gojek', 'smoga', 'sukses', 'lbh']\n",
      "269 ['aplikasi', 'bantu', 'pergi', 'cari', 'makan', 'klo', 'gak', 'masak', 'aja', 'dehh', 'klo', 'pergi', 'mana', 'gak', 'jemput', 'pake', 'aplikasi', 'gojek', 'aja', 'deh', 'voucher', 'nya', 'kali', 'pake', 'langsung', 'murah', 'harga', 'gofood', 'aplikasi', 'is', 'the', 'best', 'g', 'ulas', 'lengkapaplikasi', 'bantu', 'pergi', 'cari', 'makan', 'klo', 'gak', 'masak', 'aja', 'dehh', 'klo', 'pergi', 'mana', 'gak', 'jemput', 'pake', 'aplikasi', 'gojek', 'aja', 'deh', 'voucher', 'nya', 'kali', 'pake', 'langsung', 'murah', 'harga', 'gofood', 'aplikasi', 'is', 'the', 'best', 'guyss']\n",
      "270 ['apdetan', 'baru', 'kamis', 'november', 'jelek', 'banget', 'langsung', 'masuk', 'bikin', 'pin', 'bikin', 'masukin', 'otp', 'otp', 'gak', 'kirim', 'pesan', 'bolak', 'ulang', 'tetep', 'gak', 'kode', 'otp', 'dah', 'telpon', 'cs', 'gak', 'akun', 'suruh', 'nunggu', 'trus', 'ngulang', 'tetep', 'aja', 'gak', 'pes', 'ulas', 'lengkapapdetan', 'baru', 'kamis', 'november', 'jelek', 'banget', 'langsung', 'masuk', 'bikin', 'pin', 'bikin', 'masukin', 'otp', 'otp', 'gak', 'kirim', 'pesan', 'bolak', 'ulang', 'tetep', 'gak', 'kode', 'otp', 'dah', 'telpon', 'cs', 'gak', 'akun', 'suruh', 'nunggu', 'trus', 'ngulang', 'tetep', 'aja', 'gak', 'pesan', 'otp', 'masuk', 'nyebelin', 'gopay', 'aplikasi', 'gak', 'pakai', 'gara', 'diapdet', 'gin', 'dibalikin', 'belum', 'apdet', 'gak']\n",
      "271 ['suka', 'aplikasi', 'karna', 'promo', 'ongkir', 'nya', 'ga', 'mahal', 'pesan', 'makan', 'gak', 'nunggu', 'nya', 'nyampe', 'nya', 'sesuai', 'yg', 'kira', 'terimakasih', 'gojek', 'moga', 'aplikasi', 'jalan', 'manfaat', 'org']\n",
      "272 ['bagus', 'cepat', 'dapet', 'drivernya', 'terkadang', 'mes', 'gofood', 'resto', 'tulis', 'buka', 'jam', 'driver', 'resto', 'tutup', 'mohon', 'tingkat', 'kondisi', 'resto', 'sesuai', 'aplikasi', 'tolong', 't', 'ulas', 'lengkapsudah', 'bagus', 'cepat', 'dapet', 'drivernya', 'terkadang', 'mes', 'gofood', 'resto', 'tulis', 'buka', 'jam', 'driver', 'resto', 'tutup', 'mohon', 'tingkat', 'kondisi', 'resto', 'sesuai', 'aplikasi', 'tolong', 'tambah', 'fitur', 'tips', 'order', 'gofood', 'dicancel', 'driver', 'tips', 'uang', 'ganti', 'bensin', 'resto', 'resto', 'nya', 'tutup', 'terima', 'kasih']\n",
      "273 ['oke', 'bagus', 'guna', 'gojek', 'nya', 'telfon', 'atas', 'nama', 'gojek', 'modus', 'inti', 'nomor', 'kode', 'sms', 'yg', 'terima', 'mohon', 'kasih', 'tau', 'tipu', 'bajak', 'akun', 'gojek', 'alam', 'alhamdulillah', 'akun', 'ulas', 'lengkapoke', 'bagus', 'guna', 'gojek', 'nya', 'telfon', 'atas', 'nama', 'gojek', 'modus', 'inti', 'nomor', 'kode', 'sms', 'yg', 'terima', 'mohon', 'kasih', 'tau', 'tipu', 'bajak', 'akun', 'gojek', 'alam', 'alhamdulillah', 'akun', 'aman']\n",
      "274 ['susah', 'login', 'suru', 'email', 'cuman', 'karna', 'no', 'daftar', 'hilang', 'maaf', 'uninstal', 'wan', 'samapai', 'respon']\n",
      "275 ['dear', 'konsumen', 'order', 'makan', 'harap', 'kasih', 'note', 'pesan', 'salah', 'konfirmasi', 'driver', 'tukar', 'ratting', 'driver', 'karna', 'driver', 'yg', 'masak', 'yg', 'siap', 'pesan', 'deskripsi', 'produk', 'yg', 'lihat', 'menu', 'konsume', 'ulas', 'lengkapdear', 'konsumen', 'order', 'makan', 'harap', 'kasih', 'note', 'pesan', 'salah', 'konfirmasi', 'driver', 'tukar', 'ratting', 'driver', 'karna', 'driver', 'yg', 'masak', 'yg', 'siap', 'pesan', 'deskripsi', 'produk', 'yg', 'lihat', 'menu', 'konsumen', 'muncul', 'driver', 'layan', 'bela', 'orang', 'yg', 'layak', 'layan']\n",
      "276 ['alhamdulillah', 'aplikasi', 'gojek', 'bantu', 'moga', 'aplikasi', 'berkah', 'driver', 'guna', 'gojek', 'terimakasih', 'gojek', 'karya', 'anak', 'bangsa']\n",
      "277 ['tolong', 'baik', 'gopulsa', 'transaksi', 'pulsa', 'gagal', 'tolong', 'baik', 'terimakasih']\n",
      "278 ['tolong', 'kasih', 'vitur', 'arah', 'pulang', 'arah', 'tuju', 'biar', 'drever', 'ga', 'kosong', 'pas', 'pulang', 'kemaren', 'depok', 'jam', 'sore', 'nyampe', 'malem', 'ga', 'kasih', 'arah', 'pulang', 'muter', 'muter', 'depok', 'rumah', 'bekas', 'kosong', 'depok', 'nyampe', 'bekas', 'makas', 'ya']\n",
      "279 ['guna', 'enak', 'nya', 'rating', 'rendah', 'komentar', 'ga', 'rugi', 'si', 'driver', 'makan', 'minum', 'nya', 'bagus', 'enak', 'rating', 'padah', 'toko', 'nya', 'si', 'driver', 'driver', 'jual', 'jasa', 'produk', 'analogi', 'nya', 'kepa', 'ulas', 'lengkapbagi', 'guna', 'enak', 'nya', 'rating', 'rendah', 'komentar', 'ga', 'rugi', 'si', 'driver', 'makan', 'minum', 'nya', 'bagus', 'enak', 'rating', 'padah', 'toko', 'nya', 'si', 'driver', 'driver', 'jual', 'jasa', 'produk', 'analogi', 'nya', 'kepala', 'darah', 'ehh', 'kaki', 'perban']\n",
      "280 ['jemput', 'udah', 'nama', 'kendara', 'pakai', 'drivernya', 'tolong', 'update', 'biar', 'nama', 'kendara', 'drivernya', 'terimakasih']\n",
      "281 ['bantu', 'pergi', 'jarak', 'pendek', 'sayang', 'pergi', 'lain', 'hrs', 'pesan', 'buru', 'tam', 'program', 'dg', 'mobil', 'yg', 'mohon', 'jalan', 'pdrlu', 'mampir', 'driver', 'cemberut', 'mampir', 'atm']\n",
      "282 ['bagus', 'bantu', 'moga', 'layan', 'senantiasa', 'ramah', 'aman', 'nyaman', 'aamiin']\n",
      "283 ['mantap', 'klw', 'ad', 'komenan', 'dri', 'kastamber', 'jngan', 'langsung', 'sansi', 'dver', 'yah', 'kasi', 'ad', 'tmen', 'ngasih', 'paket', 'ambil', 'sma', 'bantu', 'yah', 'bantu', 'yah', 'lupa', 'ga', 'bilang', 'majikan', 'yah', 'trus', 'majikan', 'yah', 'nlp', 'cs', 'gojek', 'langung', 'si', 'sasven', 'dver', 'yah']\n",
      "284 ['sy', 'suka', 'aplikasi', 'go', 'jek', 'karna', 'bantu', 'sy', 'kemn', 'tdak', 'repot', 'lgi', 'pokok', 'nya', 'aja', 'aplikasi', 'go', 'jek', 'terima', 'aksih', 'go', 'jek', 'sukses', 'slalu', 'ya']\n",
      "285 ['gojek', 'muas', 'bantu', 'segi', 'layan', 'jemput', 'drivernya', 'puas', 'smoga', 'depan', 'tambah', 'anak', 'bangsa', 'jadi', 'salut', 'anak', 'bangsa', 'cinta']\n",
      "286 ['layan', 'drivernya', 'ramah', 'sopan', 'profesional', 'moga', 'go', 'jek', 'tingkat', 'harga', 'rang']\n",
      "287 ['bantu', 'aktifitas', 'pergi', 'belanja', 'beli', 'makan', 'beli', 'pulsa']\n",
      "288 ['pake', 'gojek', 'byk', 'suka', 'duka', 'ya', 'nama', 'hidup', 'kaga', 'mau', 'gw', 'ga', 'yg', 'sempurna', 'dunia', 'ojol', 'bantu', 'yg', 'mager', 'males', 'ditemenin', 'driver', 'kmn', 'mn', 'makan', 'aja', 'dianterin', 'makan', 'ga', 'restoran', 'ya', 'kadang', 'dapet', 'driver', 'ulas', 'lengkapselama', 'pake', 'gojek', 'byk', 'suka', 'duka', 'ya', 'nama', 'hidup', 'kaga', 'mau', 'gw', 'ga', 'yg', 'sempurna', 'dunia', 'ojol', 'bantu', 'yg', 'mager', 'males', 'ditemenin', 'driver', 'kmn', 'mn', 'makan', 'aja', 'dianterin', 'makan', 'ga', 'restoran', 'ya', 'kadang', 'dapet', 'driver', 'yg', 'beda', 'karakter', 'ya', 'nama', 'manusia', 'ga', 'jg', 'yg', 'cuek', 'jutek', 'dll', 'ya', 'baik', 'aja', 'ojol', 'tumpang', 'aplikasi', 'dpt', 'maju']\n",
      "289 ['download', 'deh', 'app', 'gojek', 'coz', 'gojek', 'karya', 'anak', 'bangsa', 'yg', 'manfaat', 'kalang', 'promo', 'dr', 'gopay', 'ga', 'kalah', 'hebat', 'dr', 'app', 'yg', 'cinta', 'bangga', 'sm', 'indonesia', 'download', 'app', 'gojek']\n",
      "290 ['bantu', 'utk', 'sibuk', 'rumah', 'nggak', 'pesan', 'tinggal', 'klik', 'udh', 'beres']\n",
      "291 ['bantu', 'jemput', 'anak', 'tinggal', 'pesan', 'gojek', 'ga', 'capek', 'capek', 'jalan', 'nyari', 'ojek', 'pangkal', 'obat', 'pergi', 'malam', 'tinggal', 'pesan', 'go', 'car', 'makan', 'malas', 'tinggal', 'pesan', 'go', 'food', 'bayar', 'tagih', 'listrik', 'beli', 'pulsa', 'pake', 'gopay', 'belanja', 'ulas', 'lengkapsangat', 'bantu', 'jemput', 'anak', 'tinggal', 'pesan', 'gojek', 'ga', 'capek', 'capek', 'jalan', 'nyari', 'ojek', 'pangkal', 'obat', 'pergi', 'malam', 'tinggal', 'pesan', 'go', 'car', 'makan', 'malas', 'tinggal', 'pesan', 'go', 'food', 'bayar', 'tagih', 'listrik', 'beli', 'pulsa', 'pake', 'gopay', 'belanja', 'alfamart', 'alfamidi', 'promonya', 'pakai', 'gopay', 'makasih', 'gojek', 'maju', 'sukses']\n"
     ]
    },
    {
     "name": "stdout",
     "output_type": "stream",
     "text": [
      "292 ['bantu', 'pergi', 'beli', 'makan', 'overall', 'oke', 'neng', 'pake', 'gojek', 'drpd', 'grab', 'map', 'akurat', 'jarang', 'nyasar', 'moga', 'update', 'aplikasi', 'oke', 'vocer', 'potong', 'ongkir', 'harga', 'best', 'banget', 'gofood']\n",
      "293 ['driver', 'd', 'mendapt', 'driver', 'yg', 'karna', 'driver', 'yg', 'sdh', 'tau', 'karakter', 'harga', 'order', 'langsung', 'd', 'terima', 'klau', 'judes', 'pelit', 'suka', 'mampir', 'kasih', 'tip', 'males', 'deh', 'terima', 'order', 'ulas', 'lengkapjika', 'driver', 'd', 'mendapt', 'driver', 'yg', 'karna', 'driver', 'yg', 'sdh', 'tau', 'karakter', 'harga', 'order', 'langsung', 'd', 'terima', 'klau', 'judes', 'pelit', 'suka', 'mampir', 'kasih', 'tip', 'males', 'deh', 'terima', 'order', 'curhatan', 'driver', 'yg', 'sy', 'd', 'untung', 'rugi', 'argo', 'd', 'tip', 'rb', 'murah', 'dri', 'argo', 'taksi']\n",
      "294 ['bantu', 'saran', 'nih', 'tolong', 'tampilin', 'alas', 'driver', 'ngebatalin', 'order', 'sering', 'driver', 'udah', 'nerima', 'udah', 'chat', 'udah', 'telepon', 'udah', 'fix', 'ambil', 'order', 'tau', 'main', 'cancel', 'info', 'yg', 'bt']\n",
      "295 ['guna', 'bantu', 'mudah', 'aktifitas', 'hari', 'harga', 'murah', 'kompetitor', 'vouchernya', 'diskon', 'nya', 'banyaaaaak', 'sayang', 'tdk', 'pakai', 'hrs', 'gopay', 'sy', 'tdk', 'pakai', 'gopay', 'kali', 'ya', 'yg', 'hrz', 'baik']\n",
      "296 ['tolong', 'baru', 'ya', 'kalo', 'sizenya', 'sih', 'gpp', 'oh', 'iya', 'bayar', 'linkaja', 'go', 'ride', 'go', 'car', 'aja', 'ya', 'kalo', 'go', 'food']\n",
      "297 ['mohon', 'perhati', 'kodepromo', 'pebgguna', 'dah', 'pakai', 'customer', 'alangkah', 'baik', 'kasih', 'voucher']\n",
      "298 ['orang', 'indonesia', 'driver', 'babu', 'gojek', 'ongkos', 'nya', 'murah', 'layan', 'nya', 'vip', 'hallo', 'harga', 'pahlawan', 'jalan', 'gojek', 'pelit', 'bonus']\n",
      "299 ['reges', 'band', 'korban', 'alon', 'alon', 'app', 'gojek', 'moga', 'lengkap', 'sperti', 'uber', 'tempel', 'pin', 'driver', 'yg', 'klo', 'mou', 'tuju', 'trus', 'pesan', 'driver', 'gak', 'langsung', 'pp', 'driver']\n",
      "300 ['transportasi', 'onlie', 'yg', 'mudah', 'dlm', 'tuju', 'jalan', 'mana', 'yg', 'neng', 'tu', 'discountnya', 'yg', 'bikin', 'miris', 'dlm', 'layan', 'gofood', 'kasi', 'yg', 'suka', 'pesan', 'fiktif', 'saran', 'sediaakan', 'layan', 'bayar', 'transfer', 'biar', 'sipembeli', 'transfer', 'du', 'ulas', 'lengkaptransportasi', 'onlie', 'yg', 'mudah', 'dlm', 'tuju', 'jalan', 'mana', 'yg', 'neng', 'tu', 'discountnya', 'yg', 'bikin', 'miris', 'dlm', 'layan', 'gofood', 'kasi', 'yg', 'suka', 'pesan', 'fiktif', 'saran', 'sediaakan', 'layan', 'bayar', 'transfer', 'biar', 'sipembeli', 'transfer', 'mesan']\n",
      "301 ['coba', 'kirim', 'gambar', 'chat', 'nya', 'gosend', 'dll', 'biar', 'gampang', 'kasih', 'tau', 'lokasi', 'pas', 'nya', 'mana', 'thanks']\n",
      "302 ['hai', 'ka', 'hp', 'ilang', 'ganti', 'hp', 'masuk', 'akun', 'gojek', 'gbsa', 'karna', 'nomer', 'telpnya', 'beda', 'daftar', 'ga', 'krna', 'email', 'sudh', 'pakai', 'akun', 'yg', 'kemarin', 'gmn', 'ya', 'ka', 'makasih']\n",
      "303 ['bantu', 'tp', 'tolong', 'aman', 'data', 'user', 'lebh', 'kuat', 'krn', 'akun', 'gojek', 'istri', 'bajak', 'tipu', 'pura', 'pura', 'nomer', 'istri', 'dpt', 'gopay', 'jt']\n",
      "304 ['aplikasi', 'bagus', 'banget', 'bonus', 'bonus', 'mantep', 'biaya', 'administrasi', 'mohon', 'gratis', 'transfer', 'rekening', 'bank', 'saldo', 'bulat', 'pas', 'saldo']\n",
      "305 ['aplikasi', 'baik', 'fiturnya', 'lengkap', 'desain', 'aplikasi', 'mudah', 'pakai', 'fitur', 'paylaternya', 'bantu']\n",
      "306 ['aplikasi', 'jasa', 'bantu', 'kala', 'malas', 'beli', 'makan', 'driver', 'nya', 'alhamdulillah', 'ramah']\n",
      "307 ['kasih', 'bintang', 'biar', 'baca', 'pay', 'later', 'hny', 'klik', 'langgan', 'sy', 'sm', 'tagih', 'rb', 'hati', 'yg', 'pake', 'paylater', 'jebak', 'sy', 'iseng', 'pencet', 'langgan', 'eh', 'tau', 'tagih', 'gawat', 'tuh', 'pay', 'later', 'ambil', 'tuh', 'uang', 'makan', 'tuh', 'duit', 'haram']\n",
      "308 ['alangkah', 'nya', 'go', 'deals', 'adakan', 'bnyk', 'voucher', 'yg', 'tukar', 'point', 'konsumen', 'semngat', 'transaksi', 'gopay', 'terima', 'kasih']\n",
      "309 ['sopan', 'santun', 'kendara', 'order', 'alam', 'jalan', 'aplikasi', 'gojek']\n",
      "310 ['salam', 'hangat', 'edisi', 'ulang', 'kado', 'bintang', 'aplikasi', 'gojek', 'transportasi', 'online', 'jenis', 'bantu', 'aktivitas', 'hari', 'mudah', 'pesan', 'makan', 'bayar', 'bulan', 'banyak', 'promo', 'nya', 'ya', 'terimakasih']\n",
      "311 ['gojek', 'mantul', 'mantap', 'btul', 'klo', 'laper', 'tinggal', 'pencet', 'gopud', 'klo', 'pergi', 'tinggal', 'pncet', 'poko', 'nya', 'mh', 'hemat', 'nyaman', 'sukses', 'trus', 'ya', 'gojek', 'yg', 'bantu', 'butuh', 'mudah', 'pake', 'gijek', 'ajah', 'mantap', 'bos', 'ku']\n",
      "312 ['wow', 'guna', 'gabung', 'antar', 'orangtuaku', 'mudah', 'cepat', 'moga', 'konsentrasi', 'aplikasi', 'yg', 'selesai', 'mission', 'hari', 'minggu', 'bayar', 'top', 'up', 'via', 'driver', 'minimarket', 'terimakasih', 'salam', 'aspal', 'ary', 'ulas', 'lengkapwow', 'guna', 'gabung', 'antar', 'orangtuaku', 'mudah', 'cepat', 'moga', 'konsentrasi', 'aplikasi', 'yg', 'selesai', 'mission', 'hari', 'minggu', 'bayar', 'top', 'up', 'via', 'driver', 'minimarket', 'terimakasih', 'salam', 'aspal', 'arya', 'aditya', 'semarang', 'jawa']\n",
      "313 ['gojek', 'hadir', 'kabupaten', 'samosir', 'cepat', 'tunjang', 'parawisata', 'ekonomi', 'wisata']\n",
      "314 ['kali', 'pesan', 'barang', 'lalu', 'go', 'same', 'day', 'kecewa', 'lantar', 'gojek', 'kasar', 'sopan', 'santun', 'lelah', 'klien', 'yg', 'pakai', 'jasa', 'gojek', 'laku', 'marah', 'say', 'ulas', 'lengkapbeberapa', 'kali', 'pesan', 'barang', 'lalu', 'go', 'same', 'day', 'kecewa', 'lantar', 'gojek', 'kasar', 'sopan', 'santun', 'lelah', 'klien', 'yg', 'pakai', 'jasa', 'gojek', 'laku', 'marah', 'meresponnya', 'nemu', 'alamat', 'yg', 'tuju', 'marah', 'tlp', 'bru', 'angkat', 'bilang', 'ga', 'angkat', 'tlp', 'potong', 'bicara']\n",
      "315 ['aplikasi', 'bantu', 'driver', 'yg', 'ramah', 'tanggap', 'tolong', 'tingkat', 'promo', 'nya', 'guna', 'voucher', 'goride', 'gofoodnya', 'thanks']\n",
      "316 ['transaksi', 'klo', 'saran', 'coba', 'aplikasi', 'fitur', 'lock', 'close', 'aplikasi', 'telegram', 'yg', 'oknum', 'yg', 'curi', 'hasil', 'bingung', 'kam', 'tambah', 'tan', 'ulas', 'lengkapsejauh', 'transaksi', 'klo', 'saran', 'coba', 'aplikasi', 'fitur', 'lock', 'close', 'aplikasi', 'telegram', 'yg', 'oknum', 'yg', 'curi', 'hasil', 'bingung', 'kam', 'tambah', 'tanya', 'reset', 'email', 'so', 'far', 'so', 'good']\n",
      "317 ['jo', 'cerdikiawan', 'go', 'ride', 'senam', 'sehat', 'takut', 'telat', 'bagi', 'go', 'ride', 'dar', 'alat', 'transportasi', 'jo', 'cerdikiawan', 'be', 'your', 'self', 'jo', 'me', 'orang', 'orang', 'hebat', 'dunia', 'cendekiawan', 'hebat', 'jo', 'ulas', 'lengkapjo', 'cerdikiawan', 'go', 'ride', 'senam', 'sehat', 'takut', 'telat', 'bagi', 'go', 'ride', 'dar', 'alat', 'transportasi', 'jo', 'cerdikiawan', 'be', 'your', 'self', 'jo', 'me', 'orang', 'orang', 'hebat', 'dunia', 'cendekiawan', 'hebat', 'jo']\n",
      "318 ['mudah', 'sakit', 'lapar', 'maju', 'lupa', 'kerja', 'driver', 'driver', 'gojek', 'indonesia', 'bayang', 'gak', 'driver', 'curang', 'kota', 'zona', 'merah', 'ya', 'maju', 'gojek']\n",
      "319 ['anjay', 'gurinjay', 'pas', 'gue', 'coba', 'pakai', 'aplikasi', 'langsung', 'suka', 'sih', 'kirain', 'aja', 'gak', 'tau', 'bantu', 'muas', 'semangat', 'ojol', 'nya', 'i', 'love', 'you', 'v']\n",
      "320 ['aplikasi', 'bagus', 'bantu', 'bg', 'orang', 'yg', 'pergi', 'jd', 'nunggu', 'tiggal', 'booking', 'aja', 'ga', 'dateng', 'sen', 'makan', 'favorite', 'trus', 'gojek', 'kasih', 'diskon', 'jd', 'hemat', 'efisien', 'banding', 'ojek', 'poko', 'ulas', 'lengkapaplikasi', 'bagus', 'bantu', 'bg', 'orang', 'yg', 'pergi', 'jd', 'nunggu', 'tiggal', 'booking', 'aja', 'ga', 'dateng', 'sen', 'makan', 'favorite', 'trus', 'gojek', 'kasih', 'diskon', 'jd', 'hemat', 'efisien', 'banding', 'ojek', 'pokok', 'sip', 'dech', 'sukses', 'gojek']\n",
      "321 ['bantu', 'tugas', 'kota', 'gofood', 'mohon', 'menu', 'kirim', 'struk', 'gocar', 'terima', 'kasih']\n",
      "322 ['minn', 'tolong', 'miin', 'suka', 'banget', 'aplikasi', 'go', 'jek', 'kesini', 'aplikasi', 'gojek', 'aneh', 'mes', 'gojek', 'kena', 'gps', 'nya', 'nyala', 'mati', 'tetep', 'aja', 'gak', 'clear', 'cache', 'hapus', 'data', 'uninstall', 'tetep', 'gak', 'x', 'instal', 'tetep', 'gitu', 'ju', 'ulas', 'lengkapminn', 'tolong', 'miin', 'suka', 'banget', 'aplikasi', 'go', 'jek', 'kesini', 'aplikasi', 'gojek', 'aneh', 'mes', 'gojek', 'kena', 'gps', 'nya', 'nyala', 'mati', 'tetep', 'aja', 'gak', 'clear', 'cache', 'hapus', 'data', 'uninstall', 'tetep', 'gak', 'x', 'instal', 'tetep', 'gitu', 'parah', 'ganti', 'akun', 'aplikasi', 'gitu', 'tolong', 'min', 'balesss']\n"
     ]
    },
    {
     "name": "stdout",
     "output_type": "stream",
     "text": [
      "323 ['min', 'sya', 'akun', 'gopay', 'muncul', 'aplikasi', 'gojek', 'driver', 'guna', 'gojek', 'driver', 'gopay']\n",
      "324 ['transaksi', 'token', 'pln', 'kemarin', 'malam', 'kode', 'token', 'masuk', 'saldo', 'langsung', 'potong', 'hapus', 'ulas', 'kode', 'token', 'masuk']\n",
      "325 ['aplikasi', 'zaman', 'now', 'aplikasi', 'utama', 'consumen', 'serba', 'yg', 'komplit', 'tinggal', 'pencet', 'butuh', 'penuh', 'mantap', 'dech', 'pokok', 'hidup', 'makarim']\n",
      "326 ['tolong', 'gmn', 'biar', 'lokasi', 'tera', 'map', 'kasi', 'abang', 'drivernya', 'krn', 'titik', 'tdk', 'sesuai', 'ya', 'gak', 'sya', 'guna', 'berat', 'aplikasi', 'minimal', 'x', 'sya', 'nge', 'gofood', 'alamat', 'sya', 'sndri', 'ssh', 'cari', 'udah', 'ditolongin', 'dibenerin', 'ulas', 'lengkaptolong', 'gmn', 'biar', 'lokasi', 'tera', 'map', 'kasi', 'abang', 'drivernya', 'krn', 'titik', 'tdk', 'sesuai', 'ya', 'gak', 'sya', 'guna', 'berat', 'aplikasi', 'minimal', 'x', 'sya', 'nge', 'gofood', 'alamat', 'sya', 'sndri', 'ssh', 'cari', 'udah', 'ditolongin', 'dibenerin', 'sm', 'drivernya', 'tp', 'tetep', 'titik', 'ga', 'sesuai']\n",
      "327 ['parah', 'kacau', 'pokok', 'bos', 'mending', 'cri', 'driver', 'banyak', 'siang', 'bolong', 'sya', 'kaga', 'driver', 'al', 'hasil', 'jalan', 'kaki', 'km', 'udh', 'mesen', 'ampe', 'kali', 'cs', 'maaf', 'driver', 'sibuk', 'laris', 'smua', 'subhanallah', 'gw', 'abis', 'driver', 'bra', 'ulas', 'lengkapparah', 'kacau', 'pokok', 'bos', 'mending', 'cri', 'driver', 'banyak', 'siang', 'bolong', 'sya', 'kaga', 'driver', 'al', 'hasil', 'jalan', 'kaki', 'km', 'udh', 'mesen', 'ampe', 'kali', 'cs', 'maaf', 'driver', 'sibuk', 'laris', 'smua', 'subhanallah', 'gw', 'abis', 'driver', 'bray', 'bgimana', 'jalan', 'kaki', 'panas', 'an', 'bawa', 'tas', 'cape', 'pulang', 'kerja', 'ngantuk', 'laper', 'keren', 'pokok', 'driver', 'laris', 'auto', 'uninstall', 'gw', 'bos', 'udh', 'sukses', 'berat', 'makasih']\n",
      "328 ['kasi', 'bintang', 'nih', 'asek', 'dah', 'pake', 'aplikasi', 'gojek', 'promonya', 'mana', 'aja', 'dianterin', 'mo', 'dianterin', 'ga', 'ngeluh', 'tarif', 'murah', 'kitaajaygtaudiri', 'trus', 'mo', 'sen', 'makan', 'gak', 'pake', 'ribet', 'abang', 'ramah', 'ga', 'nyesel', 'dah', 'download', 'apk', 'keren', 'bat', 'dah', 'kuy', 'yg', 'blm', 'download', 'ulas', 'lengkapaku', 'kasi', 'bintang', 'nih', 'asek', 'dah', 'pake', 'aplikasi', 'gojek', 'promonya', 'mana', 'aja', 'dianterin', 'mo', 'dianterin', 'ga', 'ngeluh', 'tarif', 'murah', 'kitaajaygtaudiri', 'trus', 'mo', 'sen', 'makan', 'gak', 'pake', 'ribet', 'abang', 'ramah', 'ga', 'nyesel', 'dah', 'download', 'apk', 'keren', 'bat', 'dah', 'kuy', 'yg', 'blm', 'download', 'buru', 'jan', 'pe', 'nyesel']\n",
      "329 ['ya', 'dapet', 'paylater', 'nya', 'transaksi', 'atas', 'jt', 'bulan', 'temen', 'yg', 'transaksi', 'rebu', 'dapet', 'hehe']\n",
      "330 ['hi', 'gojek', 'tolong', 'jng', 'peduli', 'komentar', 'cs', 'yg', 'tdk', 'tehadap', 'driver', 'cm', 'gara', 'komentar', 'driver', 'tdk', 'sopan', 'performa', 'driver', 'lngsg', 'turun', 'cs', 'kt', 'tuh', 'shrsnya', 'bnyk', 'brterima', 'kasih', 'kpd', 'driver', 'yg', 'sdh', 'jmpt', 'dn', 'smpe', 'tuju', 'dgn', 'hrga', 'yg', 'sngt', 'murah', 'kasih', 'driver', 'bintang', 'dn', 'klo', 'ulas', 'lengkaphi', 'gojek', 'tolong', 'jng', 'peduli', 'komentar', 'cs', 'yg', 'tdk', 'tehadap', 'driver', 'cm', 'gara', 'komentar', 'driver', 'tdk', 'sopan', 'performa', 'driver', 'lngsg', 'turun', 'cs', 'kt', 'tuh', 'shrsnya', 'bnyk', 'brterima', 'kasih', 'kpd', 'driver', 'yg', 'sdh', 'jmpt', 'dn', 'smpe', 'tuju', 'dgn', 'hrga', 'yg', 'sngt', 'murah', 'kasih', 'driver', 'bintang', 'dn', 'klo', 'bs', 'kasih', 'tarif', 'dr', 'tarif', 'aplikasi']\n",
      "331 ['gojek', 'manfaat', 'aplikasi', 'mudah', 'promo', 'diskon', 'nya', 'moga', 'tingkat', 'layan', 'kpd', 'masyarakat']\n",
      "332 ['go', 'jek', 'bantu', 'jalan', 'kantor', 'every', 'day', 'fasilitas', 'go', 'now', 'fasilitas', 'bantu', 'aq', 'buru', 'wujud', 'smoga', 'kabul']\n",
      "333 ['duduk', 'muara', 'enim', 'wakil', 'warga', 'muara', 'enim', 'mohon', 'gojek', 'gofood', 'daerah', 'resah', 'jelang', 'malam', 'anak', 'kos', 'tolong', 'min', 'cepat', 'gofood', 'nya']\n",
      "334 ['malam', 'perut', 'lapar', 'rumah', 'nggak', 'malakanan', 'warung', 'yg', 'dah', 'tutup', 'mana', 'ini', 'rumah', 'diingetin', 'anak', 'pakai', 'go', 'food', 'pegang', 'jidat', 'alloh']\n",
      "335 ['hallo', 'cerita', 'alam', 'yg', 'kena', 'tipu', 'kali', 'dgn', 'cs', 'yg', 'atas', 'nama', 'gojek', 'alas', 'gopay', 'skrg', 'paylater', 'tolong', 'usut', 'lgi', 'dri', 'nama', 'gojek', 'coreng', 'jujur', 'ganggu', 'tipu', 'krna', 'ulas', 'lengkaphallo', 'cerita', 'alam', 'yg', 'kena', 'tipu', 'kali', 'dgn', 'cs', 'yg', 'atas', 'nama', 'gojek', 'alas', 'gopay', 'skrg', 'paylater', 'tolong', 'usut', 'lgi', 'dri', 'nama', 'gojek', 'coreng', 'jujur', 'ganggu', 'tipu', 'krna', 'kali', 'telpon', 'terimakasih']\n",
      "336 ['puas', 'aplikasi', 'rela', 'terjang', 'dingin', 'malam', 'panas', 'matahari', 'siang', 'update', 'download', 'rugi', 'deh', 'alam', 'mesen', 'go', 'food', 'hp', 'driver', 'ny', 'mati', 'usaha', 'cari', 'ketemu', 'saluttt']\n",
      "337 ['aplikasi', 'batu', 'pergi', 'mana', 'aja', 'ribet', 'sen', 'makan', 'kirim', 'paket', 'bnyk', 'kegunaanya', 'pokok', 'gojek', 'top', 'deh']\n",
      "338 ['layan', 'gojek', 'muas', 'nyaman', 'aman', 'gak', 'ribet', 'upgrade', 'akun', 'gopay', 'driver', 'gojek', 'ganjen', 'genit', 'canda', 'ngobrol', 'mohon', 'kasih', 'arah', 'driver', 'biar', 'tumpang', 'nyaman', 'ac', 'nyala', 'full', 'gak', 'ulas', 'lengkappelayanan', 'gojek', 'muas', 'nyaman', 'aman', 'gak', 'ribet', 'upgrade', 'akun', 'gopay', 'driver', 'gojek', 'ganjen', 'genit', 'canda', 'ngobrol', 'mohon', 'kasih', 'arah', 'driver', 'biar', 'tumpang', 'nyaman', 'ac', 'nyala', 'full', 'gak', 'tumpang']\n",
      "339 ['nomor', 'layan', 'hotline', 'or', 'customer', 'service', 'sy', 'ttansaksi', 'vir', 'akun', 'yg', 'gagal', 'menu', 'or', 'info', 'layan', 'aplikasi', 'kali', 'menu', 'yg', 'yg', 'sesuai', 'dg', 'yg', 'sy', 'alamim', 'mohon', 'info']\n",
      "340 ['alhamdulillah', 'udah', 'pakai', 'gojek', 'mana', 'drivernya', 'ramah', 'sopan', 'santun', 'terima', 'kasih', 'kasih', 'tip', 'gak', 'kasih', 'tip', 'gak', 'kayak', 'driver', 'belah', 'attitude', 'nya', 'moga', 'gojek', 'maju', 'depan', 'amiin']\n",
      "341 ['saran', 'menu', 'pilih', 'driver', 'okok', 'non', 'okok', 'konsumen', 'lindung', 'bebas', 'asap', 'rokok', 'sesuai', 'uu', 'nomor', 'sehat', 'atur', 'perintah', 'no', 'aman', 'bahan', 'kandung', 'zat', 'adiktif', 'produk', 'tembakau', 'seh', 'ulas', 'lengkapsaran', 'menu', 'pilih', 'driver', 'okok', 'non', 'okok', 'konsumen', 'lindung', 'bebas', 'asap', 'rokok', 'sesuai', 'uu', 'nomor', 'sehat', 'atur', 'perintah', 'no', 'aman', 'bahan', 'kandung', 'zat', 'adiktif', 'produk', 'tembakau', 'sehat', 'angkut', 'tetap', 'kawasan', 'rokok']\n",
      "342 ['bagus', 'pesan', 'ojek', 'teman', 'suruh', 'surga', 'jemput', 'alhamdulilah', 'temen', 'nyampek', 'surga', 'selamat', 'pesan', 'ojek', 'neraka', 'alhamdulilah', 'nyampek', 'selamat', 'kembang']\n",
      "343 ['bantu', 'pulang', 'pergi', 'go', 'ride', 'go', 'car', 'cepat', 'driver', 'karna', 'driver', 'mana', 'sukses', 'sllu', 'go', 'jek', 'indonesia', 'pakai', 'rewars', 'voucher', 'biar', 'semangat', 'sen', 'go', 'ridenya']\n",
      "344 ['dgn', 'gojek', 'sy', 'bantu', 'ge', 'udh', 'gojek', 'mud', 'kooperatif', 'sopan', 'guna', 'aplikasi', 'mudah', 'rumit', 'slalu', 'trobosan', 'manja', 'langgan', 'aplikasi', 'arti', 'aja', 'aplikasi', 'ulas', 'lengkapdgn', 'gojek', 'sy', 'bantu', 'ge', 'udh', 'gojek', 'mud', 'kooperatif', 'sopan', 'guna', 'aplikasi', 'mudah', 'rumit', 'slalu', 'trobosan', 'manja', 'langgan', 'aplikasi', 'arti', 'aja', 'aplikasi', 'yg', 'layan', 'prima', 'ya', 'pokok', 'sy', 'bantu', 'makasih', 'gojek', 'moga', 'slalu', 'utama', 'layan', 'prima', 'ychh', 'aamiin', 'ya', 'rabbal', 'aalamiin']\n",
      "345 ['orang', 'desa', 'kejakarta', 'tau', 'daerah', 'jakarta', 'berkat', 'gojek', 'mana', 'aja', 'ndak', 'khawatir', 'tinggal', 'utak', 'utik', 'hp', 'tuju', 'aman', 'percaya', 'terimakasih', 'go', 'jek']\n",
      "346 ['mantab', 'dah', 'ga', 'belah', 'akun', 'tumpang', 'gw', 'ga', 'salah', 'blok', 'so', 'ga', 'butuh', 'tumpang', 'mudah']\n",
      "347 ['aplikasi', 'bantu', 'mager', 'sen', 'langsung', 'dateng', 'deh', 'rumah', 'ga', 'ribet', 'tinggal', 'sen', 'lang', 'sung', 'hantar', 'poko', 'mantap', 'dehh']\n"
     ]
    },
    {
     "name": "stdout",
     "output_type": "stream",
     "text": [
      "348 ['tolong', 'tumpang', 'gojek', 'pake', 'hati', 'nurani', 'dikit', 'udah', 'ken', 'argo', 'murah', 'titik', 'kordinat', 'akalin', 'barang', 'bawa', 'bawa', 'anak', 'puter', 'driver', 'hidup', 'anak', 'istri', 'orang', 'tua', 'bayar', 'listrik', 'air', 'beli', 'bensin', 'services', 'motor', 'kalo', 'tumpang', 'ngelunj', 'ulas', 'lengkaptolong', 'tumpang', 'gojek', 'pake', 'hati', 'nurani', 'dikit', 'udah', 'ken', 'argo', 'murah', 'titik', 'kordinat', 'akalin', 'barang', 'bawa', 'bawa', 'anak', 'puter', 'driver', 'hidup', 'anak', 'istri', 'orang', 'tua', 'bayar', 'listrik', 'air', 'beli', 'bensin', 'services', 'motor', 'kalo', 'tumpang', 'ngelunjak', 'driver', 'muak', 'terimakasih']\n",
      "349 ['cepat', 'dlm', 'jemput', 'tarip', 'jangkau', 'sayang', 'tdk', 'promo', 'paket', 'langgan', 'perlu', 'jalan']\n",
      "350 ['alhamdulillah', 'gojek', 'online', 'bantu', 'orang', 'gak', 'kendara', 'salut', 'indonesia', 'aplikasi', 'on', 'line', 'kasih', 'bintang', 'terima', 'kasih', 'google']\n",
      "351 ['gojek', 'emng', 'baik', 'harap', 'fitur', 'save', 'location', 'kerna', 'sulit', 'alamat', 'harap', 'gojek', 'fitur', 'sekian', 'terima', 'kasih']\n",
      "352 ['pakai', 'apl', 'buat', 'anak', 'bangsa', 'sendri', 'ide', 'jenius', 'bangga', 'anak', 'bangsa', 'gojek', 'adlh', 'salah', 'bukti', 'nyata', 'bhw', 'indonesia', 'diri', 'sejajar', 'dgn', 'negara', 'maju', 'kt', 'hrs', 'dukung', 'memajukn', 'apl', 'gojek', 'mnjadi', 'apl', 'yg', 'trdepan', 'indonesia', 'klo', 'dunia', 'aammiinn']\n",
      "353 ['mantep', 'fasilitas', 'gofood', 'kota', 'kirim', 'surprise', 'makan', 'saudara', 'keluarga', 'yg', 'spesial', 'ribet']\n",
      "354 ['mantap', 'apk', 'karna', 'apk', 'guna', 'yg', 'suka', 'jam', 'malam', 'cimahi', 'cari', 'kamus', 'sunda', 'jam', 'langsung', 'berangkat', 'deh', 'borma', 'untung', 'vocer', 'go', 'jek', 'deh', 'borma', 'langsung', 'toko', 'buku', 'pulang', 'deh', 'ulas', 'lengkapmantap', 'apk', 'karna', 'apk', 'guna', 'yg', 'suka', 'jam', 'malam', 'cimahi', 'cari', 'kamus', 'sunda', 'jam', 'langsung', 'berangkat', 'deh', 'borma', 'untung', 'vocer', 'go', 'jek', 'deh', 'borma', 'langsung', 'toko', 'buku', 'pulang', 'deh', 'untung', 'untung', 'vocer', 'bulak', 'cuman', 'yeeee', 'terimakasih', 'go', 'jek']\n",
      "355 ['gojek', 'yaa', 'alamat', 'ga', 'muncul', 'kranggan', 'gg', 'kota', 'mojokerto', 'yg', 'muncul', 'pekayon', 'sediihhh', 'tuuu', 'kasi', 'jg', 'driver', 'kadang', 'kadang', 'bingung', 'rute', 'nya']\n",
      "356 ['tolong', 'gojek', 'kasih', 'rating', 'resto', 'nya', 'kasih', 'rating', 'driver', 'aja', 'sen', 'makan', 'basi', 'salah', 'driver', 'nya', 'salah', 'resto', 'nya', 'driver', 'nya', 'ramah', 'resto', 'nya', 'payah']\n",
      "357 ['layan', 'gojek', 'tpi', 'yg', 'aplikasi', 'tetangga', 'layan', 'pergi', 'pulang', 'jdi', 'kmi', 'gk', 'mesan', 'mesan', 'gojek', 'kali', 'nya', 'pulang', 'ckup', 'dgn', 'gojek', 'yg', 'aja', 'tolong', 'dengar', 'keluh', 'karna', 'percaya', 'aplikasi', 'kbut', 'ulas', 'lengkapdari', 'layan', 'gojek', 'tpi', 'yg', 'aplikasi', 'tetangga', 'layan', 'pergi', 'pulang', 'jdi', 'kmi', 'gk', 'mesan', 'mesan', 'gojek', 'kali', 'nya', 'pulang', 'ckup', 'dgn', 'gojek', 'yg', 'aja', 'tolong', 'dengar', 'keluh', 'karna', 'percaya', 'aplikasi', 'kbutuhan', 'hari', 'hari', 'krna', 'aplikasi', 'anak', 'bangsa', 'trima', 'kasih']\n",
      "358 ['akun', 'gue', 'gabisa', 'login', 'hp', 'gue', 'gue', 'logout', 'login', 'lg', 'gbsa', 'notif', 'dgn', 'kalimat', 'ups', 'yg', 'salah', 'solusi', 'gmna', 'nih']\n",
      "359 ['layan', 'ramah', 'kali', 'diskon', 'diskon', 'senang']\n",
      "360 ['kena', 'kasih', 'bintang', 'aplikasi', 'kasih', 'bintang', 'aplikasi', 'mantap', 'jaga', 'thank', 'you', 'go', 'jek', 'i', 'love', 'go', 'jek', 'i', 'like', 'go', 'jek']\n",
      "361 ['trimakasih', 'gojek', 'senang', 'bangga', 'aplikasi', 'bantu', 'promonya', 'vocernya', 'permingggunya']\n",
      "362 ['senang', 'mitra', 'gojek', 'orang', 'orngnha', 'ramah', 'ramah', 'jujur', 'ngundang', 'mba', 'dayu', 'dara', 'vice', 'of', 'president', 'gojek', 'materi', 'event', 'beliau', 'orang', 'humble', 'murah', 'senyum', 'terima', 'kasih', 'gojek']\n",
      "363 ['gojek', 'membabtu', 'lancar', 'transfortasi', 'kota', 'samasekali', 'ngak', 'kendetaan', 'kota', 'membanti', 'aplikasi', 'gojek', 'ok', 'deh']\n",
      "364 ['voucer', 'utk', 'gofood', 'goride', 'gosand', 'goshop', 'yg', 'minimal', 'beli', 'makan', 'minum', 'dg', 'voucher', 'gofood', 'rb', 'pas', 'byk', 'langgan', 'klo', 'pesan', 'gofood', 'cari', 'driver', 'yg', 'dekat', 'restonya', 'tdk', 'tunggu', 'terima', 'kasih']\n",
      "365 ['link', 'cancel', 'gofood', 'klau', 'udah', 'belikan', 'depan', 'lbh', 'hilang', 'beli', 'lewat', 'proses', 'mesan', 'smpai', 'pilih', 'bayar', 'customer', 'lbh', 'bijak', 'meminimalisir', 'cancel', 'beli', 'yg', 'rugi', 'go', 'ulas', 'lengkapuntuk', 'link', 'cancel', 'gofood', 'klau', 'udah', 'belikan', 'depan', 'lbh', 'hilang', 'beli', 'lewat', 'proses', 'mesan', 'smpai', 'pilih', 'bayar', 'customer', 'lbh', 'bijak', 'meminimalisir', 'cancel', 'beli', 'yg', 'rugi', 'gojek', 'moga', 'depan', 'upgrade', 'lbh']\n",
      "366 ['senang', 'aplikasi', 'gojek', 'mudah', 'beli', 'makan', 'baru', 'kecewa', 'daftar', 'nomer', 'nomer', 'saldo', 'gopay', 'login', 'ti', 'ulas', 'lengkapsaya', 'senang', 'aplikasi', 'gojek', 'mudah', 'beli', 'makan', 'baru', 'kecewa', 'daftar', 'nomer', 'nomer', 'saldo', 'gopay', 'login', 'asli', 'nomer', 'nama', 'sim', 'kartu', 'pakai', 'daftar', 'gojek', 'hilang', 'bukti', 'bayar']\n",
      "367 ['bagus', 'always', 'kasi', 'bintang', 'mencet', 'bintang', 'teruss', 'kpencet', 'kembali', 'sedih', 'amang', 'nya', 'bintang', 'ga', 'ya']\n",
      "368 ['mudah', 'pokok', 'nya', 'top', 'bolej', 'usul', 'gofood', 'jual', 'keteranngan', 'makan', 'halal', 'menyakinkan', 'konsumen']\n",
      "369 ['tolong', 'ga', 'pesan', 'goofod', 'ga', 'tau', 'muat', 'harga', 'server', 'padat', 'rayap', 'tolong', 'baik']\n",
      "370 ['alhamdulillah', 'dgn', 'langgan', 'gojek', 'handle', 'tinggal', 'suami', 'kota', 'go', 'send', 'go', 'food', 'sus', 'go', 'ride', 'anak', 'sekolah', 'dgn', 'tetep', 'awasin', 'ngurusin', 'kerja', 'rumah', 'yg', 'ngurusin', 'anak', 'batita', 'yg', 'aktif', 'nya']\n",
      "371 ['seru', 'promo', 'nya', 'moga', 'ya', 'tolong', 'kalo', 'lg', 'order', 'jenis', 'kendara', 'cantum', 'ya', 'kadang', 'butuh', 'mtr', 'matic', 'yg', 'luas', 'depan', 'kl', 'bawa', 'belanja']\n",
      "372 ['guna', 'transportasi', 'online', 'belah', 'gojek', 'kali', 'layan', 'gocar', 'kemudi', 'kemudi', 'kendara', 'urak', 'tumpang', 'nyaman', 'mohon', 'baik', 'layan', 'lebih', 'suda', 'ulas', 'lengkapsaya', 'guna', 'transportasi', 'online', 'belah', 'gojek', 'kali', 'layan', 'gocar', 'kemudi', 'kemudi', 'kendara', 'urak', 'tumpang', 'nyaman', 'mohon', 'baik', 'layan', 'lebih', 'muas', 'tepat', 'kondisi', 'mobil']\n",
      "373 ['terimakasih', 'aplikasi', 'bantu', 'depan', 'driver', 'latih', 'minggu', 'daftar', 'driver', 'bekal', 'jual', 'jasa', 'layan', 'ayo', 'indonesia', 'smga', 'gojek', 'amin']\n",
      "374 ['gmna', 'ya', 'ny', 'bayar', 'paylater', 'telat', 'ajj', 'kta', 'nya', 'trs', 'bayar', 'eitt', 'blm', 'bayar', 'paylater', 'nti', 'kabar', 'dikabarin', 'trs', 'kta', 'nya', 'bgung', 'tolong', 'cerah', 'gmna', 'bayar', 'paylater']\n",
      "375 ['hapus', 'pesan', 'chatting', 'tarik', 'pesan', 'kalo', 'salah', 'ketik', 'salah', 'kirim', 'pesan', 'non', 'actifkan', 'mission', 'pay', 'later', 'non', 'actifkan', 'inbox', 'hapus', 'riwayat', 'diary', 'gopay', 'karna', 'bikin', 'gak', 'nyaman']\n",
      "376 ['alam', 'order', 'gofood', 'beli', 'sotomie', 'bogor', 'yg', 'jual', 'orang', 'cina', 'mohon', 'umat', 'muslim', 'teliti', 'beli']\n",
      "377 ['manfaat', 'keren', 'suka', 'banget', 'pakai', 'aplikasi', 'mudah', 'terimakasih', 'gojek']\n",
      "378 ['transportasi', 'objek', 'simple', 'sayang', 'hp', 'sy', 'yg', 'muncul', 'gas', 'luar', 'kota', 'surakarta', 'makasar', 'jakarta', 'dsb', 'bgmn', 'utk', 'atur', 'gps', 'spy', 'kota', 'solo']\n",
      "379 ['nya', 'gojek', 'gokar', 'bantu', 'karna', 'udah', 'harga', 'murah', 'layan', 'jg', 'ok', 'driver', 'nya', 'ramah', 'gojek', 'and', 'gokar', 'emang', 'the', 'best']\n",
      "380 ['alhamdulillah', 'gojek', 'door', 'door', 'an', 'aman', 'beli', 'mobil', 'rumah', 'alhamdulillah', 'aman', 'maen', 'pickup', 'selesai', 'maen', 'shopee', 'jt', 'hari', 'akun', 'jual', 'beli', 'tolong', 'daftar', 'buka', 'akun', 'akun']\n",
      "381 ['aplikasi', 'bagus', 'banget', 'orang', 'lapar', 'mager', 'drivernya', 'moga', 'upgrade', 'yg', 'bagus', 'depan', 'gojek']\n"
     ]
    },
    {
     "name": "stdout",
     "output_type": "stream",
     "text": [
      "382 ['tolong', 'donk', 'aplikasi', 'biar', 'ngesave', 'lokasi', 'berangkat', 'tuju', 'rumah', 'kerja', 'kerja', 'rumah', 'biar', 'klik', 'oke', 'jalan']\n",
      "383 ['dear', 'gojek', 'tolong', 'rate', 'driver', 'ubah', 'langgan', 'kasihan', 'driver', 'sengaja', 'salah', 'bintang', 'adil', 'komplain', 'pesan', 'gak', 'app', 'selesai', 'ulas', 'lengkapdear', 'gojek', 'tolong', 'rate', 'driver', 'ubah', 'langgan', 'kasihan', 'driver', 'sengaja', 'salah', 'bintang', 'adil', 'komplain', 'pesan', 'gak', 'app', 'selesai', 'pas', 'driver', 'cerita', 'gak', 'sengaja', 'selesai', 'pesan', 'nya', 'panik', 'bayar', 'pake', 'gopay', 'udah', 'terima', 'uang', 'nya', 'terima', 'kasih', 'driver', 'nya', 'ya', 'maaf']\n",
      "384 ['bagus', 'muas', 'ajah', 'masuk', 'promo', 'mamimumemo', 'tinjau', 'harga', 'paket', 'ayam', 'nasi', 'lalap', 'ribu', 'mamimumemo', 'ribu', 'sekian', 'sih', 'nama', 'main', 'harga', 'rb', 'cocok', 'ga', 'rb', 'yg', 'telor', 'geprek', 'nasi', 'rb', 'harga', 'asli', 'segitu', 'g', 'ulas', 'lengkapbagus', 'muas', 'ajah', 'masuk', 'promo', 'mamimumemo', 'tinjau', 'harga', 'paket', 'ayam', 'nasi', 'lalap', 'ribu', 'mamimumemo', 'ribu', 'sekian', 'sih', 'nama', 'main', 'harga', 'rb', 'cocok', 'ga', 'rb', 'yg', 'telor', 'geprek', 'nasi', 'rb', 'harga', 'asli', 'segitu', 'ga', 'antusias', 'konsumen', 'program', 'masuk']\n",
      "385 ['gojek', 'transportasi', 'lancar', 'salah', 'contoh', 'pergi', 'mudah']\n",
      "386 ['aplikasi', 'gojek', 'keren', 'mudah', 'bantu', 'usaha', 'umkm', 'penuh', 'butuh', 'pesan', 'masyarakat', 'bangga', 'anak', 'bangsa', 'usaha', 'kelas', 'dunia', 'moga', 'gojek', 'maju', 'kembang', 'mensejahterahkan', 'ekonomi', 'indonesia', 'manfaat', 'nya', 'luas', 'ulas', 'lengkapaplikasi', 'gojek', 'keren', 'mudah', 'bantu', 'usaha', 'umkm', 'penuh', 'butuh', 'pesan', 'masyarakat', 'bangga', 'anak', 'bangsa', 'usaha', 'kelas', 'dunia', 'moga', 'gojek', 'maju', 'kembang', 'mensejahterahkan', 'ekonomi', 'indonesia', 'manfaat', 'nya', 'luas', 'jangkau', 'nya']\n",
      "387 ['mantab', 'usul', 'tamabahan', 'cameranya', 'biar', 'driver', 'ngasih', 'tau', 'info', 'restoran', 'tutup', 'jemput', 'tumpang', 'ngasih', 'tau', 'lokasi', 'konsumen', 'terima', 'kasih']\n",
      "388 ['gojek', 'sahabat', 'temu', 'yg', 'tekan', 'hp', 'makan', 'surat', 'dll', 'sahabat', 'bagi', 'sarana', 'sosial', 'yg', 'efektif', 'bantu', 'proses', 'informasi', 'dg', 'cepat', 'tindak', 'lang', 'gojeker', 'trim', 's', 'insyaalloh', 'berma', 'ulas', 'lengkapgojek', 'sahabat', 'temu', 'yg', 'tekan', 'hp', 'makan', 'surat', 'dll', 'sahabat', 'bagi', 'sarana', 'sosial', 'yg', 'efektif', 'bantu', 'proses', 'informasi', 'dg', 'cepat', 'tindak', 'lang', 'gojeker', 'trim', 's', 'insyaalloh', 'manfaat', 'teguh', 'w']\n",
      "389 ['bagus', 'sih', 'bilang', 'tipu', 'bodoh', 'mudah', 'percaya', 'pesan', 'telfon', 'event', 'banner', 'aplikasi', 'gojek', 'ya', 'gak', 'beneran', 'ti', 'ulas', 'lengkapbagus', 'sih', 'bilang', 'tipu', 'bodoh', 'mudah', 'percaya', 'pesan', 'telfon', 'event', 'banner', 'aplikasi', 'gojek', 'ya', 'gak', 'beneran', 'pintar', 'mudah', 'bohong', 'mohon', 'tindak', 'asli', 'sekian', 'info', 'terimakasih']\n",
      "390 ['mohon', 'buat', 'akun', 'gojek', 'customer', 'nomor', 'ktp', 'email', 'email', 'mudah', 'ganti', 'salah', 'akun', 'rugi']\n",
      "391 ['bantu', 'saran', 'gojek', 'go', 'base', 'pangkal', 'tempat', 'strategis', 'contoh', 'sekolah', 'kantor', 'biar', 'pesan', 'driver', 'dekat', 'efisien']\n",
      "392 ['tolong', 'tingkat', 'versi', 'costumer', 'ranting', 'driver', 'langgan', 'setia', 'gojek', 'terimakasi']\n",
      "393 ['untuk', 'guna', 'gojek', 'hormat', 'go', 'ride', 'or', 'ojek', 'nama', 'ojek', 'pake', 'motor', 'kalo', 'panas', 'ya', 'keringetan', 'ujan', 'ya', 'basah', 'karna', 'driver', 'gak', 'jas', 'ujan', 'cancel', 'enak', 'bangsat', 'performa', 'order', 'kurang', 'cerdas']\n",
      "394 ['update', 'aplikasi', 'gojek', 'mes', 'via', 'aplikasi', 'situ', 'tulis', 'aplikasi', 'gojek', 'alami', 'google', 'play', 'mohon', 'bantu']\n",
      "395 ['moga', 'fitur', 'go', 'food', 'kayak', 'ojol', 'belah', 'customer', 'nilai', 'resto', 'warung', 'sedia', 'makan', 'gak', 'sesuai', 'makan']\n",
      "396 ['senang', 'serba', 'serba', 'mudah', 'lengkap', 'mudah', 'trimakasih', 'sy', 'bahasa', 'indonesia', 'cepat', 'paham', 'trimakasih']\n",
      "397 ['bagus', 'sih', 'say', 'suka', 'alangkah', 'bagus', 'nya', 'akun', 'custamer', 'daftar', 'nya', 'paki', 'no', 'nik', 'biar', 'ga', 'akun', 'main', 'kasiahan', 'driver', 'nya', 'kadang', 'kena', 'opik', 'akun', 'abal', 'abal']\n",
      "398 ['neng', 'pake', 'banget', 'banget', 'bangeeet', 'gojek', 'lengkap', 'bikin', 'hidup', 'gw', 'gak', 'ribet', 'gopay', 'nya', 'canggih', 'banget', 'gw', 'senengin', 'gojek', 'pakai', 'kalimat', 'yg', 'asik', 'banget', 'kesan', 'lembut', 'asik', 'banget', 'yg', 'bikin', 'betah', 'buka', 'aplikasi', 'ulas', 'lengkapseneng', 'pake', 'banget', 'banget', 'bangeeet', 'gojek', 'lengkap', 'bikin', 'hidup', 'gw', 'gak', 'ribet', 'gopay', 'nya', 'canggih', 'banget', 'gw', 'senengin', 'gojek', 'pakai', 'kalimat', 'yg', 'asik', 'banget', 'kesan', 'lembut', 'asik', 'banget', 'yg', 'bikin', 'betah', 'buka', 'aplikasi', 'debesst', 'dehh', 'perfect', 'aspek']\n",
      "399 ['tolong', 'donk', 'kasih', 'tau', 'gimana', 'hapus', 'chat', 'dii', 'gojek', 'chat', 'riwayat', 'pesan', 'chat', 'yg', 'kontak', 'hp', 'cuman', 'kalo', 'orang', 'laen', 'pinjem', 'aplkasi', 'gojek', 'liat', 'chat', 'gmn', 'hapus', 'tolong', 'donk', 'kasih', 'tau', 'udah', 'bolak', 'hapus', 'data', 'bola', 'ulas', 'lengkaptolong', 'donk', 'kasih', 'tau', 'gimana', 'hapus', 'chat', 'dii', 'gojek', 'chat', 'riwayat', 'pesan', 'chat', 'yg', 'kontak', 'hp', 'cuman', 'kalo', 'orang', 'laen', 'pinjem', 'aplkasi', 'gojek', 'liat', 'chat', 'gmn', 'hapus', 'tolong', 'donk', 'kasih', 'tau', 'udah', 'bolak', 'hapus', 'data', 'bolak', 'hapus', 'apliksi', 'download', 'tetep', 'aja', 'chat', 'nya', 'kgk', 'ilang', 'help', 'me', 'please']\n"
     ]
    }
   ],
   "source": [
    "# Melakukan proses cleaning pada teks\n",
    "corpus = []\n",
    "for i in range(0, len(dataset)):\n",
    "    #re = hapus / rubah\n",
    "    review = re.sub('[^a-zA-Z]', ' ', dataset['komentar'][i])\n",
    "    review = review.lower()\n",
    "    review = review.split()    \n",
    "    # Menghilangkan kata yang tidak ada di stopwords\n",
    "    psi = StemmerFactory()\n",
    "    ps = psi.create_stemmer()\n",
    "    review = [ps.stem(word) for word in review if not word in indo]\n",
    "    print(i,review)\n",
    "    review = ' '.join(review)\n",
    "    corpus.append(review)"
   ]
  },
  {
   "cell_type": "code",
   "execution_count": 73,
   "metadata": {
    "scrolled": true
   },
   "outputs": [],
   "source": [
    "#tf-idf\n",
    "\n",
    "\n",
    "articles=np.array(corpus)\n",
    "labels=np.array(dataset['sentimen'])\n",
    "\n",
    "tf_vectorizer=TfidfVectorizer(min_df=4,max_df=0.3,ngram_range=(1,3))\n",
    "x_train_tfidf=tf_vectorizer.fit_transform(articles).toarray()\n",
    "x_test_tfidf=tf_vectorizer.transform(articles)\n",
    "\n",
    "X_train, X_test, y_train, y_test=train_test_split(x_train_tfidf,labels,test_size=0.3,random_state = 0)\n"
   ]
  },
  {
   "cell_type": "code",
   "execution_count": 74,
   "metadata": {
    "scrolled": true
   },
   "outputs": [
    {
     "data": {
      "text/plain": [
       "SVC(C=1.0, cache_size=200, class_weight=None, coef0=0.0,\n",
       "    decision_function_shape='ovr', degree=3, gamma='auto_deprecated',\n",
       "    kernel='linear', max_iter=-1, probability=False, random_state=0,\n",
       "    shrinking=True, tol=0.001, verbose=False)"
      ]
     },
     "execution_count": 74,
     "metadata": {},
     "output_type": "execute_result"
    }
   ],
   "source": [
    "# Metode SVM\n",
    "from sklearn.svm import SVC\n",
    "classifierSVM = SVC(kernel = 'linear', random_state = 0)\n",
    "classifierSVM.fit(X_train, y_train)"
   ]
  },
  {
   "cell_type": "code",
   "execution_count": 75,
   "metadata": {
    "scrolled": true
   },
   "outputs": [
    {
     "data": {
      "text/plain": [
       "GaussianNB(priors=None, var_smoothing=1e-09)"
      ]
     },
     "execution_count": 75,
     "metadata": {},
     "output_type": "execute_result"
    }
   ],
   "source": [
    "# Metode Naive Bayes\n",
    "from sklearn.naive_bayes import GaussianNB\n",
    "classifierNB = GaussianNB()\n",
    "classifierNB.fit(X_train, y_train)\n"
   ]
  },
  {
   "cell_type": "code",
   "execution_count": 76,
   "metadata": {
    "scrolled": true
   },
   "outputs": [],
   "source": [
    "# Memprediksi hasil Test Set\n",
    "y_pred_SVM = classifierSVM.predict(X_test)  # SVM\n",
    "y_pred_NB = classifierNB.predict(X_test)    # Naive Bayes"
   ]
  },
  {
   "cell_type": "code",
   "execution_count": 77,
   "metadata": {
    "scrolled": true
   },
   "outputs": [
    {
     "name": "stdout",
     "output_type": "stream",
     "text": [
      "akurasi SVM =  85\n",
      "akurasi NBC =  84\n",
      "recall SVM =  0.7083333333333334\n",
      "recall NBC =  0.7\n",
      "precision SVM =  0.7083333333333334\n",
      "precision NBC =  0.7\n"
     ]
    }
   ],
   "source": [
    "from sklearn.metrics import accuracy_score,recall_score,precision_score\n",
    "print(\"akurasi SVM = \", accuracy_score(y_test, y_pred_SVM, normalize=False))\n",
    "print(\"akurasi NBC = \", accuracy_score(y_test, y_pred_NB, normalize=False))\n",
    "\n",
    "print(\"recall SVM = \", recall_score(y_test, y_pred_SVM, average='micro'))\n",
    "print(\"recall NBC = \", recall_score(y_test, y_pred_NB, average='micro'))\n",
    "\n",
    "print(\"precision SVM = \", precision_score(y_test, y_pred_SVM, average='micro'))\n",
    "print(\"precision NBC = \", precision_score(y_test, y_pred_NB, average='micro'))\n"
   ]
  },
  {
   "cell_type": "code",
   "execution_count": null,
   "metadata": {
    "scrolled": true
   },
   "outputs": [],
   "source": []
  }
 ],
 "metadata": {
  "kernelspec": {
   "display_name": "Python 3",
   "language": "python",
   "name": "python3"
  },
  "language_info": {
   "codemirror_mode": {
    "name": "ipython",
    "version": 3
   },
   "file_extension": ".py",
   "mimetype": "text/x-python",
   "name": "python",
   "nbconvert_exporter": "python",
   "pygments_lexer": "ipython3",
   "version": "3.7.4"
  }
 },
 "nbformat": 4,
 "nbformat_minor": 2
}
