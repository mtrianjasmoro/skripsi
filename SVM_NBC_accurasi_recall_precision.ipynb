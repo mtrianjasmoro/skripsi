{
 "cells": [
  {
   "cell_type": "code",
   "execution_count": 1,
   "metadata": {},
   "outputs": [
    {
     "name": "stderr",
     "output_type": "stream",
     "text": [
      "[nltk_data] Downloading package stopwords to\n",
      "[nltk_data]     C:\\Users\\anjas\\AppData\\Roaming\\nltk_data...\n",
      "[nltk_data]   Package stopwords is already up-to-date!\n"
     ]
    }
   ],
   "source": [
    "import svmnbc\n",
    "import sys\n",
    "from PyQt5 import QtWidgets, uic"
   ]
  },
  {
   "cell_type": "code",
   "execution_count": 2,
   "metadata": {},
   "outputs": [],
   "source": [
    "app=QtWidgets.QApplication([])\n",
    "call=uic.loadUi(\"gui.ui\")\n",
    "call.show()"
   ]
  },
  {
   "cell_type": "code",
   "execution_count": 3,
   "metadata": {},
   "outputs": [],
   "source": [
    "banyak_training=float(call.in_training.currentText())/100\n",
    "asd=float(banyak_training)"
   ]
  },
  {
   "cell_type": "code",
   "execution_count": 4,
   "metadata": {},
   "outputs": [],
   "source": [
    "def hasil():  \n",
    "    svm = svmnbc.Analis(asd).svm()  \n",
    "    call.svm_l_a.setText(str(svm[0])[0:7])\n",
    "    call.svm_l_p.setText(str(svm[1])[0:7])\n",
    "    call.svm_l_r.setText(str(svm[2])[0:7])\n",
    "    call.svm_p_a.setText(str(svm[3])[0:7])\n",
    "    call.svm_p_p.setText(str(svm[4])[0:7])\n",
    "    call.svm_p_r.setText(str(svm[5])[0:7])\n",
    "    call.svm_s_a.setText(str(svm[6])[0:7])\n",
    "    call.svm_s_p.setText(str(svm[7])[0:7])\n",
    "    call.svm_s_r.setText(str(svm[8])[0:7])\n",
    "    call.svm_r_a.setText(str(svm[9])[0:7])\n",
    "    call.svm_r_p.setText(str(svm[10])[0:7])\n",
    "    call.svm_r_r.setText(str(svm[11])[0:7])\n",
    "    \n",
    "    nbc = svmnbc.Analis(asd).nbc()\n",
    "    call.nbc_a.setText(str(nbc[0])[0:7])\n",
    "    call.nbc_r.setText(str(nbc[1])[0:7])\n",
    "    call.nbc_p.setText(str(nbc[2])[0:7])"
   ]
  },
  {
   "cell_type": "code",
   "execution_count": 5,
   "metadata": {},
   "outputs": [],
   "source": [
    "def diksi():\n",
    "    kalimat=call.kal.toPlainText()\n",
    "    eks=svmnbc.Analis(asd).kal_eks(kalimat)  \n",
    "    call.psl.setText(str(eks[0][0]))\n",
    "    call.psp.setText(str(eks[1][0]))\n",
    "    call.pss.setText(str(eks[2][0]))\n",
    "    call.psr.setText(str(eks[3][0]))\n",
    "    call.pn.setText(str(eks[4][0]))"
   ]
  },
  {
   "cell_type": "code",
   "execution_count": null,
   "metadata": {},
   "outputs": [],
   "source": [
    "call.ok.clicked.connect(hasil)\n",
    "call.pred.clicked.connect(diksi)\n",
    "app.exec()"
   ]
  }
 ],
 "metadata": {
  "kernelspec": {
   "display_name": "Python 3",
   "language": "python",
   "name": "python3"
  },
  "language_info": {
   "codemirror_mode": {
    "name": "ipython",
    "version": 3
   },
   "file_extension": ".py",
   "mimetype": "text/x-python",
   "name": "python",
   "nbconvert_exporter": "python",
   "pygments_lexer": "ipython3",
   "version": "3.7.4"
  }
 },
 "nbformat": 4,
 "nbformat_minor": 2
}
