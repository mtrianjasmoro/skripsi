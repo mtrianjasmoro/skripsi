{
 "cells": [
  {
   "cell_type": "code",
   "execution_count": 1,
   "metadata": {},
   "outputs": [
    {
     "name": "stderr",
     "output_type": "stream",
     "text": [
      "[nltk_data] Downloading package stopwords to\n",
      "[nltk_data]     C:\\Users\\anjas\\AppData\\Roaming\\nltk_data...\n",
      "[nltk_data]   Package stopwords is already up-to-date!\n"
     ]
    }
   ],
   "source": [
    "import svmnbc\n",
    "import sys\n",
    "from PyQt5 import QtWidgets, uic"
   ]
  },
  {
   "cell_type": "code",
   "execution_count": 2,
   "metadata": {},
   "outputs": [],
   "source": [
    "app=QtWidgets.QApplication([])\n",
    "call=uic.loadUi(\"gui.ui\")\n",
    "call.show()"
   ]
  },
  {
   "cell_type": "code",
   "execution_count": 3,
   "metadata": {},
   "outputs": [],
   "source": [
    "def hasil(): \n",
    "    banyak_training=float(call.in_training.currentText())/100\n",
    "    asd=float(banyak_training)\n",
    "\n",
    "    in_kernel = call.in_kernel.currentText()\n",
    "    \n",
    "    svm = svmnbc.Analis(asd).svm(in_kernel)\n",
    "    nbc = svmnbc.Analis(asd).nbc()\n",
    "\n",
    "    call.svm_a.setText(str(svm[0]))\n",
    "    call.svm_r.setText(str(svm[1]))\n",
    "    call.svm_p.setText(str(svm[2]))\n",
    "    call.nbc_a.setText(str(nbc[0]))\n",
    "    call.nbc_r.setText(str(nbc[1]))\n",
    "    call.nbc_p.setText(str(nbc[2]))"
   ]
  },
  {
   "cell_type": "code",
   "execution_count": 4,
   "metadata": {},
   "outputs": [
    {
     "data": {
      "text/plain": [
       "0"
      ]
     },
     "execution_count": 4,
     "metadata": {},
     "output_type": "execute_result"
    }
   ],
   "source": [
    "call.ok.clicked.connect(hasil)\n",
    "app.exec()"
   ]
  }
 ],
 "metadata": {
  "kernelspec": {
   "display_name": "Python 3",
   "language": "python",
   "name": "python3"
  },
  "language_info": {
   "codemirror_mode": {
    "name": "ipython",
    "version": 3
   },
   "file_extension": ".py",
   "mimetype": "text/x-python",
   "name": "python",
   "nbconvert_exporter": "python",
   "pygments_lexer": "ipython3",
   "version": "3.7.4"
  }
 },
 "nbformat": 4,
 "nbformat_minor": 2
}
