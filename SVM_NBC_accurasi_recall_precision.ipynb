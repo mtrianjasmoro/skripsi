{
 "cells": [
  {
   "cell_type": "code",
   "execution_count": null,
   "metadata": {
    "scrolled": true
   },
   "outputs": [],
   "source": [
    "# Mengimpor library\n",
    "import numpy as np\n",
    "import matplotlib.pyplot as plt\n",
    "import pandas as pd\n",
    "import re\n",
    "import nltk\n",
    "import sys\n",
    "\n",
    "\n",
    "# Mendownload daftar kata yang ada (vocabulary)\n",
    "nltk.download('stopwords')\n",
    "from PyQt5 import QtWidgets, uic\n",
    "from sklearn.model_selection import train_test_split\n",
    "from sklearn.metrics import accuracy_score,recall_score,precision_score\n",
    "from sklearn.naive_bayes import GaussianNB\n",
    "from sklearn.feature_extraction.text import TfidfVectorizer\n",
    "from sklearn.svm import SVC\n",
    "from nltk.corpus import stopwords\n",
    "from Sastrawi.Stemmer.StemmerFactory import StemmerFactory\n",
    "indo = stopwords.words('indonesian')\n",
    "\n",
    "# Mengimpor dataset\n",
    "dataset = pd.read_csv('training_gojek.csv')\n"
   ]
  },
  {
   "cell_type": "code",
   "execution_count": null,
   "metadata": {
    "scrolled": true
   },
   "outputs": [],
   "source": [
    "# Melakukan proses cleaning pada teks\n",
    "corpus = []\n",
    "for i in range(0, len(dataset)):\n",
    "    #re = hapus / rubah\n",
    "    review = re.sub('[^a-zA-Z]', ' ', dataset['komentar'][i])\n",
    "    review = review.lower()\n",
    "    review = review.split()    \n",
    "    # Menghilangkan kata yang tidak ada di stopwords\n",
    "    psi = StemmerFactory()\n",
    "    ps = psi.create_stemmer()\n",
    "    review = [ps.stem(word) for word in review if not word in indo]\n",
    "    print(i,review)\n",
    "    review = ' '.join(review)\n",
    "    corpus.append(review)"
   ]
  },
  {
   "cell_type": "code",
   "execution_count": null,
   "metadata": {
    "scrolled": true
   },
   "outputs": [],
   "source": [
    "def hasil():\n",
    "    #tf-idf\n",
    "    articles=np.array(corpus)\n",
    "    labels=np.array(dataset['sentimen'])\n",
    "\n",
    "    tf_vectorizer=TfidfVectorizer(min_df=4,max_df=0.3,ngram_range=(1,3))\n",
    "    x_train_tfidf=tf_vectorizer.fit_transform(articles).toarray()\n",
    "    x_test_tfidf=tf_vectorizer.transform(articles)\n",
    "    \n",
    "    banyak_training=float(call.in_training.currentText())/100\n",
    "    asd=float(banyak_training)\n",
    "    X_train, X_test, y_train, y_test=train_test_split(x_train_tfidf,labels,test_size=banyak_training,random_state = 0)\n",
    "\n",
    "    # Metode SVM\n",
    "    in_kernel = call.in_kernel.currentText()\n",
    "    classifierSVM = SVC(kernel = in_kernel, random_state = 0, gamma='auto')\n",
    "    classifierSVM.fit(X_train, y_train)\n",
    "\n",
    "    # Metode Naive Bayes\n",
    "    classifierNB = GaussianNB()\n",
    "    classifierNB.fit(X_train, y_train)\n",
    "\n",
    "    # Memprediksi hasil Test Set\n",
    "    y_pred_SVM = classifierSVM.predict(X_test)  # SVM\n",
    "    y_pred_NB = classifierNB.predict(X_test)    # Naive Bayes\n",
    "\n",
    "    # hasil\n",
    "    svm_a = accuracy_score(y_test, y_pred_SVM, normalize=True)\n",
    "    svm_r = recall_score(y_test, y_pred_SVM, average='micro')\n",
    "    svm_p = precision_score(y_test, y_pred_SVM, average='micro')\n",
    "\n",
    "    nbc_a = accuracy_score(y_test, y_pred_NB, normalize=True)\n",
    "    nbc_r = recall_score(y_test, y_pred_NB, average='micro')\n",
    "    nbc_p = precision_score(y_test, y_pred_NB, average='micro')\n",
    "\n",
    "    call.svm_a.setText(str(svm_a))\n",
    "    call.svm_r.setText(str(svm_r))\n",
    "    call.svm_p.setText(str(svm_p))\n",
    "    call.nbc_a.setText(str(nbc_a))\n",
    "    call.nbc_r.setText(str(nbc_r))\n",
    "    call.nbc_p.setText(str(nbc_p))\n",
    "\n",
    "#     print(\"akurasi SVM = \", svm_a)\n",
    "# print(\"akurasi NBC = \", nbc_a)\n",
    "\n",
    "# print(\"recall SVM = \", svm_r)\n",
    "# print(\"recall NBC = \", nbc_r)\n",
    "\n",
    "# print(\"precision SVM = \", svm_p)\n",
    "# print(\"precision NBC = \", nbc_p)"
   ]
  },
  {
   "cell_type": "code",
   "execution_count": null,
   "metadata": {
    "scrolled": true
   },
   "outputs": [],
   "source": [
    "app=QtWidgets.QApplication([])\n",
    "call=uic.loadUi(\"gui.ui\")\n",
    "\n",
    "call.ok.clicked.connect(hasil)\n",
    "call.show()\n",
    "app.exec()"
   ]
  },
  {
   "cell_type": "code",
   "execution_count": null,
   "metadata": {},
   "outputs": [],
   "source": []
  }
 ],
 "metadata": {
  "kernelspec": {
   "display_name": "Python 3",
   "language": "python",
   "name": "python3"
  },
  "language_info": {
   "codemirror_mode": {
    "name": "ipython",
    "version": 3
   },
   "file_extension": ".py",
   "mimetype": "text/x-python",
   "name": "python",
   "nbconvert_exporter": "python",
   "pygments_lexer": "ipython3",
   "version": "3.7.4"
  }
 },
 "nbformat": 4,
 "nbformat_minor": 2
}
